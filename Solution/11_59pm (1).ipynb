{
  "nbformat": 4,
  "nbformat_minor": 0,
  "metadata": {
    "colab": {
      "name": "11:59pm.ipynb",
      "provenance": []
    },
    "kernelspec": {
      "name": "python3",
      "display_name": "Python 3"
    },
    "accelerator": "GPU"
  },
  "cells": [
    {
      "cell_type": "markdown",
      "metadata": {
        "id": "KeFy07CluMgZ"
      },
      "source": [
        "# Библиотеки"
      ]
    },
    {
      "cell_type": "code",
      "metadata": {
        "id": "_Ls5Cz4atufg"
      },
      "source": [
        "import pandas as pd\n",
        "import numpy as np\n",
        "import datetime\n",
        "import joblib"
      ],
      "execution_count": 1,
      "outputs": []
    },
    {
      "cell_type": "code",
      "metadata": {
        "id": "0OIjpmI1uXaJ"
      },
      "source": [
        "# Установка из драйва\n",
        "from pydrive.auth import GoogleAuth\n",
        "from pydrive.drive import GoogleDrive\n",
        "from google.colab import auth\n",
        "from oauth2client.client import GoogleCredentials"
      ],
      "execution_count": 2,
      "outputs": []
    },
    {
      "cell_type": "code",
      "metadata": {
        "id": "HFnz85K9qhvH"
      },
      "source": [
        "from sklearn.cluster import KMeans ,AgglomerativeClustering"
      ],
      "execution_count": 3,
      "outputs": []
    },
    {
      "cell_type": "code",
      "metadata": {
        "id": "bbhghnBByQ6M"
      },
      "source": [
        "from sklearn.model_selection import train_test_split\n",
        "from scipy.sparse import csr_matrix\n",
        "from sklearn.neighbors import NearestNeighbors\n",
        "import collections"
      ],
      "execution_count": 4,
      "outputs": []
    },
    {
      "cell_type": "code",
      "metadata": {
        "id": "5W3Rm40puV85",
        "outputId": "b9778346-464d-4378-e169-3b8684a3e381",
        "colab": {
          "base_uri": "https://localhost:8080/"
        }
      },
      "source": [
        "!pip install PyDrive"
      ],
      "execution_count": 5,
      "outputs": [
        {
          "output_type": "stream",
          "text": [
            "Requirement already satisfied: PyDrive in /usr/local/lib/python3.6/dist-packages (1.3.1)\n",
            "Requirement already satisfied: oauth2client>=4.0.0 in /usr/local/lib/python3.6/dist-packages (from PyDrive) (4.1.3)\n",
            "Requirement already satisfied: google-api-python-client>=1.2 in /usr/local/lib/python3.6/dist-packages (from PyDrive) (1.7.12)\n",
            "Requirement already satisfied: PyYAML>=3.0 in /usr/local/lib/python3.6/dist-packages (from PyDrive) (3.13)\n",
            "Requirement already satisfied: six>=1.6.1 in /usr/local/lib/python3.6/dist-packages (from oauth2client>=4.0.0->PyDrive) (1.15.0)\n",
            "Requirement already satisfied: rsa>=3.1.4 in /usr/local/lib/python3.6/dist-packages (from oauth2client>=4.0.0->PyDrive) (4.6)\n",
            "Requirement already satisfied: httplib2>=0.9.1 in /usr/local/lib/python3.6/dist-packages (from oauth2client>=4.0.0->PyDrive) (0.17.4)\n",
            "Requirement already satisfied: pyasn1>=0.1.7 in /usr/local/lib/python3.6/dist-packages (from oauth2client>=4.0.0->PyDrive) (0.4.8)\n",
            "Requirement already satisfied: pyasn1-modules>=0.0.5 in /usr/local/lib/python3.6/dist-packages (from oauth2client>=4.0.0->PyDrive) (0.2.8)\n",
            "Requirement already satisfied: google-auth>=1.4.1 in /usr/local/lib/python3.6/dist-packages (from google-api-python-client>=1.2->PyDrive) (1.17.2)\n",
            "Requirement already satisfied: uritemplate<4dev,>=3.0.0 in /usr/local/lib/python3.6/dist-packages (from google-api-python-client>=1.2->PyDrive) (3.0.1)\n",
            "Requirement already satisfied: google-auth-httplib2>=0.0.3 in /usr/local/lib/python3.6/dist-packages (from google-api-python-client>=1.2->PyDrive) (0.0.4)\n",
            "Requirement already satisfied: cachetools<5.0,>=2.0.0 in /usr/local/lib/python3.6/dist-packages (from google-auth>=1.4.1->google-api-python-client>=1.2->PyDrive) (4.1.1)\n",
            "Requirement already satisfied: setuptools>=40.3.0 in /usr/local/lib/python3.6/dist-packages (from google-auth>=1.4.1->google-api-python-client>=1.2->PyDrive) (50.3.2)\n"
          ],
          "name": "stdout"
        }
      ]
    },
    {
      "cell_type": "code",
      "metadata": {
        "id": "TsFTWR6av3mE",
        "outputId": "///",
        "colab": {
          "base_uri": "https://localhost:8080/"
        }
      },
      "source": [
        "!pip install yandex-geocoder"
      ],
      "execution_count": 6,
      "outputs": [
        {
          "output_type": "stream",
          "text": [
            "Requirement already satisfied: yandex-geocoder in /usr/local/lib/python3.6/dist-packages (2.0.0)\n",
            "Requirement already satisfied: requests~=2.22 in /usr/local/lib/python3.6/dist-packages (from yandex-geocoder) (2.23.0)\n",
            "Requirement already satisfied: idna<3,>=2.5 in /usr/local/lib/python3.6/dist-packages (from requests~=2.22->yandex-geocoder) (2.10)\n",
            "Requirement already satisfied: urllib3!=1.25.0,!=1.25.1,<1.26,>=1.21.1 in /usr/local/lib/python3.6/dist-packages (from requests~=2.22->yandex-geocoder) (1.24.3)\n",
            "Requirement already satisfied: certifi>=2017.4.17 in /usr/local/lib/python3.6/dist-packages (from requests~=2.22->yandex-geocoder) (2020.6.20)\n",
            "Requirement already satisfied: chardet<4,>=3.0.2 in /usr/local/lib/python3.6/dist-packages (from requests~=2.22->yandex-geocoder) (3.0.4)\n"
          ],
          "name": "stdout"
        }
      ]
    },
    {
      "cell_type": "code",
      "metadata": {
        "id": "xN542VcVvwi7"
      },
      "source": [
        "from decimal import Decimal\n",
        "from yandex_geocoder import Client\n",
        "#Key API (Вставить ключ API)\n",
        "client = Client(\"Your Token")"
      ],
      "execution_count": 74,
      "outputs": []
    },
    {
      "cell_type": "markdown",
      "metadata": {
        "id": "BY6dp0HfuRGt"
      },
      "source": [
        "# Подтягиваем данные"
      ]
    },
    {
      "cell_type": "code",
      "metadata": {
        "id": "Tmhsd8RzuUQD"
      },
      "source": [
        "# Authenticate and create the PyDrive client.\n",
        "auth.authenticate_user()\n",
        "gauth = GoogleAuth()\n",
        "gauth.credentials = GoogleCredentials.get_application_default()\n",
        "drive = GoogleDrive(gauth)\n",
        "\n",
        "urls= ['10kXYfu48klaNaMCtozYrGNJkZiHKLq5F','1S7VC63UML5K1TLYkpAjQdkYnosxEWEJc',\n",
        "       '1alIPzv94_OaCSdqK2uhahjpSvRN98AyR','1paKd8b54f3PIQSHeNY7rsm3LpU9lEzkQ',\n",
        "       '15lwZSD-OODXjh-UkkrBhh9R3EhfcRzLh','1sTcoYSqoU59wVV57WgTgEor018WqnNZx',\n",
        "       '1xR_GqpKgFC5oBELWszTRjnsf28Usn0vb']\n",
        "\n",
        "for c in urls:\n",
        "    file_id = c\n",
        "    downloaded = drive.CreateFile({'id':file_id})\n",
        "    downloaded.FetchMetadata(fetch_all=True)\n",
        "    downloaded.GetContentFile(downloaded.metadata['title'])"
      ],
      "execution_count": 8,
      "outputs": []
    },
    {
      "cell_type": "markdown",
      "metadata": {
        "id": "LzA8PhGNv96t"
      },
      "source": [
        "## Функции"
      ]
    },
    {
      "cell_type": "markdown",
      "metadata": {
        "id": "KKszrKImyCts"
      },
      "source": [
        "Импорт данных"
      ]
    },
    {
      "cell_type": "code",
      "metadata": {
        "id": "QuS52EzuwSux"
      },
      "source": [
        "url = ['Каталог.xlsx', 'final_event.csv', 'org_hackaton.csv', \n",
        "       'final_book.csv', 'final_org.csv','model_knn_book',\n",
        "       'model_knn_org']\n",
        "\n",
        "def importData(url):\n",
        "    dir = '/content/'\n",
        "    # Каталог\n",
        "    catalog = pd.read_excel(dir+url[0]).drop(columns=['p084a'])\n",
        "    catalog['genre'] = catalog.p650a.str.replace('. ',';').str.split(';',expand=True)[0].copy()\n",
        "    # Каталог\n",
        "    event = pd.read_csv(dir+url[1])\n",
        "    # Данные об организациях\n",
        "    data3 = pd.read_csv(dir+url[2], sep=';')\n",
        "    # Книги\n",
        "    book_user = pd.read_csv(dir+url[3])\n",
        "    # Кружки\n",
        "    organiz = pd.read_csv(dir+url[4])\n",
        "    # Импртируем МО\n",
        "    model_book = joblib.load(dir+url[5])\n",
        "    model_org = joblib.load(dir+url[6])\n",
        "    return (catalog,event,data3,book_user,organiz,model_book,model_org)"
      ],
      "execution_count": 9,
      "outputs": []
    },
    {
      "cell_type": "markdown",
      "metadata": {
        "id": "omkG2mKYyEFg"
      },
      "source": [
        "Взаимодействие с пользователем Библиотек"
      ]
    },
    {
      "cell_type": "code",
      "metadata": {
        "id": "NqcjCoDr1ogf"
      },
      "source": [
        "def userInputB(hello, fronts, df):\n",
        "    while hello:\n",
        "        hello = input(\"У вас есть читательский номер? Введите 'Да' или 'Нет' \")\n",
        "        if (hello == 'Да') | (hello == 'да'):\n",
        "            id = int(input(\"Введите читательский номер: \"))\n",
        "            df1 = df[df['ИД читателя'] == id]\n",
        "            if len(df1) == 0:\n",
        "                return print('Неверный читательский номер. Отмена!')\n",
        "            else:\n",
        "                df1 = df1.drop(columns=['genre','age_range']).set_index(['ИД читателя'])  \n",
        "                return (df1, df1['Возраст'].mean())\n",
        "        elif (hello == 'Нет') | (hello == 'нет'):\n",
        "            #print(\"Введите ваш возраст: \")\n",
        "            age_1 = input(\"Введите ваш возраст: \")\n",
        "            age_2 = age_range(age_1)\n",
        "            ganre_1 = input(\"Какой жанр ищем? C большой буквы на русском: \")\n",
        "            k = True\n",
        "            while k:\n",
        "                if ganre_1[:1] in fronts[0].values.tolist():\n",
        "                    k = False\n",
        "                else:\n",
        "                    ganre_1 = input(\"Нет такого! Какой жанр ищем? C большой буквы на русском: \")\n",
        "            period = input(\"Какое среднее время для чтения книги вам нужно в количестве дней: \")\n",
        "            df1 = df[(df.classif == np.where(fronts[0] == ganre_1[:1])[0][0]) &\n",
        "                     (df['Период'] < int(period)) &\n",
        "                     (df.age_range_code == int(age_2))][:10].copy()\n",
        "            df1['Возраст'] = int(age_1)\n",
        "            df1 = df1.drop(columns=['genre','age_range']).set_index(['ИД читателя'])\n",
        "\n",
        "            return (df1, df1['Возраст'].mean())"
      ],
      "execution_count": 10,
      "outputs": []
    },
    {
      "cell_type": "markdown",
      "metadata": {
        "id": "YtIwIjEpaKdM"
      },
      "source": [
        "Взаимодействие с пользователем Кружков"
      ]
    },
    {
      "cell_type": "code",
      "metadata": {
        "id": "IKUPCnylbFG5"
      },
      "source": [
        "def userInputO(hello, fronts, df):\n",
        "    while hello:\n",
        "        hello = input(\"Вам известен ваш id ученика? Введите 'Да' или 'Нет' \")\n",
        "        if (hello == 'Да') | (hello == 'да'):\n",
        "            id = int(input(\"Введите id ученика: \"))\n",
        "            df1 = df[df['id_ученика'] == id]\n",
        "            if len(df1) == 0:\n",
        "                return print('Неверный id ученика. Отмена!')\n",
        "            else:\n",
        "                df1 = df1.drop(columns=['Наименование_услуги','age_range']).set_index(['id_ученика']).astype(int)\n",
        "                return (df1, df1['возраст'].mean())\n",
        "        elif (hello == 'Нет') | (hello == 'нет'):\n",
        "            #print(\"Введите ваш возраст: \")\n",
        "            age_1 = input(\"Введите ваш возраст: \")\n",
        "            age_2 = age_range(age_1)\n",
        "\n",
        "            ganre_1 = input(\"Что вам нравится? C большой буквы на русском: \")\n",
        "            k = True\n",
        "            while k:\n",
        "                if ganre_1[:1] in fronts[0].values.tolist():\n",
        "                    k = False\n",
        "                else:\n",
        "                    ganre_1 = input(\"Нет такого! Какой жанр ищем? C большой буквы на русском: \")\n",
        "            \n",
        "            gender = input(\"Ваш пол: \")\n",
        "            g = True\n",
        "            while g:\n",
        "                if (gender[:1] == 'M') | (gender[:1] == 'м'):\n",
        "                    gender = 0\n",
        "                    g = False\n",
        "                elif (gender[:1] == 'Ж') | (gender[:1] == 'ж'):\n",
        "                    gender = 1\n",
        "                    g = False\n",
        "                else:\n",
        "                    gender = input(\"Это что ещё такое? Мужской или женский: \")\n",
        "            \n",
        "            df1 = df[(df.classif == np.where(fronts[0] == ganre_1[:1])[0][0]) &\n",
        "                     (df['пол'] == gender) &\n",
        "                     (df.age_range_code == int(age_2))][:10].copy()\n",
        "            df1['возраст'] = int(age_1)\n",
        "            df1 = df1.drop(columns=['Наименование_услуги','age_range']).set_index(['id_ученика']).astype(int)\n",
        "\n",
        "            return (df1, df1['возраст'].mean())"
      ],
      "execution_count": 11,
      "outputs": []
    },
    {
      "cell_type": "markdown",
      "metadata": {
        "id": "N7wLYUgg5K-n"
      },
      "source": [
        "### Прочее"
      ]
    },
    {
      "cell_type": "markdown",
      "metadata": {
        "id": "RWSmqUaz7PeS"
      },
      "source": [
        "Возраст"
      ]
    },
    {
      "cell_type": "code",
      "metadata": {
        "id": "DATJABCq5KVL"
      },
      "source": [
        "def age_range(val):\n",
        "    val = int(val)\n",
        "    if val < 15:\n",
        "        #val = 'до 14'\n",
        "        val = 0\n",
        "    elif val > 14 and val < 19:\n",
        "        #val = 'от 14 до 18'\n",
        "        val = 1\n",
        "    elif val > 19 and val < 25:\n",
        "        #val = 'от 18 до 24'\n",
        "        val = 2\n",
        "    elif val > 25 and val < 35:\n",
        "        #val = 'от 25 до 34'\n",
        "        val = 3\n",
        "    elif val > 35 and val < 55:\n",
        "        #val = 'от 35 до 55'\n",
        "        val = 4\n",
        "    else:\n",
        "        #val = 'от 55'\n",
        "        val = 5\n",
        "    return val"
      ],
      "execution_count": 20,
      "outputs": []
    },
    {
      "cell_type": "markdown",
      "metadata": {
        "id": "K-hzm-eb7QgD"
      },
      "source": [
        "Жанры"
      ]
    },
    {
      "cell_type": "code",
      "metadata": {
        "id": "ZeUbRgXO5ubk"
      },
      "source": [
        "fronts = ['А', 'Б', 'В', 'Г', 'Д', 'Е', 'Ж', 'З', 'И', 'К', 'Л', 'М', 'Н',\n",
        "          'О', 'П', 'Р', 'С', 'Т', 'У', 'Ф', 'Х', 'Ц', 'Ч', 'Ш', 'Э', 'Ю', 'Я']\n",
        "fronts = pd.DataFrame(fronts).reset_index()"
      ],
      "execution_count": 13,
      "outputs": []
    },
    {
      "cell_type": "markdown",
      "metadata": {
        "id": "WaGUM02hQfA2"
      },
      "source": [
        "Предсказание похожих Книг"
      ]
    },
    {
      "cell_type": "code",
      "metadata": {
        "id": "Zuz5qtIKSleK"
      },
      "source": [
        "def freqInfo(df, search, col):\n",
        "    result = []\n",
        "    for c in search:\n",
        "        result.append(df[df.index == df.index[c]][col].drop_duplicates().values.tolist())\n",
        "        \n",
        "    recom_list = []\n",
        "    for i in range(len(result)):\n",
        "        for j in range(len(result[i])):\n",
        "            recom_list.append(result[i][j])\n",
        "    counter=collections.Counter(recom_list)\n",
        "    return (sorted(counter, key=counter.get, reverse=True)[:20])"
      ],
      "execution_count": 14,
      "outputs": []
    },
    {
      "cell_type": "code",
      "metadata": {
        "id": "3xmEUK3FTWD1"
      },
      "source": [
        "def searchBook(df, train, bone, model_knn, col, data3, catalog, mode):\n",
        "    search = []\n",
        "    for i in range(len(df)):\n",
        "        #Определяем дистанцию между авторами\n",
        "        distances, indices = model_knn.kneighbors(df.iloc[i].values.reshape(1, -1), n_neighbors = 20)\n",
        "        for j in range(0, len(indices.flatten())):\n",
        "            search.append(indices.flatten()[j])\n",
        "    \n",
        "    counter=collections.Counter(search)\n",
        "    search = sorted(counter, key=counter.get, reverse=True)[:20]\n",
        "    \n",
        "    result = pd.DataFrame([])\n",
        "\n",
        "    if mode == 1:\n",
        "        for c in freqInfo(train, search, col):\n",
        "            result = result.append(train[train[col] == c])\n",
        "        if col == 'ИД Каталожной записи':\n",
        "            result = pd.merge(result[col],catalog,how='left',left_on=\n",
        "                              col,right_on='doc_id').drop(columns=['doc_id','genre']).drop_duplicates()\n",
        "        else:\n",
        "            result = result[['Наименование_услуги', col,'years', 'weeks', 'months', 'days']]\n",
        "            result = pd.merge(result, data3, how='left', on=col)\n",
        "\n",
        "    elif mode == 2: \n",
        "        for c in freqInfo(train, search, 'age_range_code'):\n",
        "            for cl in freqInfo(train, search, 'classif'):\n",
        "                result = result.append(bone[(bone.age_range_code == c) & (bone.classif == cl)])\n",
        "        if col == 'id_организации':\n",
        "            result = result[['Наименование_услуги', col]].drop_duplicates()\n",
        "            result = pd.merge(result, data3, how='left', on=col)\n",
        "        else:\n",
        "            result = pd.merge(result[col],catalog,how='left',left_on=col,right_on='doc_id').drop(columns=['doc_id','genre'])\n",
        "\n",
        "    return (result)"
      ],
      "execution_count": 44,
      "outputs": []
    },
    {
      "cell_type": "markdown",
      "metadata": {
        "id": "9XMOdsKkt3TO"
      },
      "source": [
        "Местоположение"
      ]
    },
    {
      "cell_type": "code",
      "metadata": {
        "id": "0c-VdwD4qxeA"
      },
      "source": [
        "def kmeanModel(position, event, age):\n",
        "    result = event[(event['from'] < age) & (event['to'] > age)].copy()\n",
        "    #Создает 125  кластеров, используя average кластеризацию. (Районов в Москве)\n",
        "    agc = AgglomerativeClustering(n_clusters =125 , affinity='cosine', linkage='average')\n",
        "    result['pickup cluster'] = agc.fit_predict(result[['longitude','latitude']])\n",
        "    \n",
        "    #Создает 125  кластеров, используя алгоритм кластеризации k-средних.\n",
        "    kmeans = KMeans(125)\n",
        "    clusters = kmeans.fit_predict(result[['longitude','latitude']])\n",
        "    result['pickup cluster'] = kmeans.predict(result[['longitude','latitude']])\n",
        "\n",
        "    result['distance'] = result.apply(haversine_distance, axis = 1)\n",
        "    result = result.sort_values(by='distance', ascending=True)[:50]\n",
        "    result = result.sort_values(by='Дата начала мероприятия', ascending=True)[:25]\n",
        "    result = result.drop(columns=['id', 'Статус', 'Код категории мероприятия','from','to','latitude',\t'longitude', 'pickup cluster', 'distance'])\n",
        "    \n",
        "    return result"
      ],
      "execution_count": 100,
      "outputs": []
    },
    {
      "cell_type": "code",
      "metadata": {
        "id": "AQFITBpukS-t"
      },
      "source": [
        "def haversine_distance(row):\n",
        "    lat_p, lon_p = row['longitude'], row['latitude']\n",
        "    lat_d, lon_d = longitude, latitude\n",
        "    radius =  6371 # km\n",
        "\n",
        "    dlat = np.radians(lat_d - lat_p)\n",
        "    dlon = np.radians(lon_d - lon_p)\n",
        "    a = np.sin(dlat/2) * np.sin(dlat/2) + np.cos(np.radians(lat_p)) * np.cos(np.radians(lat_d)) * np.sin(dlon/2) * np.sin(dlon/2)\n",
        "    c = 2 * np.arctan2(np.sqrt(a), np.sqrt(1-a))\n",
        "    distance = radius * c\n",
        "\n",
        "    return distance"
      ],
      "execution_count": 102,
      "outputs": []
    },
    {
      "cell_type": "markdown",
      "metadata": {
        "id": "JSCpZxorxy8f"
      },
      "source": [
        "# Рекомендательный алгоритм"
      ]
    },
    {
      "cell_type": "markdown",
      "metadata": {
        "id": "94Cpr3-502JS"
      },
      "source": [
        "Параметры пользователя (опрос)"
      ]
    },
    {
      "cell_type": "markdown",
      "metadata": {
        "id": "UTApMzu806nw"
      },
      "source": [
        "Рекомендации"
      ]
    },
    {
      "cell_type": "code",
      "metadata": {
        "id": "p0q3dZ6bxyJq"
      },
      "source": [
        "catalog, event, data3, book_user, organiz, model_book, model_org = importData(url)"
      ],
      "execution_count": 46,
      "outputs": []
    },
    {
      "cell_type": "code",
      "metadata": {
        "id": "I_ARa9uCdylp",
        "outputId": "9b9e45be-7a2b-4378-b1e8-fded8d3315f7",
        "colab": {
          "base_uri": "https://localhost:8080/",
          "height": 1000
        }
      },
      "source": [
        "print(\"Для того, чтобы протестировать рекомендательный сервис, необходимо выбрать режим:\")\n",
        "print()\n",
        "print(\"Режим по истории посещения библиотек, порекомендовать книги?\")\n",
        "print(\"Нажми 1\")\n",
        "print(\"Режим по истории посещения библиотек, порекомендовать ближайшие мероприятия и кружки?\")\n",
        "print(\"Нажми 2\")\n",
        "print(\"Режим по истории посещения кружков, порекомендовать кружки?\")\n",
        "print(\"Нажми 3\")\n",
        "print(\"Режим по истории посещения кружков, порекомендовать ближайшие мероприятия и подходящие по интересам книги?\")\n",
        "print(\"Нажми 4\")\n",
        "\n",
        "tps = input(\"Что ищем? \")\n",
        "if int(tps) < 3:\n",
        "    df, age = userInputB(True, fronts, book_user)\n",
        "    mode = int(tps)\n",
        "    train = book_user\n",
        "    bone = organiz\n",
        "    model = model_book\n",
        "    if mode == 1:\n",
        "        col = 'ИД Каталожной записи'\n",
        "    else:\n",
        "        col = 'id_ученика'\n",
        "else:\n",
        "    df, age = userInputO(True, fronts, organiz)\n",
        "    mode = int(tps) // 2\n",
        "    train = book_user\n",
        "    bone = organiz\n",
        "    model = model_org\n",
        "    if mode == 1:\n",
        "        col = 'ИД Каталожной записи'\n",
        "    else:\n",
        "        col = 'id_ученика'\n",
        "\n",
        "result = searchBook(df, train, bone, model, col, data3, catalog, mode)\n",
        "\n",
        "if col == 'ИД Каталожной записи':\n",
        "    result = result.drop(columns=['ИД Каталожной записи','p490a','p260b','p521a']).dropna()[:20]\n",
        "else:\n",
        "    result = result.drop(columns=['id_организации']).dropna()[:20]\n",
        "\n",
        "result"
      ],
      "execution_count": 114,
      "outputs": [
        {
          "output_type": "stream",
          "text": [
            "Для того, чтобы протестировать рекомендательный сервис, необходимо выбрать режим:\n",
            "\n",
            "Режим по истории посещения библиотек, порекомендовать книги?\n",
            "Нажми 1\n",
            "Режим по истории посещения библиотек, порекомендовать ближайшие мероприятия и кружки?\n",
            "Нажми 2\n",
            "Режим по истории посещения кружков, порекомендовать кружки?\n",
            "Нажми 3\n",
            "Режим по истории посещения кружков, порекомендовать ближайшие мероприятия и подходящие по интересам книги?\n",
            "Нажми 4\n",
            "Что ищем? 4\n",
            "Вам известен ваш id ученика? Введите 'Да' или 'Нет' нет\n",
            "Введите ваш возраст: 24\n",
            "Что вам нравится? C большой буквы на русском: Хакатоны\n",
            "Ваш пол: мужской\n"
          ],
          "name": "stdout"
        },
        {
          "output_type": "execute_result",
          "data": {
            "text/html": [
              "<div>\n",
              "<style scoped>\n",
              "    .dataframe tbody tr th:only-of-type {\n",
              "        vertical-align: middle;\n",
              "    }\n",
              "\n",
              "    .dataframe tbody tr th {\n",
              "        vertical-align: top;\n",
              "    }\n",
              "\n",
              "    .dataframe thead th {\n",
              "        text-align: right;\n",
              "    }\n",
              "</style>\n",
              "<table border=\"1\" class=\"dataframe\">\n",
              "  <thead>\n",
              "    <tr style=\"text-align: right;\">\n",
              "      <th></th>\n",
              "      <th>Наименование_услуги</th>\n",
              "      <th>полное_наименование</th>\n",
              "      <th>краткое_наименование</th>\n",
              "      <th>улица</th>\n",
              "      <th>Метро</th>\n",
              "    </tr>\n",
              "  </thead>\n",
              "  <tbody>\n",
              "    <tr>\n",
              "      <th>0</th>\n",
              "      <td>Хоровое пение</td>\n",
              "      <td>Государственное бюджетное учреждение дополните...</td>\n",
              "      <td>ГБУДО г. Москвы «ДМШ им. К.Н.Игумнова»</td>\n",
              "      <td>улица Покровка</td>\n",
              "      <td>Курская (Арбатско-Покровская)</td>\n",
              "    </tr>\n",
              "    <tr>\n",
              "      <th>1</th>\n",
              "      <td>Хоровое пение</td>\n",
              "      <td>Государственное бюджетное учреждение дополните...</td>\n",
              "      <td>ГБУДО г.Москвы «Детская школа искусств №11»</td>\n",
              "      <td>улица Паустовского</td>\n",
              "      <td>Новоясеневская</td>\n",
              "    </tr>\n",
              "    <tr>\n",
              "      <th>2</th>\n",
              "      <td>Хореографический ансамбль  Ритмы детства-2 Ста...</td>\n",
              "      <td>Государственное бюджетное учреждение культуры ...</td>\n",
              "      <td>ГБУК г. Москвы \"КЦ \"Москворечье\"</td>\n",
              "      <td>Каширское шоссе</td>\n",
              "      <td>Кантемировская</td>\n",
              "    </tr>\n",
              "    <tr>\n",
              "      <th>3</th>\n",
              "      <td>Хореографический ансамбль  Ритмы детства-2 Ста...</td>\n",
              "      <td>Государственное бюджетное учреждение культуры ...</td>\n",
              "      <td>ГБУК г. Москвы \"КЦ \"Москворечье\"</td>\n",
              "      <td>Каширское шоссе</td>\n",
              "      <td>Каширская (Замоскворецкая)</td>\n",
              "    </tr>\n",
              "    <tr>\n",
              "      <th>4</th>\n",
              "      <td>Хореографический ансамбль  Ритмы детства-2 Ста...</td>\n",
              "      <td>Государственное бюджетное учреждение культуры ...</td>\n",
              "      <td>ГБУК г. Москвы \"КЦ \"Москворечье\"</td>\n",
              "      <td>Каширское шоссе</td>\n",
              "      <td>Каширская (Каховская)</td>\n",
              "    </tr>\n",
              "    <tr>\n",
              "      <th>5</th>\n",
              "      <td>Художественная студия стАРТ</td>\n",
              "      <td>Государственное бюджетное учреждение культуры ...</td>\n",
              "      <td>ГБУК г. Москвы ТКС \"Орехово\"</td>\n",
              "      <td>Борисовский проезд</td>\n",
              "      <td>Домодедовская</td>\n",
              "    </tr>\n",
              "    <tr>\n",
              "      <th>6</th>\n",
              "      <td>Художественная студия стАРТ</td>\n",
              "      <td>Государственное бюджетное учреждение культуры ...</td>\n",
              "      <td>ГБУК г. Москвы ТКС \"Орехово\"</td>\n",
              "      <td>Борисовский проезд</td>\n",
              "      <td>Красногвардейская</td>\n",
              "    </tr>\n",
              "    <tr>\n",
              "      <th>7</th>\n",
              "      <td>Художественная студия стАРТ</td>\n",
              "      <td>Государственное бюджетное учреждение культуры ...</td>\n",
              "      <td>ГБУК г. Москвы ТКС \"Орехово\"</td>\n",
              "      <td>Борисовский проезд</td>\n",
              "      <td>Шипиловская</td>\n",
              "    </tr>\n",
              "    <tr>\n",
              "      <th>8</th>\n",
              "      <td>Художественная студия стАРТ</td>\n",
              "      <td>Государственное бюджетное учреждение культуры ...</td>\n",
              "      <td>ГБУК г. Москвы ТКС \"Орехово\"</td>\n",
              "      <td>Борисовский проезд</td>\n",
              "      <td>Орехово</td>\n",
              "    </tr>\n",
              "    <tr>\n",
              "      <th>9</th>\n",
              "      <td>Хореографический ансамбль Сувенир</td>\n",
              "      <td>Государственное бюджетное учреждение культуры ...</td>\n",
              "      <td>ГБУК г. Москвы \"КЦ \"Авангард\"</td>\n",
              "      <td>улица Генерала Белова</td>\n",
              "      <td>Домодедовская</td>\n",
              "    </tr>\n",
              "    <tr>\n",
              "      <th>10</th>\n",
              "      <td>Хореографический ансамбль Сувенир</td>\n",
              "      <td>Государственное бюджетное учреждение культуры ...</td>\n",
              "      <td>ГБУК г. Москвы \"КЦ \"Авангард\"</td>\n",
              "      <td>улица Генерала Белова</td>\n",
              "      <td>Шипиловская</td>\n",
              "    </tr>\n",
              "    <tr>\n",
              "      <th>11</th>\n",
              "      <td>Хореографический ансамбль Сувенир</td>\n",
              "      <td>Государственное бюджетное учреждение культуры ...</td>\n",
              "      <td>ГБУК г. Москвы \"КЦ \"Авангард\"</td>\n",
              "      <td>улица Генерала Белова</td>\n",
              "      <td>Орехово</td>\n",
              "    </tr>\n",
              "    <tr>\n",
              "      <th>12</th>\n",
              "      <td>Хореографический коллектив Светлячок</td>\n",
              "      <td>Государственное бюджетное учреждение культуры ...</td>\n",
              "      <td>ГБУК г.Москвы \"ТКС \"Товарищ\"</td>\n",
              "      <td>Заревый проезд</td>\n",
              "      <td>Бабушкинская</td>\n",
              "    </tr>\n",
              "    <tr>\n",
              "      <th>13</th>\n",
              "      <td>Хореографический коллектив Светлячок</td>\n",
              "      <td>Государственное бюджетное учреждение культуры ...</td>\n",
              "      <td>ГБУК г.Москвы \"ТКС \"Товарищ\"</td>\n",
              "      <td>Заревый проезд</td>\n",
              "      <td>Бибирево</td>\n",
              "    </tr>\n",
              "    <tr>\n",
              "      <th>14</th>\n",
              "      <td>Хореографический коллектив Светлячок</td>\n",
              "      <td>Государственное бюджетное учреждение культуры ...</td>\n",
              "      <td>ГБУК г.Москвы \"ТКС \"Товарищ\"</td>\n",
              "      <td>Заревый проезд</td>\n",
              "      <td>Медведково</td>\n",
              "    </tr>\n",
              "    <tr>\n",
              "      <th>15</th>\n",
              "      <td>Хоровое пение</td>\n",
              "      <td>Государственное бюджетное учреждение дополните...</td>\n",
              "      <td>ГБУДО г. Москвы ДШИ \"Юность\"</td>\n",
              "      <td>Большая Черёмушкинская улица</td>\n",
              "      <td>Нагорная</td>\n",
              "    </tr>\n",
              "    <tr>\n",
              "      <th>16</th>\n",
              "      <td>Хоровое фортепиано</td>\n",
              "      <td>Государственное бюджетное  учреждение дополнит...</td>\n",
              "      <td>ГБУДО г. Москвы ДШИ \"Тутти\"</td>\n",
              "      <td>улица Красного Маяка</td>\n",
              "      <td>Пражская</td>\n",
              "    </tr>\n",
              "    <tr>\n",
              "      <th>17</th>\n",
              "      <td>Хорус-группа Б К172-16</td>\n",
              "      <td>ГОСУДАРСТВЕННОЕ БЮДЖЕТНОЕ УЧРЕЖДЕНИЕ КУЛЬТУРЫ ...</td>\n",
              "      <td>ГБУК Г. МОСКВЫ \"КЦ \"РУБЛЕВО\"</td>\n",
              "      <td>улица Василия Ботылёва</td>\n",
              "      <td>Крылатское</td>\n",
              "    </tr>\n",
              "    <tr>\n",
              "      <th>18</th>\n",
              "      <td>Хорус-группа Б К172-16</td>\n",
              "      <td>ГОСУДАРСТВЕННОЕ БЮДЖЕТНОЕ УЧРЕЖДЕНИЕ КУЛЬТУРЫ ...</td>\n",
              "      <td>ГБУК Г. МОСКВЫ \"КЦ \"РУБЛЕВО\"</td>\n",
              "      <td>улица Василия Ботылёва</td>\n",
              "      <td>Молодежная</td>\n",
              "    </tr>\n",
              "    <tr>\n",
              "      <th>19</th>\n",
              "      <td>Хорус-группа Б К172-16</td>\n",
              "      <td>ГОСУДАРСТВЕННОЕ БЮДЖЕТНОЕ УЧРЕЖДЕНИЕ КУЛЬТУРЫ ...</td>\n",
              "      <td>ГБУК Г. МОСКВЫ \"КЦ \"РУБЛЕВО\"</td>\n",
              "      <td>улица Василия Ботылёва</td>\n",
              "      <td>Строгино</td>\n",
              "    </tr>\n",
              "  </tbody>\n",
              "</table>\n",
              "</div>"
            ],
            "text/plain": [
              "                                  Наименование_услуги  ...                          Метро\n",
              "0                                       Хоровое пение  ...  Курская (Арбатско-Покровская)\n",
              "1                                       Хоровое пение  ...                 Новоясеневская\n",
              "2   Хореографический ансамбль  Ритмы детства-2 Ста...  ...                 Кантемировская\n",
              "3   Хореографический ансамбль  Ритмы детства-2 Ста...  ...     Каширская (Замоскворецкая)\n",
              "4   Хореографический ансамбль  Ритмы детства-2 Ста...  ...          Каширская (Каховская)\n",
              "5                         Художественная студия стАРТ  ...                  Домодедовская\n",
              "6                         Художественная студия стАРТ  ...              Красногвардейская\n",
              "7                         Художественная студия стАРТ  ...                    Шипиловская\n",
              "8                         Художественная студия стАРТ  ...                        Орехово\n",
              "9                   Хореографический ансамбль Сувенир  ...                  Домодедовская\n",
              "10                  Хореографический ансамбль Сувенир  ...                    Шипиловская\n",
              "11                  Хореографический ансамбль Сувенир  ...                        Орехово\n",
              "12               Хореографический коллектив Светлячок  ...                   Бабушкинская\n",
              "13               Хореографический коллектив Светлячок  ...                       Бибирево\n",
              "14               Хореографический коллектив Светлячок  ...                     Медведково\n",
              "15                                      Хоровое пение  ...                       Нагорная\n",
              "16                                 Хоровое фортепиано  ...                       Пражская\n",
              "17                             Хорус-группа Б К172-16  ...                     Крылатское\n",
              "18                             Хорус-группа Б К172-16  ...                     Молодежная\n",
              "19                             Хорус-группа Б К172-16  ...                       Строгино\n",
              "\n",
              "[20 rows x 5 columns]"
            ]
          },
          "metadata": {
            "tags": []
          },
          "execution_count": 114
        }
      ]
    },
    {
      "cell_type": "code",
      "metadata": {
        "id": "jiy5ahPguqEf",
        "outputId": "9d784985-30b5-4b7d-97ca-3fa468ddda1f",
        "colab": {
          "base_uri": "https://localhost:8080/",
          "height": 839
        }
      },
      "source": [
        "print('Заодно посмотрим ближайшие мероприятия по местоположению')\n",
        "position = input(\"Какой адрес интересует? \")\n",
        "longitude = float(client.coordinates(position + \"Москва\")[1])\n",
        "latitude = float(client.coordinates(position + \"Москва\")[0])\n",
        "\n",
        "result_event = kmeanModel(position, event, age)\n",
        "result_event[:20]"
      ],
      "execution_count": 115,
      "outputs": [
        {
          "output_type": "stream",
          "text": [
            "Заодно посмотрим ближайшие мероприятия по местоположению\n",
            "Какой адрес интересует? красная площадь 3\n"
          ],
          "name": "stdout"
        },
        {
          "output_type": "execute_result",
          "data": {
            "text/html": [
              "<div>\n",
              "<style scoped>\n",
              "    .dataframe tbody tr th:only-of-type {\n",
              "        vertical-align: middle;\n",
              "    }\n",
              "\n",
              "    .dataframe tbody tr th {\n",
              "        vertical-align: top;\n",
              "    }\n",
              "\n",
              "    .dataframe thead th {\n",
              "        text-align: right;\n",
              "    }\n",
              "</style>\n",
              "<table border=\"1\" class=\"dataframe\">\n",
              "  <thead>\n",
              "    <tr style=\"text-align: right;\">\n",
              "      <th></th>\n",
              "      <th>Направленность мероприятия</th>\n",
              "      <th>Дата начала мероприятия</th>\n",
              "      <th>Дата окончания мероприятия</th>\n",
              "      <th>Место проведения</th>\n",
              "      <th>Доступность мероприятия для лиц с ОВЗ</th>\n",
              "      <th>Возрастная категория</th>\n",
              "    </tr>\n",
              "  </thead>\n",
              "  <tbody>\n",
              "    <tr>\n",
              "      <th>22</th>\n",
              "      <td>культурно-досуговое</td>\n",
              "      <td>2020-01-09 00:00:00</td>\n",
              "      <td>2020-12-23 00:00:00</td>\n",
              "      <td>Бобров пер. 6, строение 2, Тургеневская гостин...</td>\n",
              "      <td>доступно</td>\n",
              "      <td>от 12 до 99</td>\n",
              "    </tr>\n",
              "    <tr>\n",
              "      <th>21</th>\n",
              "      <td>культурно-досуговое</td>\n",
              "      <td>2020-01-09 00:00:00</td>\n",
              "      <td>2020-12-23 00:00:00</td>\n",
              "      <td>Бобров пер. 6, строение 2, Тургеневская гостин...</td>\n",
              "      <td>доступно</td>\n",
              "      <td>от 12 до 99</td>\n",
              "    </tr>\n",
              "    <tr>\n",
              "      <th>20</th>\n",
              "      <td>культурно-досуговое</td>\n",
              "      <td>2020-01-09 00:00:00</td>\n",
              "      <td>2020-12-23 00:00:00</td>\n",
              "      <td>Бобров пер. 6, строение 2, Тургеневская гостин...</td>\n",
              "      <td>доступно</td>\n",
              "      <td>от 12 до 99</td>\n",
              "    </tr>\n",
              "    <tr>\n",
              "      <th>51</th>\n",
              "      <td>культурно-досуговое</td>\n",
              "      <td>2020-03-02 00:00:00</td>\n",
              "      <td>2020-12-30 00:00:00</td>\n",
              "      <td>Бобров пер. 6, строение 1, Большой читальный з...</td>\n",
              "      <td>доступно</td>\n",
              "      <td>от 16 до 99</td>\n",
              "    </tr>\n",
              "    <tr>\n",
              "      <th>50</th>\n",
              "      <td>культурно-досуговое</td>\n",
              "      <td>2020-03-02 00:00:00</td>\n",
              "      <td>2020-12-30 00:00:00</td>\n",
              "      <td>Бобров пер. 6, строение 1, Большой читальный з...</td>\n",
              "      <td>доступно</td>\n",
              "      <td>от 16 до 99</td>\n",
              "    </tr>\n",
              "    <tr>\n",
              "      <th>52</th>\n",
              "      <td>культурно-досуговое</td>\n",
              "      <td>2020-03-02 00:00:00</td>\n",
              "      <td>2020-12-30 00:00:00</td>\n",
              "      <td>Бобров пер. 6, строение 1, Большой читальный з...</td>\n",
              "      <td>доступно</td>\n",
              "      <td>от 16 до 99</td>\n",
              "    </tr>\n",
              "    <tr>\n",
              "      <th>325</th>\n",
              "      <td>просветительское</td>\n",
              "      <td>2020-09-01 12:00:00</td>\n",
              "      <td>31.12.2020 20:00</td>\n",
              "      <td>Арбат ул. 33</td>\n",
              "      <td>недоступно</td>\n",
              "      <td>от 0 до 100</td>\n",
              "    </tr>\n",
              "    <tr>\n",
              "      <th>662</th>\n",
              "      <td>культурно-досуговое</td>\n",
              "      <td>2020-10-06 00:00:00</td>\n",
              "      <td>2020-11-02 00:00:00</td>\n",
              "      <td>Россия, Москва, Москва, Страстной бульвар</td>\n",
              "      <td>недоступно</td>\n",
              "      <td>от 12 до 85</td>\n",
              "    </tr>\n",
              "    <tr>\n",
              "      <th>891</th>\n",
              "      <td>культурно-досуговое</td>\n",
              "      <td>2020-10-21 00:00:00</td>\n",
              "      <td>2020-10-21 00:00:00</td>\n",
              "      <td>Никитский бульв. 7А</td>\n",
              "      <td>доступно</td>\n",
              "      <td>от 12 до 70</td>\n",
              "    </tr>\n",
              "    <tr>\n",
              "      <th>954</th>\n",
              "      <td>культурно-досуговое</td>\n",
              "      <td>2020-10-22 00:00:00</td>\n",
              "      <td>2020-10-22 00:00:00</td>\n",
              "      <td>Чистопрудный бульв. 23, строение 1</td>\n",
              "      <td>доступно</td>\n",
              "      <td>от 18 до 75</td>\n",
              "    </tr>\n",
              "    <tr>\n",
              "      <th>1045</th>\n",
              "      <td>культурно-досуговое</td>\n",
              "      <td>2020-10-22 00:00:00</td>\n",
              "      <td>2020-10-22 00:00:00</td>\n",
              "      <td>Страстной бульв. 6, строение 2</td>\n",
              "      <td>доступно</td>\n",
              "      <td>от 16 до 70</td>\n",
              "    </tr>\n",
              "    <tr>\n",
              "      <th>1126</th>\n",
              "      <td>просветительское</td>\n",
              "      <td>2020-10-23 00:00:00</td>\n",
              "      <td>2020-10-23 00:00:00</td>\n",
              "      <td>Арбат ул. 33</td>\n",
              "      <td>недоступно</td>\n",
              "      <td>от 16 до 35</td>\n",
              "    </tr>\n",
              "    <tr>\n",
              "      <th>1186</th>\n",
              "      <td>культурно-досуговое</td>\n",
              "      <td>2020-10-24 00:00:00</td>\n",
              "      <td>2020-10-24 00:00:00</td>\n",
              "      <td>Россия, Москва, Москва, улицы района Аэропорт</td>\n",
              "      <td>недоступно</td>\n",
              "      <td>от 14 до 60</td>\n",
              "    </tr>\n",
              "    <tr>\n",
              "      <th>1290</th>\n",
              "      <td>культурно-досуговое</td>\n",
              "      <td>2020-10-26 00:00:00</td>\n",
              "      <td>2020-10-26 00:00:00</td>\n",
              "      <td>Чистопрудный бульв. 23, строение 1</td>\n",
              "      <td>доступно</td>\n",
              "      <td>от 18 до 75</td>\n",
              "    </tr>\n",
              "    <tr>\n",
              "      <th>1387</th>\n",
              "      <td>просветительское</td>\n",
              "      <td>2020-10-27 00:00:00</td>\n",
              "      <td>2020-10-27 00:00:00</td>\n",
              "      <td>Арбат ул. 33</td>\n",
              "      <td>недоступно</td>\n",
              "      <td>от 12 до 100</td>\n",
              "    </tr>\n",
              "    <tr>\n",
              "      <th>1488</th>\n",
              "      <td>безопасность движения</td>\n",
              "      <td>2020-10-28 00:00:00</td>\n",
              "      <td>2020-10-28 00:00:00</td>\n",
              "      <td>Страстной бульв. 6, строение 2</td>\n",
              "      <td>доступно</td>\n",
              "      <td>от 16 до 60</td>\n",
              "    </tr>\n",
              "    <tr>\n",
              "      <th>346</th>\n",
              "      <td>просветительское</td>\n",
              "      <td>2020-10-28 18:30:00</td>\n",
              "      <td>28.10.2020 20:00</td>\n",
              "      <td>Никитский бульв. 7А</td>\n",
              "      <td>доступно</td>\n",
              "      <td>от 12 до 70</td>\n",
              "    </tr>\n",
              "    <tr>\n",
              "      <th>157</th>\n",
              "      <td>просветительское</td>\n",
              "      <td>2020-10-29 19:00:00</td>\n",
              "      <td>29.10.2020 21:00</td>\n",
              "      <td>Страстной бульв. 6, строение 2</td>\n",
              "      <td>доступно</td>\n",
              "      <td>от 16 до 60</td>\n",
              "    </tr>\n",
              "    <tr>\n",
              "      <th>1575</th>\n",
              "      <td>культурно-досуговое</td>\n",
              "      <td>2020-10-30 00:00:00</td>\n",
              "      <td>2020-10-30 00:00:00</td>\n",
              "      <td>Чистопрудный бульв. 23, строение 1</td>\n",
              "      <td>доступно</td>\n",
              "      <td>от 18 до 75</td>\n",
              "    </tr>\n",
              "    <tr>\n",
              "      <th>1825</th>\n",
              "      <td>патриотическое</td>\n",
              "      <td>2020-11-03 00:00:00</td>\n",
              "      <td>2020-11-03 00:00:00</td>\n",
              "      <td>Россия, Москва, Москва, Страстной бульвар</td>\n",
              "      <td>недоступно</td>\n",
              "      <td>от 12 до 80</td>\n",
              "    </tr>\n",
              "  </tbody>\n",
              "</table>\n",
              "</div>"
            ],
            "text/plain": [
              "     Направленность мероприятия  ... Возрастная категория\n",
              "22          культурно-досуговое  ...          от 12 до 99\n",
              "21          культурно-досуговое  ...          от 12 до 99\n",
              "20          культурно-досуговое  ...          от 12 до 99\n",
              "51          культурно-досуговое  ...          от 16 до 99\n",
              "50          культурно-досуговое  ...          от 16 до 99\n",
              "52          культурно-досуговое  ...          от 16 до 99\n",
              "325            просветительское  ...          от 0 до 100\n",
              "662         культурно-досуговое  ...          от 12 до 85\n",
              "891         культурно-досуговое  ...          от 12 до 70\n",
              "954         культурно-досуговое  ...          от 18 до 75\n",
              "1045        культурно-досуговое  ...          от 16 до 70\n",
              "1126           просветительское  ...          от 16 до 35\n",
              "1186        культурно-досуговое  ...          от 14 до 60\n",
              "1290        культурно-досуговое  ...          от 18 до 75\n",
              "1387           просветительское  ...         от 12 до 100\n",
              "1488      безопасность движения  ...          от 16 до 60\n",
              "346            просветительское  ...          от 12 до 70\n",
              "157            просветительское  ...          от 16 до 60\n",
              "1575        культурно-досуговое  ...          от 18 до 75\n",
              "1825             патриотическое  ...          от 12 до 80\n",
              "\n",
              "[20 rows x 6 columns]"
            ]
          },
          "metadata": {
            "tags": []
          },
          "execution_count": 115
        }
      ]
    }
  ]
}

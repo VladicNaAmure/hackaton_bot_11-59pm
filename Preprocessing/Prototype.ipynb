{
  "nbformat": 4,
  "nbformat_minor": 0,
  "metadata": {
    "colab": {
      "name": "Prototype.ipynb",
      "provenance": [],
      "collapsed_sections": []
    },
    "kernelspec": {
      "name": "python3",
      "display_name": "Python 3"
    }
  },
  "cells": [
    {
      "cell_type": "markdown",
      "metadata": {
        "id": "JEIhkGiHsIEu"
      },
      "source": [
        "# Бибилиотеки"
      ]
    },
    {
      "cell_type": "code",
      "metadata": {
        "id": "sUs1JvtOdBM6"
      },
      "source": [
        "import pandas as pd\n",
        "import numpy as np"
      ],
      "execution_count": 3,
      "outputs": []
    },
    {
      "cell_type": "code",
      "metadata": {
        "id": "vIGQ4RHDoe4O"
      },
      "source": [
        "import datetime"
      ],
      "execution_count": 4,
      "outputs": []
    },
    {
      "cell_type": "code",
      "metadata": {
        "id": "MQDFf73CsGUF",
        "outputId": "cf7e5f7a-0ec2-49fc-b1f1-b9e1dcaf1f9b",
        "colab": {
          "base_uri": "https://localhost:8080/"
        }
      },
      "source": [
        "!pip install PyDrive"
      ],
      "execution_count": 23,
      "outputs": [
        {
          "output_type": "stream",
          "text": [
            "Requirement already satisfied: PyDrive in /usr/local/lib/python3.6/dist-packages (1.3.1)\n",
            "Requirement already satisfied: google-api-python-client>=1.2 in /usr/local/lib/python3.6/dist-packages (from PyDrive) (1.7.12)\n",
            "Requirement already satisfied: oauth2client>=4.0.0 in /usr/local/lib/python3.6/dist-packages (from PyDrive) (4.1.3)\n",
            "Requirement already satisfied: PyYAML>=3.0 in /usr/local/lib/python3.6/dist-packages (from PyDrive) (3.13)\n",
            "Requirement already satisfied: six<2dev,>=1.6.1 in /usr/local/lib/python3.6/dist-packages (from google-api-python-client>=1.2->PyDrive) (1.15.0)\n",
            "Requirement already satisfied: httplib2<1dev,>=0.17.0 in /usr/local/lib/python3.6/dist-packages (from google-api-python-client>=1.2->PyDrive) (0.17.4)\n",
            "Requirement already satisfied: uritemplate<4dev,>=3.0.0 in /usr/local/lib/python3.6/dist-packages (from google-api-python-client>=1.2->PyDrive) (3.0.1)\n",
            "Requirement already satisfied: google-auth>=1.4.1 in /usr/local/lib/python3.6/dist-packages (from google-api-python-client>=1.2->PyDrive) (1.17.2)\n",
            "Requirement already satisfied: google-auth-httplib2>=0.0.3 in /usr/local/lib/python3.6/dist-packages (from google-api-python-client>=1.2->PyDrive) (0.0.4)\n",
            "Requirement already satisfied: pyasn1>=0.1.7 in /usr/local/lib/python3.6/dist-packages (from oauth2client>=4.0.0->PyDrive) (0.4.8)\n",
            "Requirement already satisfied: rsa>=3.1.4 in /usr/local/lib/python3.6/dist-packages (from oauth2client>=4.0.0->PyDrive) (4.6)\n",
            "Requirement already satisfied: pyasn1-modules>=0.0.5 in /usr/local/lib/python3.6/dist-packages (from oauth2client>=4.0.0->PyDrive) (0.2.8)\n",
            "Requirement already satisfied: setuptools>=40.3.0 in /usr/local/lib/python3.6/dist-packages (from google-auth>=1.4.1->google-api-python-client>=1.2->PyDrive) (50.3.2)\n",
            "Requirement already satisfied: cachetools<5.0,>=2.0.0 in /usr/local/lib/python3.6/dist-packages (from google-auth>=1.4.1->google-api-python-client>=1.2->PyDrive) (4.1.1)\n"
          ],
          "name": "stdout"
        }
      ]
    },
    {
      "cell_type": "code",
      "metadata": {
        "id": "R_uZs2oSr8zn"
      },
      "source": [
        "# Установка из драйва\n",
        "from pydrive.auth import GoogleAuth\n",
        "from pydrive.drive import GoogleDrive\n",
        "from google.colab import auth\n",
        "from oauth2client.client import GoogleCredentials"
      ],
      "execution_count": 24,
      "outputs": []
    },
    {
      "cell_type": "code",
      "metadata": {
        "id": "9gSp5PFSnoUu"
      },
      "source": [
        "# Authenticate and create the PyDrive client.\n",
        "auth.authenticate_user()\n",
        "gauth = GoogleAuth()\n",
        "gauth.credentials = GoogleCredentials.get_application_default()\n",
        "drive = GoogleDrive(gauth)\n",
        "\n",
        "urls= ['1kX6NAsr50aXSnuYyO9eCd5YiaPwTQmJC','1m5QO_nGsJiDNn4Dd8vFefIg6GiZUB23m',\n",
        "       '1S7VC63UML5K1TLYkpAjQdkYnosxEWEJc','16oOkTgnlYYPFKkKrfivsm8XTeVbaY0ba',\n",
        "       '1bHJ-q2tLK2hB0Hz4wSF8miqy1-daZEKe','1E80vehSzvmV3vmunOc2CY9twMa4FcTcb',\n",
        "       '1EfLkr0jFKNFq54B4bTCn1a5aWr03eDOV','1B2RJmc2naDGc3ZCHMWsHjv74V5yw4BV8',\n",
        "       '10kXYfu48klaNaMCtozYrGNJkZiHKLq5F','1AZ2lp_S7mestktrxL8kkWC_BaXQf_sId',\n",
        "       '16sT26KyRXvr46KGhLyesOhl_UnX-yxmR','1wIQuZfPEqpWcXn-crxuoOEF5sT0sHKbT']\n",
        "\n",
        "for c in urls:\n",
        "    file_id = c\n",
        "    downloaded = drive.CreateFile({'id':file_id})\n",
        "    downloaded.FetchMetadata(fetch_all=True)\n",
        "    downloaded.GetContentFile(downloaded.metadata['title'])"
      ],
      "execution_count": 25,
      "outputs": []
    },
    {
      "cell_type": "markdown",
      "metadata": {
        "id": "8vHa1BQBsLc_"
      },
      "source": [
        "# Подготовка данных"
      ]
    },
    {
      "cell_type": "markdown",
      "metadata": {
        "id": "_SEfNnFgxii4"
      },
      "source": [
        "## Книги"
      ]
    },
    {
      "cell_type": "markdown",
      "metadata": {
        "id": "Eiq5DAED4RX2"
      },
      "source": [
        "Спецификация\n",
        "\n",
        "*   Выдача 1 - delivBook1\n",
        "*   Выдача 2 - delivBook2\n",
        "*   Читатели - readers\n",
        "*   Каталог - catalog\n",
        "*   Экземпляры 1 - bone1\n",
        "*   Экземпляры 2 - bone2\n"
      ]
    },
    {
      "cell_type": "code",
      "metadata": {
        "id": "_Qab8AKhsHHx"
      },
      "source": [
        "delivBook1 = pd.read_excel('/content/Выдача_1.xlsx').drop(columns=['Состояния', 'ИД выдачи',\n",
        "                                                                   'Unnamed: 7', 'Unnamed: 9',\n",
        "                                                                   'Инвентарный номер'])\n",
        "delivBook2 = pd.read_excel('/content/Выдача_2.xlsx').drop(columns=['Состояния', 'ИД выдачи',\n",
        "                                                                   'Unnamed: 7', 'Unnamed: 9',\n",
        "                                                                   'Инвентарный номер'])\n",
        "readers = pd.read_excel('/content/Читатели.xlsx').drop(columns=[])\n",
        "bone1 = pd.read_excel('/content/Экземпляры.xlsx').drop(columns=['Идентификатор сиглы','Инвентарный номер','Идентификатор экземпляра'])\n",
        "bone2 = pd.read_excel('/content/Экземпляры_2.xlsx').drop(columns=['Идентификатор сиглы','Инвентарный номер','Идентификатор экземпляра'])"
      ],
      "execution_count": 5,
      "outputs": []
    },
    {
      "cell_type": "code",
      "metadata": {
        "id": "zduDGdjPFmT9"
      },
      "source": [
        "catalog = pd.read_excel('/content/Каталог.xlsx').drop(columns=['p084a'])\n",
        "catalog['genre'] = catalog.p650a.str.replace('. ',';').str.split(';',expand=True)[0].copy()"
      ],
      "execution_count": 157,
      "outputs": []
    },
    {
      "cell_type": "markdown",
      "metadata": {
        "id": "soj22ezKazFq"
      },
      "source": [
        "Сформируем данные по Бибилиотекам"
      ]
    },
    {
      "cell_type": "code",
      "metadata": {
        "id": "U_MR-WFaax9l"
      },
      "source": [
        "readers['Дата рождения'] = readers['Дата рождения'].apply(lambda x: x[:10] if isinstance(x, str) else x)\n",
        "readers['Дата рождения'] = readers['Дата рождения'].apply(lambda x: datetime.datetime.strptime(x, '%Y-%m-%d') if isinstance(x, str) else x)\n",
        "readers['Возраст'] = 0\n",
        "for i in range(len(readers)):\n",
        "    readers['Возраст'].iloc[i] = datetime.datetime.now().year - readers['Дата рождения'].iloc[i].year"
      ],
      "execution_count": null,
      "outputs": []
    },
    {
      "cell_type": "code",
      "metadata": {
        "id": "E-j2s1i7ayBL"
      },
      "source": [
        "delivBook1 = pd.merge(delivBook1, readers[['ID читателя','Возраст']], how='left', left_on='ИД читателя', right_on='ID читателя')\n",
        "delivBook1 = delivBook1.drop(columns=['ID читателя'])\n",
        "delivBook1['Дата выдачи'] = delivBook1['Дата выдачи'].apply(lambda x: datetime.datetime.strptime(x, '%Y-%m-%d %H:%M:%S') if isinstance(x, str) else x)\n",
        "delivBook1['Дата сдачи (предполагаемая)'] = delivBook1['Дата сдачи (предполагаемая)'].apply(lambda x: datetime.datetime.strptime(x, '%Y-%m-%d %H:%M:%S') if isinstance(x, str) else x)\n",
        "delivBook1['Период'] = 0\n",
        "for i in range(len(delivBook1)):\n",
        "    k = delivBook1['Дата сдачи (предполагаемая)'].iloc[i] - delivBook1['Дата выдачи'].iloc[i]\n",
        "    delivBook1['Период'].iloc[i] = k.days"
      ],
      "execution_count": null,
      "outputs": []
    },
    {
      "cell_type": "code",
      "metadata": {
        "id": "VprnhLITayFD"
      },
      "source": [
        "delivBook2 = pd.merge(delivBook2, readers[['ID читателя','Возраст']], how='left', left_on='ИД читателя', right_on='ID читателя')\n",
        "delivBook2 = delivBook2.drop(columns=['ID читателя'])\n",
        "delivBook2['Дата выдачи'] = delivBook2['Дата выдачи'].apply(lambda x: datetime.datetime.strptime(x, '%Y-%m-%d %H:%M:%S') if isinstance(x, str) else x)\n",
        "delivBook2['Дата сдачи (предполагаемая)'] = delivBook2['Дата сдачи (предполагаемая)'].apply(lambda x: datetime.datetime.strptime(x, '%Y-%m-%d %H:%M:%S') if isinstance(x, str) else x)\n",
        "delivBook2['Период'] = 0\n",
        "for i in range(len(delivBook2)):\n",
        "    k = delivBook2['Дата сдачи (предполагаемая)'].iloc[i] - delivBook2['Дата выдачи'].iloc[i]\n",
        "    delivBook2['Период'].iloc[i] = k.days"
      ],
      "execution_count": null,
      "outputs": []
    },
    {
      "cell_type": "code",
      "metadata": {
        "id": "3yP53txVax6v"
      },
      "source": [
        "delivBook = delivBook1.append(delivBook2, ignore_index=True)"
      ],
      "execution_count": null,
      "outputs": []
    },
    {
      "cell_type": "code",
      "metadata": {
        "id": "WTQXM0uYQUmz"
      },
      "source": [
        "bone = bone1.append(bone2, ignore_index=True)"
      ],
      "execution_count": null,
      "outputs": []
    },
    {
      "cell_type": "code",
      "metadata": {
        "id": "o2sUKyEyQUqa"
      },
      "source": [
        "pred_param = catalog[['doc_id','genre']].copy()\n",
        "pred_param = pd.merge(bone, pred_param, how='left', left_on='ИД Каталожной записи', right_on='doc_id')\n",
        "pred_param = pred_param.dropna()\n",
        "pred_param = pred_param.drop(columns=['doc_id'])"
      ],
      "execution_count": null,
      "outputs": []
    },
    {
      "cell_type": "code",
      "metadata": {
        "id": "OZi3BXNRQU3Q"
      },
      "source": [
        "book_user = pd.merge(delivBook, pred_param, how='left', left_on='Штрих-код', right_on='Штрих-код').dropna()\n",
        "book_user['Возраст'] = book_user['Возраст'].astype(int)\n",
        "book_user['ИД Каталожной записи'] = book_user['ИД Каталожной записи'].astype(int)\n",
        "book_user.to_csv('book_user.csv', index=False)"
      ],
      "execution_count": null,
      "outputs": []
    },
    {
      "cell_type": "markdown",
      "metadata": {
        "id": "PqiiUbKZsnk_"
      },
      "source": [
        "## Мероприятия"
      ]
    },
    {
      "cell_type": "markdown",
      "metadata": {
        "id": "KfQMDH5-aywO"
      },
      "source": [
        "Сформируем данные по Мероприятиям"
      ]
    },
    {
      "cell_type": "code",
      "metadata": {
        "id": "SOmUc-vsIEJv"
      },
      "source": [
        "event = pd.read_excel('/content/Мероприятия.xlsx')"
      ],
      "execution_count": 202,
      "outputs": []
    },
    {
      "cell_type": "code",
      "metadata": {
        "id": "wsJgn5ZCjyP0"
      },
      "source": [
        "event[event['Направленность мероприятия'].isna()] = 'без категории'"
      ],
      "execution_count": 203,
      "outputs": []
    },
    {
      "cell_type": "code",
      "metadata": {
        "id": "6MMhVT8PLpNV"
      },
      "source": [
        "event['Код категории мероприятия'] = event['Направленность мероприятия'].str.split(',',expand=True)[0].copy().astype('category').cat.codes"
      ],
      "execution_count": 204,
      "outputs": []
    },
    {
      "cell_type": "code",
      "metadata": {
        "id": "Ppr4TFrikdDd"
      },
      "source": [
        "event_sort = event[['id','Статус','Направленность мероприятия',\n",
        "                    'Дата начала мероприятия','Дата окончания мероприятия',\n",
        "                    'Место проведения','Доступность мероприятия для лиц с ОВЗ',\n",
        "                    'Возрастная категория','Код категории мероприятия']].copy()"
      ],
      "execution_count": 205,
      "outputs": []
    },
    {
      "cell_type": "code",
      "metadata": {
        "id": "237xScSnlo2c"
      },
      "source": [
        "event_sort = event_sort.loc[(event_sort['Статус'] == 'Утверждено') |\n",
        "                            (event_sort['Статус'] == 'Запланировано') |\n",
        "                            (event_sort['Статус'] == 'Опубликовано')].copy()"
      ],
      "execution_count": 206,
      "outputs": []
    },
    {
      "cell_type": "code",
      "metadata": {
        "id": "mpP_mU9TopG5"
      },
      "source": [
        "event_sort['Дата начала мероприятия'] = event_sort['Дата начала мероприятия'].apply(lambda x: datetime.datetime.strptime(x, '%d.%m.%Y %H:%M') if isinstance(x, str)  else x)"
      ],
      "execution_count": 207,
      "outputs": []
    },
    {
      "cell_type": "markdown",
      "metadata": {
        "id": "brLjtiw2tskA"
      },
      "source": [
        "Оставим для выпуска данные только за 45 дней вперед"
      ]
    },
    {
      "cell_type": "code",
      "metadata": {
        "id": "CvgcdXjYrO3R"
      },
      "source": [
        "filter_event = []\n",
        "for i in range(len(event_sort)):\n",
        "    if (event_sort['Дата начала мероприятия'].iloc[i] - datetime.datetime.now()) < datetime.timedelta(45, 0, 0):\n",
        "        filter_event.append(i)"
      ],
      "execution_count": 208,
      "outputs": []
    },
    {
      "cell_type": "code",
      "metadata": {
        "id": "-itiyONnlozG"
      },
      "source": [
        "event_sort = event_sort.iloc[filter_event].copy()"
      ],
      "execution_count": 209,
      "outputs": []
    },
    {
      "cell_type": "code",
      "metadata": {
        "id": "1Y6EhzVNxi6r"
      },
      "source": [
        "event_sort = event_sort[event_sort['Место проведения'] != 'Литовский бульв. 7, Арт-клуб: 2 этаж, помещение Iа, ком. № 3']"
      ],
      "execution_count": 210,
      "outputs": []
    },
    {
      "cell_type": "code",
      "metadata": {
        "id": "kqNa14aHy29Q"
      },
      "source": [
        "event_sort = event_sort[event_sort['Место проведения'] != '127482, город Москва, город Зеленоград, корпус 401, Центральная детская библиотека №251']"
      ],
      "execution_count": 211,
      "outputs": []
    },
    {
      "cell_type": "code",
      "metadata": {
        "id": "YiuESnTf1Wr1"
      },
      "source": [
        "event_sort = event_sort[event_sort['Место проведения'] != 'Двадцати Шести Бакинских Комиссаров ул. 12, корпус 2']"
      ],
      "execution_count": 212,
      "outputs": []
    },
    {
      "cell_type": "code",
      "metadata": {
        "id": "KMw9l80i8IfY"
      },
      "source": [
        "event_sort = event_sort[event_sort['Место проведения'] != 'Литовский бульв. 7, Малый зал: 2 этаж, помещение II, ком. № 1']"
      ],
      "execution_count": 217,
      "outputs": []
    },
    {
      "cell_type": "code",
      "metadata": {
        "id": "QfdTN2-TnMnz",
        "outputId": "e954db13-f24b-45a2-aef1-7665f873250b",
        "colab": {
          "base_uri": "https://localhost:8080/"
        }
      },
      "source": [
        "!pip install yandex-geocoder"
      ],
      "execution_count": 231,
      "outputs": [
        {
          "output_type": "stream",
          "text": [
            "Collecting yandex-geocoder\n",
            "  Downloading https://files.pythonhosted.org/packages/d4/65/f3b1aae67e6daead8edf88e5034e7c53a34c4586d3fc866a23eb0a19d1b9/yandex_geocoder-2.0.0-py3-none-any.whl\n",
            "Requirement already satisfied: requests~=2.22 in /usr/local/lib/python3.6/dist-packages (from yandex-geocoder) (2.23.0)\n",
            "Requirement already satisfied: urllib3!=1.25.0,!=1.25.1,<1.26,>=1.21.1 in /usr/local/lib/python3.6/dist-packages (from requests~=2.22->yandex-geocoder) (1.24.3)\n",
            "Requirement already satisfied: certifi>=2017.4.17 in /usr/local/lib/python3.6/dist-packages (from requests~=2.22->yandex-geocoder) (2020.6.20)\n",
            "Requirement already satisfied: chardet<4,>=3.0.2 in /usr/local/lib/python3.6/dist-packages (from requests~=2.22->yandex-geocoder) (3.0.4)\n",
            "Requirement already satisfied: idna<3,>=2.5 in /usr/local/lib/python3.6/dist-packages (from requests~=2.22->yandex-geocoder) (2.10)\n",
            "Installing collected packages: yandex-geocoder\n",
            "Successfully installed yandex-geocoder-2.0.0\n"
          ],
          "name": "stdout"
        }
      ]
    },
    {
      "cell_type": "code",
      "metadata": {
        "id": "CpxsfvIjur-6"
      },
      "source": [
        "from decimal import Decimal\n",
        "from yandex_geocoder import Client\n",
        "#Key API (Вставить ключ API)\n",
        "client = Client(\"9e1317de-547c-44c8-ab1b-b6b5a088ba91\")"
      ],
      "execution_count": 232,
      "outputs": []
    },
    {
      "cell_type": "code",
      "metadata": {
        "id": "IexLQjxwwLUh"
      },
      "source": [
        "def _coordinate(df):\n",
        "    df['latitude'] = 0\n",
        "    df['longitude'] = 0\n",
        "    for i in range(len(df)):\n",
        "        df['latitude'].iloc[i] = client.coordinates(df['Место проведения'].iloc[i])[0]\n",
        "        df['longitude'].iloc[i] = client.coordinates(df['Место проведения'].iloc[i])[1]\n",
        "    return df"
      ],
      "execution_count": 233,
      "outputs": []
    },
    {
      "cell_type": "code",
      "metadata": {
        "id": "Ua5PgUoczZDR"
      },
      "source": [
        "event_sort[['from','to','unknow']] = event_sort['Возрастная категория'].str.replace('от ','').str.split(' до ',expand=True).copy()"
      ],
      "execution_count": 214,
      "outputs": []
    },
    {
      "cell_type": "code",
      "metadata": {
        "id": "5vijPwza10K3"
      },
      "source": [
        "event_sort = event_sort.drop(columns=['unknow'])"
      ],
      "execution_count": 215,
      "outputs": []
    },
    {
      "cell_type": "code",
      "metadata": {
        "id": "6WsvT8aLuy83",
        "outputId": "709b0592-74f8-4f1d-e83c-5d5291308534",
        "colab": {
          "base_uri": "https://localhost:8080/"
        }
      },
      "source": [
        "event_sort = _coordinate(event_sort)"
      ],
      "execution_count": 220,
      "outputs": [
        {
          "output_type": "stream",
          "text": [
            "/usr/local/lib/python3.6/dist-packages/ipykernel_launcher.py:2: SettingWithCopyWarning: \n",
            "A value is trying to be set on a copy of a slice from a DataFrame.\n",
            "Try using .loc[row_indexer,col_indexer] = value instead\n",
            "\n",
            "See the caveats in the documentation: https://pandas.pydata.org/pandas-docs/stable/user_guide/indexing.html#returning-a-view-versus-a-copy\n",
            "  \n",
            "/usr/local/lib/python3.6/dist-packages/ipykernel_launcher.py:3: SettingWithCopyWarning: \n",
            "A value is trying to be set on a copy of a slice from a DataFrame.\n",
            "Try using .loc[row_indexer,col_indexer] = value instead\n",
            "\n",
            "See the caveats in the documentation: https://pandas.pydata.org/pandas-docs/stable/user_guide/indexing.html#returning-a-view-versus-a-copy\n",
            "  This is separate from the ipykernel package so we can avoid doing imports until\n",
            "/usr/local/lib/python3.6/dist-packages/pandas/core/indexing.py:670: SettingWithCopyWarning: \n",
            "A value is trying to be set on a copy of a slice from a DataFrame\n",
            "\n",
            "See the caveats in the documentation: https://pandas.pydata.org/pandas-docs/stable/user_guide/indexing.html#returning-a-view-versus-a-copy\n",
            "  iloc._setitem_with_indexer(indexer, value)\n",
            "/usr/local/lib/python3.6/dist-packages/ipykernel_launcher.py:5: SettingWithCopyWarning: \n",
            "A value is trying to be set on a copy of a slice from a DataFrame\n",
            "\n",
            "See the caveats in the documentation: https://pandas.pydata.org/pandas-docs/stable/user_guide/indexing.html#returning-a-view-versus-a-copy\n",
            "  \"\"\"\n",
            "/usr/local/lib/python3.6/dist-packages/ipykernel_launcher.py:6: SettingWithCopyWarning: \n",
            "A value is trying to be set on a copy of a slice from a DataFrame\n",
            "\n",
            "See the caveats in the documentation: https://pandas.pydata.org/pandas-docs/stable/user_guide/indexing.html#returning-a-view-versus-a-copy\n",
            "  \n"
          ],
          "name": "stderr"
        }
      ]
    },
    {
      "cell_type": "code",
      "metadata": {
        "id": "RxHWt_f48LgI"
      },
      "source": [
        "event_sort.to_csv('event.csv', index=False)"
      ],
      "execution_count": 222,
      "outputs": []
    },
    {
      "cell_type": "markdown",
      "metadata": {
        "id": "iicdyRAcssNA"
      },
      "source": [
        "## Кружки"
      ]
    },
    {
      "cell_type": "markdown",
      "metadata": {
        "id": "Kh9OK4LAa6jr"
      },
      "source": [
        "Сформируем данные по Кружкам"
      ]
    },
    {
      "cell_type": "code",
      "metadata": {
        "id": "LcspE-UQGRgl"
      },
      "source": [
        "data = pd.read_csv('/content/Classificator_hachaton.csv', sep=';')\n",
        "data1 = pd.read_csv('/content/MegaRelation_hackaton.csv', sep=';')\n",
        "data2 = pd.read_csv('/content/Pupil_hackaton.csv', sep=';')\n",
        "data3 = pd.read_csv('/content/org_hackaton.csv', sep=';')\n",
        "data4 = pd.read_csv('/content/request_hackaton.csv', sep=';')\n",
        "data5 = pd.read_csv('/content/services_hackaton.csv', sep=';')"
      ],
      "execution_count": 122,
      "outputs": []
    },
    {
      "cell_type": "code",
      "metadata": {
        "id": "9tkzyCaEMBhe",
        "outputId": "b98fc404-5e85-4d14-f797-a3388dd01a6c",
        "colab": {
          "base_uri": "https://localhost:8080/"
        }
      },
      "source": [
        "print(data.head(2),data1.head(2),data2.head(2),data3.head(2),data4.head(2),data5.head(2))"
      ],
      "execution_count": 226,
      "outputs": [
        {
          "output_type": "stream",
          "text": [
            "   id_классификатора  id_родительского_классификатора Наименование\n",
            "0            3002985                              NaN    Автошкола\n",
            "1            3002986                        3002985.0     Автоклуб    id_зачисления  ...  Плановая_дата_окончания_занятий\n",
            "0        1325954  ...               01.09.2021 0:00:00\n",
            "1        2879918  ...               01.09.2021 0:00:00\n",
            "\n",
            "[2 rows x 14 columns]    id_ученика  возраст      пол\n",
            "0           1     12.0  Женский\n",
            "1           2     12.0  Женский    id_организации  ...              Метро\n",
            "0               1  ...                NaN\n",
            "1               2  ...  Краснопресненская\n",
            "\n",
            "[2 rows x 5 columns]    id_заявления  ... id_услуги\n",
            "0        989578  ...     39178\n",
            "1       3571456  ...     39178\n",
            "\n",
            "[2 rows x 9 columns]    id_услуги Тип_финансирования  ...  длительность_обучения  единица_длительности\n",
            "0      39178          бесплатно  ...                 7,0000                   лет\n",
            "1      39181          бесплатно  ...                 7,0000                   лет\n",
            "\n",
            "[2 rows x 9 columns]\n"
          ],
          "name": "stdout"
        }
      ]
    },
    {
      "cell_type": "code",
      "metadata": {
        "id": "4lvwLHl_Rc61",
        "outputId": "61b41485-7a06-465a-9846-0c4bd02a644a",
        "colab": {
          "base_uri": "https://localhost:8080/",
          "height": 111
        }
      },
      "source": [
        "data.head(2)"
      ],
      "execution_count": 227,
      "outputs": [
        {
          "output_type": "execute_result",
          "data": {
            "text/html": [
              "<div>\n",
              "<style scoped>\n",
              "    .dataframe tbody tr th:only-of-type {\n",
              "        vertical-align: middle;\n",
              "    }\n",
              "\n",
              "    .dataframe tbody tr th {\n",
              "        vertical-align: top;\n",
              "    }\n",
              "\n",
              "    .dataframe thead th {\n",
              "        text-align: right;\n",
              "    }\n",
              "</style>\n",
              "<table border=\"1\" class=\"dataframe\">\n",
              "  <thead>\n",
              "    <tr style=\"text-align: right;\">\n",
              "      <th></th>\n",
              "      <th>id_классификатора</th>\n",
              "      <th>id_родительского_классификатора</th>\n",
              "      <th>Наименование</th>\n",
              "    </tr>\n",
              "  </thead>\n",
              "  <tbody>\n",
              "    <tr>\n",
              "      <th>0</th>\n",
              "      <td>3002985</td>\n",
              "      <td>NaN</td>\n",
              "      <td>Автошкола</td>\n",
              "    </tr>\n",
              "    <tr>\n",
              "      <th>1</th>\n",
              "      <td>3002986</td>\n",
              "      <td>3002985.0</td>\n",
              "      <td>Автоклуб</td>\n",
              "    </tr>\n",
              "  </tbody>\n",
              "</table>\n",
              "</div>"
            ],
            "text/plain": [
              "   id_классификатора  id_родительского_классификатора Наименование\n",
              "0            3002985                              NaN    Автошкола\n",
              "1            3002986                        3002985.0     Автоклуб"
            ]
          },
          "metadata": {
            "tags": []
          },
          "execution_count": 227
        }
      ]
    },
    {
      "cell_type": "code",
      "metadata": {
        "id": "bGKThLi5Rdqa",
        "outputId": "2787902c-caa5-446e-918e-eecd085830de",
        "colab": {
          "base_uri": "https://localhost:8080/",
          "height": 165
        }
      },
      "source": [
        "data1.head(2)"
      ],
      "execution_count": 228,
      "outputs": [
        {
          "output_type": "execute_result",
          "data": {
            "text/html": [
              "<div>\n",
              "<style scoped>\n",
              "    .dataframe tbody tr th:only-of-type {\n",
              "        vertical-align: middle;\n",
              "    }\n",
              "\n",
              "    .dataframe tbody tr th {\n",
              "        vertical-align: top;\n",
              "    }\n",
              "\n",
              "    .dataframe thead th {\n",
              "        text-align: right;\n",
              "    }\n",
              "</style>\n",
              "<table border=\"1\" class=\"dataframe\">\n",
              "  <thead>\n",
              "    <tr style=\"text-align: right;\">\n",
              "      <th></th>\n",
              "      <th>id_зачисления</th>\n",
              "      <th>Статус</th>\n",
              "      <th>id_ученика</th>\n",
              "      <th>Дата_создания_записи</th>\n",
              "      <th>id_организации</th>\n",
              "      <th>id_заявления</th>\n",
              "      <th>id_услуги</th>\n",
              "      <th>дата_зачисления</th>\n",
              "      <th>дата_отчисления</th>\n",
              "      <th>причина_перевода</th>\n",
              "      <th>предыдущая_запись_зачисления</th>\n",
              "      <th>следующая_запись_зачисления</th>\n",
              "      <th>Плановая_дата_начала_занятий</th>\n",
              "      <th>Плановая_дата_окончания_занятий</th>\n",
              "    </tr>\n",
              "  </thead>\n",
              "  <tbody>\n",
              "    <tr>\n",
              "      <th>0</th>\n",
              "      <td>1325954</td>\n",
              "      <td>3.0</td>\n",
              "      <td>25969.0</td>\n",
              "      <td>08.06.2015 14:47:19</td>\n",
              "      <td>30</td>\n",
              "      <td>950832.0</td>\n",
              "      <td>39178</td>\n",
              "      <td>08.06.2015 0:00:00</td>\n",
              "      <td>29.02.2016 19:28:12</td>\n",
              "      <td>NaN</td>\n",
              "      <td>NaN</td>\n",
              "      <td>3558114.0</td>\n",
              "      <td>01.09.2014 0:00:00</td>\n",
              "      <td>01.09.2021 0:00:00</td>\n",
              "    </tr>\n",
              "    <tr>\n",
              "      <th>1</th>\n",
              "      <td>2879918</td>\n",
              "      <td>3.0</td>\n",
              "      <td>158129.0</td>\n",
              "      <td>29.10.2015 18:35:21</td>\n",
              "      <td>30</td>\n",
              "      <td>989658.0</td>\n",
              "      <td>39178</td>\n",
              "      <td>01.09.2010 0:00:00</td>\n",
              "      <td>29.02.2016 19:23:59</td>\n",
              "      <td>NaN</td>\n",
              "      <td>NaN</td>\n",
              "      <td>3557885.0</td>\n",
              "      <td>01.09.2014 0:00:00</td>\n",
              "      <td>01.09.2021 0:00:00</td>\n",
              "    </tr>\n",
              "  </tbody>\n",
              "</table>\n",
              "</div>"
            ],
            "text/plain": [
              "   id_зачисления  ...  Плановая_дата_окончания_занятий\n",
              "0        1325954  ...               01.09.2021 0:00:00\n",
              "1        2879918  ...               01.09.2021 0:00:00\n",
              "\n",
              "[2 rows x 14 columns]"
            ]
          },
          "metadata": {
            "tags": []
          },
          "execution_count": 228
        }
      ]
    },
    {
      "cell_type": "code",
      "metadata": {
        "id": "fcpc5V9ARewr",
        "outputId": "eea92851-0d96-45c0-b367-7c50599d1cd8",
        "colab": {
          "base_uri": "https://localhost:8080/",
          "height": 111
        }
      },
      "source": [
        "data2.head(2)"
      ],
      "execution_count": 229,
      "outputs": [
        {
          "output_type": "execute_result",
          "data": {
            "text/html": [
              "<div>\n",
              "<style scoped>\n",
              "    .dataframe tbody tr th:only-of-type {\n",
              "        vertical-align: middle;\n",
              "    }\n",
              "\n",
              "    .dataframe tbody tr th {\n",
              "        vertical-align: top;\n",
              "    }\n",
              "\n",
              "    .dataframe thead th {\n",
              "        text-align: right;\n",
              "    }\n",
              "</style>\n",
              "<table border=\"1\" class=\"dataframe\">\n",
              "  <thead>\n",
              "    <tr style=\"text-align: right;\">\n",
              "      <th></th>\n",
              "      <th>id_ученика</th>\n",
              "      <th>возраст</th>\n",
              "      <th>пол</th>\n",
              "    </tr>\n",
              "  </thead>\n",
              "  <tbody>\n",
              "    <tr>\n",
              "      <th>0</th>\n",
              "      <td>1</td>\n",
              "      <td>12.0</td>\n",
              "      <td>Женский</td>\n",
              "    </tr>\n",
              "    <tr>\n",
              "      <th>1</th>\n",
              "      <td>2</td>\n",
              "      <td>12.0</td>\n",
              "      <td>Женский</td>\n",
              "    </tr>\n",
              "  </tbody>\n",
              "</table>\n",
              "</div>"
            ],
            "text/plain": [
              "   id_ученика  возраст      пол\n",
              "0           1     12.0  Женский\n",
              "1           2     12.0  Женский"
            ]
          },
          "metadata": {
            "tags": []
          },
          "execution_count": 229
        }
      ]
    },
    {
      "cell_type": "code",
      "metadata": {
        "id": "JCHeIvObRgDo",
        "outputId": "54e2ed6e-5a3e-440d-94a1-e9c507eac040",
        "colab": {
          "base_uri": "https://localhost:8080/",
          "height": 145
        }
      },
      "source": [
        "data3.head(2)"
      ],
      "execution_count": 230,
      "outputs": [
        {
          "output_type": "execute_result",
          "data": {
            "text/html": [
              "<div>\n",
              "<style scoped>\n",
              "    .dataframe tbody tr th:only-of-type {\n",
              "        vertical-align: middle;\n",
              "    }\n",
              "\n",
              "    .dataframe tbody tr th {\n",
              "        vertical-align: top;\n",
              "    }\n",
              "\n",
              "    .dataframe thead th {\n",
              "        text-align: right;\n",
              "    }\n",
              "</style>\n",
              "<table border=\"1\" class=\"dataframe\">\n",
              "  <thead>\n",
              "    <tr style=\"text-align: right;\">\n",
              "      <th></th>\n",
              "      <th>id_организации</th>\n",
              "      <th>полное_наименование</th>\n",
              "      <th>краткое_наименование</th>\n",
              "      <th>улица</th>\n",
              "      <th>Метро</th>\n",
              "    </tr>\n",
              "  </thead>\n",
              "  <tbody>\n",
              "    <tr>\n",
              "      <th>0</th>\n",
              "      <td>1</td>\n",
              "      <td>Государственное бюджетное образовательное учре...</td>\n",
              "      <td>ГБОУ СПО г.Москвы «Московская средняя специаль...</td>\n",
              "      <td>NaN</td>\n",
              "      <td>NaN</td>\n",
              "    </tr>\n",
              "    <tr>\n",
              "      <th>1</th>\n",
              "      <td>2</td>\n",
              "      <td>Государственное бюджетное профессиональное обр...</td>\n",
              "      <td>ГБПОУ г. Москвы \"Академия джаза\"</td>\n",
              "      <td>улица Трёхгорный Вал</td>\n",
              "      <td>Краснопресненская</td>\n",
              "    </tr>\n",
              "  </tbody>\n",
              "</table>\n",
              "</div>"
            ],
            "text/plain": [
              "   id_организации  ...              Метро\n",
              "0               1  ...                NaN\n",
              "1               2  ...  Краснопресненская\n",
              "\n",
              "[2 rows x 5 columns]"
            ]
          },
          "metadata": {
            "tags": []
          },
          "execution_count": 230
        }
      ]
    },
    {
      "cell_type": "code",
      "metadata": {
        "id": "E714A1dHRhB1",
        "outputId": "c3c4ab65-e370-4eda-f1e3-bd03253759b1",
        "colab": {
          "base_uri": "https://localhost:8080/",
          "height": 216
        }
      },
      "source": [
        "data4.head(2)"
      ],
      "execution_count": 231,
      "outputs": [
        {
          "output_type": "execute_result",
          "data": {
            "text/html": [
              "<div>\n",
              "<style scoped>\n",
              "    .dataframe tbody tr th:only-of-type {\n",
              "        vertical-align: middle;\n",
              "    }\n",
              "\n",
              "    .dataframe tbody tr th {\n",
              "        vertical-align: top;\n",
              "    }\n",
              "\n",
              "    .dataframe thead th {\n",
              "        text-align: right;\n",
              "    }\n",
              "</style>\n",
              "<table border=\"1\" class=\"dataframe\">\n",
              "  <thead>\n",
              "    <tr style=\"text-align: right;\">\n",
              "      <th></th>\n",
              "      <th>id_заявления</th>\n",
              "      <th>статус_заявления</th>\n",
              "      <th>дата_создания</th>\n",
              "      <th>оценка_вступительных_испытаний</th>\n",
              "      <th>Испытания_пройдены</th>\n",
              "      <th>Зачисление_разрешено</th>\n",
              "      <th>Зачисление_не_разрешено</th>\n",
              "      <th>Причина_отказа_в_зачислении</th>\n",
              "      <th>id_услуги</th>\n",
              "    </tr>\n",
              "  </thead>\n",
              "  <tbody>\n",
              "    <tr>\n",
              "      <th>0</th>\n",
              "      <td>989578</td>\n",
              "      <td>Ожидание прихода Заявителя на вступительные ис...</td>\n",
              "      <td>02.06.2014 17:25:37</td>\n",
              "      <td>NaN</td>\n",
              "      <td>0.0</td>\n",
              "      <td>0.0</td>\n",
              "      <td>0.0</td>\n",
              "      <td>NaN</td>\n",
              "      <td>39178</td>\n",
              "    </tr>\n",
              "    <tr>\n",
              "      <th>1</th>\n",
              "      <td>3571456</td>\n",
              "      <td>Архив</td>\n",
              "      <td>05.11.2015 18:51:59</td>\n",
              "      <td>5.0</td>\n",
              "      <td>1.0</td>\n",
              "      <td>0.0</td>\n",
              "      <td>NaN</td>\n",
              "      <td>NaN</td>\n",
              "      <td>39178</td>\n",
              "    </tr>\n",
              "  </tbody>\n",
              "</table>\n",
              "</div>"
            ],
            "text/plain": [
              "   id_заявления  ... id_услуги\n",
              "0        989578  ...     39178\n",
              "1       3571456  ...     39178\n",
              "\n",
              "[2 rows x 9 columns]"
            ]
          },
          "metadata": {
            "tags": []
          },
          "execution_count": 231
        }
      ]
    },
    {
      "cell_type": "code",
      "metadata": {
        "id": "_K_fXGnfRh-H",
        "outputId": "d761f6d6-8999-4988-e16a-a8926120646d",
        "colab": {
          "base_uri": "https://localhost:8080/",
          "height": 165
        }
      },
      "source": [
        "data5.head(2)"
      ],
      "execution_count": 232,
      "outputs": [
        {
          "output_type": "execute_result",
          "data": {
            "text/html": [
              "<div>\n",
              "<style scoped>\n",
              "    .dataframe tbody tr th:only-of-type {\n",
              "        vertical-align: middle;\n",
              "    }\n",
              "\n",
              "    .dataframe tbody tr th {\n",
              "        vertical-align: top;\n",
              "    }\n",
              "\n",
              "    .dataframe thead th {\n",
              "        text-align: right;\n",
              "    }\n",
              "</style>\n",
              "<table border=\"1\" class=\"dataframe\">\n",
              "  <thead>\n",
              "    <tr style=\"text-align: right;\">\n",
              "      <th></th>\n",
              "      <th>id_услуги</th>\n",
              "      <th>Тип_финансирования</th>\n",
              "      <th>Классификатор_услуги</th>\n",
              "      <th>id_организации</th>\n",
              "      <th>Тип_расписания</th>\n",
              "      <th>Наименование_услуги</th>\n",
              "      <th>Дата_создания</th>\n",
              "      <th>длительность_обучения</th>\n",
              "      <th>единица_длительности</th>\n",
              "    </tr>\n",
              "  </thead>\n",
              "  <tbody>\n",
              "    <tr>\n",
              "      <th>0</th>\n",
              "      <td>39178</td>\n",
              "      <td>бесплатно</td>\n",
              "      <td>3000001</td>\n",
              "      <td>30</td>\n",
              "      <td>Индивидуальное</td>\n",
              "      <td>Архитектура</td>\n",
              "      <td>17.07.2013 12:50:32</td>\n",
              "      <td>7,0000</td>\n",
              "      <td>лет</td>\n",
              "    </tr>\n",
              "    <tr>\n",
              "      <th>1</th>\n",
              "      <td>39181</td>\n",
              "      <td>бесплатно</td>\n",
              "      <td>3000001</td>\n",
              "      <td>30</td>\n",
              "      <td>Индивидуальное</td>\n",
              "      <td>Архитектура</td>\n",
              "      <td>17.07.2013 13:04:41</td>\n",
              "      <td>7,0000</td>\n",
              "      <td>лет</td>\n",
              "    </tr>\n",
              "  </tbody>\n",
              "</table>\n",
              "</div>"
            ],
            "text/plain": [
              "   id_услуги Тип_финансирования  ...  длительность_обучения  единица_длительности\n",
              "0      39178          бесплатно  ...                 7,0000                   лет\n",
              "1      39181          бесплатно  ...                 7,0000                   лет\n",
              "\n",
              "[2 rows x 9 columns]"
            ]
          },
          "metadata": {
            "tags": []
          },
          "execution_count": 232
        }
      ]
    },
    {
      "cell_type": "code",
      "metadata": {
        "id": "m_2Wiw31Vmxm"
      },
      "source": [
        "data5['длительность_обучения'] = data5['длительность_обучения'].str.split(',',expand=True)[0].copy()"
      ],
      "execution_count": 246,
      "outputs": []
    },
    {
      "cell_type": "code",
      "metadata": {
        "id": "nucN2cH0Uk54",
        "outputId": "9bbf376f-e6b9-4e42-ce06-f4c703a920d3",
        "colab": {
          "base_uri": "https://localhost:8080/"
        }
      },
      "source": [
        "data5['years'] = 0\n",
        "data5['weeks'] = 0\n",
        "data5['months'] = 0\n",
        "data5['days'] = 0\n",
        "\n",
        "for i in range(len(data5)):\n",
        "    if data5['единица_длительности'].iloc[i] == 'лет':\n",
        "        data5['years'] = data5['длительность_обучения'].iloc[i]\n",
        "        data5['weeks'] = 0\n",
        "        data5['months'] = 0\n",
        "        data5['days'] = 0\n",
        "    elif data5['единица_длительности'].iloc[i] == 'недель':\n",
        "        data5['years'] = 0\n",
        "        data5['weeks'] = data5['длительность_обучения'].iloc[i]\n",
        "        data5['months'] = 0\n",
        "        data5['days'] = 0\n",
        "    elif data5['единица_длительности'].iloc[i] == 'месяцев':   \n",
        "        data5['years'] = 0\n",
        "        data5['weeks'] = 0\n",
        "        data5['months'] = data5['длительность_обучения'].iloc[i]\n",
        "        data5['days'] = 0 \n",
        "    elif data5['единица_длительности'].iloc[i] == 'дней': \n",
        "        data5['years'] = 0\n",
        "        data5['weeks'] = 0\n",
        "        data5['months'] = 0\n",
        "        data5['days'] = data5['длительность_обучения'].iloc[i]\n",
        "    else:\n",
        "        print(i)"
      ],
      "execution_count": 249,
      "outputs": [
        {
          "output_type": "stream",
          "text": [
            "6540\n",
            "8106\n",
            "9274\n",
            "9275\n",
            "16989\n",
            "17085\n",
            "17959\n",
            "17960\n",
            "21318\n",
            "21380\n",
            "22003\n",
            "22925\n",
            "24084\n",
            "39183\n",
            "39300\n",
            "39549\n",
            "39948\n",
            "39949\n",
            "40821\n"
          ],
          "name": "stdout"
        }
      ]
    },
    {
      "cell_type": "code",
      "metadata": {
        "id": "N6wkLlDoWiV9"
      },
      "source": [
        "data5 = data5.drop(columns=['единица_длительности','длительность_обучения','Дата_создания'])"
      ],
      "execution_count": 251,
      "outputs": []
    },
    {
      "cell_type": "code",
      "metadata": {
        "id": "7PAfMPyJX4kN",
        "outputId": "054cdea8-b1e5-4a89-963d-fe0ce4f53fce",
        "colab": {
          "base_uri": "https://localhost:8080/",
          "height": 490
        }
      },
      "source": [
        "data5"
      ],
      "execution_count": 254,
      "outputs": [
        {
          "output_type": "execute_result",
          "data": {
            "text/html": [
              "<div>\n",
              "<style scoped>\n",
              "    .dataframe tbody tr th:only-of-type {\n",
              "        vertical-align: middle;\n",
              "    }\n",
              "\n",
              "    .dataframe tbody tr th {\n",
              "        vertical-align: top;\n",
              "    }\n",
              "\n",
              "    .dataframe thead th {\n",
              "        text-align: right;\n",
              "    }\n",
              "</style>\n",
              "<table border=\"1\" class=\"dataframe\">\n",
              "  <thead>\n",
              "    <tr style=\"text-align: right;\">\n",
              "      <th></th>\n",
              "      <th>id_услуги</th>\n",
              "      <th>Тип_финансирования</th>\n",
              "      <th>Классификатор_услуги</th>\n",
              "      <th>id_организации</th>\n",
              "      <th>Тип_расписания</th>\n",
              "      <th>Наименование_услуги</th>\n",
              "      <th>years</th>\n",
              "      <th>weeks</th>\n",
              "      <th>months</th>\n",
              "      <th>days</th>\n",
              "    </tr>\n",
              "  </thead>\n",
              "  <tbody>\n",
              "    <tr>\n",
              "      <th>0</th>\n",
              "      <td>39178</td>\n",
              "      <td>бесплатно</td>\n",
              "      <td>3000001</td>\n",
              "      <td>30</td>\n",
              "      <td>Индивидуальное</td>\n",
              "      <td>Архитектура</td>\n",
              "      <td>5</td>\n",
              "      <td>0</td>\n",
              "      <td>0</td>\n",
              "      <td>0</td>\n",
              "    </tr>\n",
              "    <tr>\n",
              "      <th>1</th>\n",
              "      <td>39181</td>\n",
              "      <td>бесплатно</td>\n",
              "      <td>3000001</td>\n",
              "      <td>30</td>\n",
              "      <td>Индивидуальное</td>\n",
              "      <td>Архитектура</td>\n",
              "      <td>5</td>\n",
              "      <td>0</td>\n",
              "      <td>0</td>\n",
              "      <td>0</td>\n",
              "    </tr>\n",
              "    <tr>\n",
              "      <th>2</th>\n",
              "      <td>212072</td>\n",
              "      <td>бесплатно</td>\n",
              "      <td>3000001</td>\n",
              "      <td>30</td>\n",
              "      <td>Индивидуальное</td>\n",
              "      <td>Архитектура</td>\n",
              "      <td>5</td>\n",
              "      <td>0</td>\n",
              "      <td>0</td>\n",
              "      <td>0</td>\n",
              "    </tr>\n",
              "    <tr>\n",
              "      <th>3</th>\n",
              "      <td>212517</td>\n",
              "      <td>бесплатно</td>\n",
              "      <td>3000001</td>\n",
              "      <td>30</td>\n",
              "      <td>Индивидуальное</td>\n",
              "      <td>Архитектура</td>\n",
              "      <td>5</td>\n",
              "      <td>0</td>\n",
              "      <td>0</td>\n",
              "      <td>0</td>\n",
              "    </tr>\n",
              "    <tr>\n",
              "      <th>4</th>\n",
              "      <td>39913</td>\n",
              "      <td>бесплатно</td>\n",
              "      <td>3000003</td>\n",
              "      <td>45</td>\n",
              "      <td>Индивидуальное</td>\n",
              "      <td>Декоративно-прикладное искусство</td>\n",
              "      <td>5</td>\n",
              "      <td>0</td>\n",
              "      <td>0</td>\n",
              "      <td>0</td>\n",
              "    </tr>\n",
              "    <tr>\n",
              "      <th>...</th>\n",
              "      <td>...</td>\n",
              "      <td>...</td>\n",
              "      <td>...</td>\n",
              "      <td>...</td>\n",
              "      <td>...</td>\n",
              "      <td>...</td>\n",
              "      <td>...</td>\n",
              "      <td>...</td>\n",
              "      <td>...</td>\n",
              "      <td>...</td>\n",
              "    </tr>\n",
              "    <tr>\n",
              "      <th>40967</th>\n",
              "      <td>660234</td>\n",
              "      <td>бесплатно</td>\n",
              "      <td>4507940</td>\n",
              "      <td>1800</td>\n",
              "      <td>Общее</td>\n",
              "      <td>\"Играю, рисую, пою\"</td>\n",
              "      <td>5</td>\n",
              "      <td>0</td>\n",
              "      <td>0</td>\n",
              "      <td>0</td>\n",
              "    </tr>\n",
              "    <tr>\n",
              "      <th>40968</th>\n",
              "      <td>728015</td>\n",
              "      <td>бесплатно</td>\n",
              "      <td>4507940</td>\n",
              "      <td>29</td>\n",
              "      <td>Индивидуальное</td>\n",
              "      <td>Мир искусств</td>\n",
              "      <td>5</td>\n",
              "      <td>0</td>\n",
              "      <td>0</td>\n",
              "      <td>0</td>\n",
              "    </tr>\n",
              "    <tr>\n",
              "      <th>40969</th>\n",
              "      <td>987697</td>\n",
              "      <td>бесплатно</td>\n",
              "      <td>4507940</td>\n",
              "      <td>26</td>\n",
              "      <td>Индивидуальное</td>\n",
              "      <td>Фортепиано и комплексное музицирование</td>\n",
              "      <td>5</td>\n",
              "      <td>0</td>\n",
              "      <td>0</td>\n",
              "      <td>0</td>\n",
              "    </tr>\n",
              "    <tr>\n",
              "      <th>40970</th>\n",
              "      <td>1099087</td>\n",
              "      <td>бесплатно</td>\n",
              "      <td>4507940</td>\n",
              "      <td>29</td>\n",
              "      <td>Индивидуальное</td>\n",
              "      <td>РАС</td>\n",
              "      <td>5</td>\n",
              "      <td>0</td>\n",
              "      <td>0</td>\n",
              "      <td>0</td>\n",
              "    </tr>\n",
              "    <tr>\n",
              "      <th>40971</th>\n",
              "      <td>660705</td>\n",
              "      <td>бесплатно</td>\n",
              "      <td>4507946</td>\n",
              "      <td>45</td>\n",
              "      <td>Общее</td>\n",
              "      <td>\"Мир искусств\"</td>\n",
              "      <td>5</td>\n",
              "      <td>0</td>\n",
              "      <td>0</td>\n",
              "      <td>0</td>\n",
              "    </tr>\n",
              "  </tbody>\n",
              "</table>\n",
              "<p>40972 rows × 10 columns</p>\n",
              "</div>"
            ],
            "text/plain": [
              "       id_услуги Тип_финансирования  Классификатор_услуги  ...  weeks months days\n",
              "0          39178          бесплатно               3000001  ...      0      0    0\n",
              "1          39181          бесплатно               3000001  ...      0      0    0\n",
              "2         212072          бесплатно               3000001  ...      0      0    0\n",
              "3         212517          бесплатно               3000001  ...      0      0    0\n",
              "4          39913          бесплатно               3000003  ...      0      0    0\n",
              "...          ...                ...                   ...  ...    ...    ...  ...\n",
              "40967     660234          бесплатно               4507940  ...      0      0    0\n",
              "40968     728015          бесплатно               4507940  ...      0      0    0\n",
              "40969     987697          бесплатно               4507940  ...      0      0    0\n",
              "40970    1099087          бесплатно               4507940  ...      0      0    0\n",
              "40971     660705          бесплатно               4507946  ...      0      0    0\n",
              "\n",
              "[40972 rows x 10 columns]"
            ]
          },
          "metadata": {
            "tags": []
          },
          "execution_count": 254
        }
      ]
    },
    {
      "cell_type": "code",
      "metadata": {
        "id": "AzAY5IIJXoWL"
      },
      "source": [
        "data4 = data4.drop(columns=['Причина_отказа_в_зачислении','оценка_вступительных_испытаний',\n",
        "                            'дата_создания','Испытания_пройдены','Зачисление_разрешено',\n",
        "                            'Зачисление_не_разрешено'])"
      ],
      "execution_count": 266,
      "outputs": []
    },
    {
      "cell_type": "code",
      "metadata": {
        "id": "aUe2koUsZOMS"
      },
      "source": [
        "data4['зачислен'] = 0\n",
        "data4['не_зачислен'] = 0\n",
        "data4['сдал'] = 0"
      ],
      "execution_count": 267,
      "outputs": []
    },
    {
      "cell_type": "code",
      "metadata": {
        "id": "xr_t-13LZXIF",
        "outputId": "d929cc36-9ff8-4946-a819-c9740b4e542d",
        "colab": {
          "base_uri": "https://localhost:8080/"
        }
      },
      "source": [
        "for i in range(len(data4)):\n",
        "    if data4['статус_заявления'].iloc[i] == 'Ожидание прихода Заявителя на вступительные испытания':\n",
        "        data4['зачислен'].iloc[i] = 0\n",
        "        data4['не_зачислен'].iloc[i] = 0\n",
        "        data4['сдал'].iloc[i] = 0\n",
        "    if data4['статус_заявления'].iloc[i] == 'Архив':\n",
        "        data4['зачислен'].iloc[i] = 0\n",
        "        data4['не_зачислен'].iloc[i] = 1\n",
        "        data4['сдал'].iloc[i] = 1\n",
        "    if data4['статус_заявления'].iloc[i] == 'Отказ в зачислении':\n",
        "        data4['зачислен'].iloc[i] = 0\n",
        "        data4['не_зачислен'].iloc[i] = 1\n",
        "        data4['сдал'].iloc[i] = 0\n",
        "    if data4['статус_заявления'].iloc[i] == 'Зачислен':\n",
        "        data4['зачислен'].iloc[i] = 1\n",
        "        data4['не_зачислен'].iloc[i] = 0\n",
        "        data4['сдал'].iloc[i] = 1\n",
        "    if data4['статус_заявления'].iloc[i] == 'Ожидание прихода Заявителя для заключения договора':\n",
        "        data4['зачислен'].iloc[i] = 0\n",
        "        data4['не_зачислен'].iloc[i] = 0\n",
        "        data4['сдал'].iloc[i] = 1\n",
        "    if data4['статус_заявления'].iloc[i] == 'Отчислен':\n",
        "        data4['зачислен'].iloc[i] = 0\n",
        "        data4['не_зачислен'].iloc[i] = 1\n",
        "        data4['сдал'].iloc[i] = 0\n",
        "    if data4['статус_заявления'].iloc[i] == 'Вступительные испытания пройдены':\n",
        "        data4['зачислен'].iloc[i] = 0\n",
        "        data4['не_зачислен'].iloc[i] = 0\n",
        "        data4['сдал'].iloc[i] = 1\n",
        "    if data4['статус_заявления'].iloc[i] == 'Черновик':\n",
        "        data4['зачислен'].iloc[i] = 0\n",
        "        data4['не_зачислен'].iloc[i] = 0\n",
        "        data4['сдал'].iloc[i] = 0  \n",
        "    if data4['статус_заявления'].iloc[i] == 'Поданы документы':\n",
        "        data4['зачислен'].iloc[i] = 1\n",
        "        data4['не_зачислен'].iloc[i] = 0\n",
        "        data4['сдал'].iloc[i] = 1"
      ],
      "execution_count": 271,
      "outputs": [
        {
          "output_type": "stream",
          "text": [
            "/usr/local/lib/python3.6/dist-packages/pandas/core/indexing.py:670: SettingWithCopyWarning: \n",
            "A value is trying to be set on a copy of a slice from a DataFrame\n",
            "\n",
            "See the caveats in the documentation: https://pandas.pydata.org/pandas-docs/stable/user_guide/indexing.html#returning-a-view-versus-a-copy\n",
            "  iloc._setitem_with_indexer(indexer, value)\n"
          ],
          "name": "stderr"
        }
      ]
    },
    {
      "cell_type": "code",
      "metadata": {
        "id": "WnQMIudFalR4"
      },
      "source": [
        "data4['статус_код'] = data4['статус_заявления'].astype('category').cat.codes"
      ],
      "execution_count": 273,
      "outputs": []
    },
    {
      "cell_type": "code",
      "metadata": {
        "id": "xupQ9mh4bknJ"
      },
      "source": [
        "freq_enc = data4[\"статус_заявления\"].value_counts(normalize=True)\n",
        "data4[\"статус_частота\"] = data4[\"статус_заявления\"].map(freq_enc)"
      ],
      "execution_count": 274,
      "outputs": []
    },
    {
      "cell_type": "code",
      "metadata": {
        "id": "fWfDGpGMcD6M"
      },
      "source": [
        "data1 = data1[['id_заявления','id_услуги','id_ученика','Статус','Дата_создания_записи', 'дата_зачисления', 'дата_отчисления']].copy()"
      ],
      "execution_count": 282,
      "outputs": []
    },
    {
      "cell_type": "code",
      "metadata": {
        "id": "36LBsVcydhLE"
      },
      "source": [
        "data1 = pd.merge(data5, data1, how='left', left_on=['id_услуги'], right_on=['id_услуги'])"
      ],
      "execution_count": 289,
      "outputs": []
    },
    {
      "cell_type": "code",
      "metadata": {
        "id": "lGH6qLHmd6Zw"
      },
      "source": [
        "data1 = data1[~data1['id_ученика'].isna()]"
      ],
      "execution_count": 297,
      "outputs": []
    },
    {
      "cell_type": "code",
      "metadata": {
        "id": "4B4ZsdsPeVyF"
      },
      "source": [
        "data1 = data1[~data1['id_заявления'].isna()]"
      ],
      "execution_count": 301,
      "outputs": []
    },
    {
      "cell_type": "code",
      "metadata": {
        "id": "9ett6vXKdrsx"
      },
      "source": [
        "data1['id_заявления'] = data1['id_заявления'].astype(int)\n",
        "data1['id_ученика'] = data1['id_ученика'].astype(int)\n",
        "data1['Статус'] = data1['Статус'].astype(int)"
      ],
      "execution_count": 302,
      "outputs": []
    },
    {
      "cell_type": "code",
      "metadata": {
        "id": "HZSHoEuleotB"
      },
      "source": [
        "data1 = data1.drop(columns=['дата_зачисления','дата_отчисления'])"
      ],
      "execution_count": 304,
      "outputs": []
    },
    {
      "cell_type": "code",
      "metadata": {
        "id": "v_zihNohe61r"
      },
      "source": [
        "freq_enc = data1[\"Классификатор_услуги\"].value_counts(normalize=True)\n",
        "data1[\"Классификатор_услуги_частота\"] = data1[\"Классификатор_услуги\"].map(freq_enc)"
      ],
      "execution_count": 306,
      "outputs": []
    },
    {
      "cell_type": "code",
      "metadata": {
        "id": "mdL-6qtnfKp3"
      },
      "source": [
        "data1 = data1.drop(columns=['Классификатор_услуги'])"
      ],
      "execution_count": 307,
      "outputs": []
    },
    {
      "cell_type": "code",
      "metadata": {
        "id": "gBUXlYjFfKKg"
      },
      "source": [
        "data1['финансирования_код'] = data1['Тип_финансирования'].astype('category').cat.codes"
      ],
      "execution_count": 308,
      "outputs": []
    },
    {
      "cell_type": "code",
      "metadata": {
        "id": "kgv9WjlKfV6A"
      },
      "source": [
        "data1['расписания_код'] = data1['Тип_расписания'].astype('category').cat.codes"
      ],
      "execution_count": 309,
      "outputs": []
    },
    {
      "cell_type": "code",
      "metadata": {
        "id": "s1203pzmcu4i"
      },
      "source": [
        "data4 = pd.merge(data4, data1, how='left', left_on=['id_заявления','id_услуги'], right_on=['id_заявления','id_услуги']).dropna()"
      ],
      "execution_count": 313,
      "outputs": []
    },
    {
      "cell_type": "code",
      "metadata": {
        "id": "UR-B17fvgFuP"
      },
      "source": [
        "data2['пол'] = data2['пол'].astype('category').cat.codes"
      ],
      "execution_count": 316,
      "outputs": []
    },
    {
      "cell_type": "code",
      "metadata": {
        "id": "oIn-wIZGgYPU"
      },
      "source": [
        "data4['id_ученика'] = data4['id_ученика'].astype(int)\n",
        "data4['weeks'] = data4['weeks'].astype(int)\n",
        "data4['months'] = data4['months'].astype(int)\n",
        "data4['days'] = data4['days'].astype(int)\n",
        "data4['id_организации'] = data4['id_организации'].astype(int)"
      ],
      "execution_count": 318,
      "outputs": []
    },
    {
      "cell_type": "code",
      "metadata": {
        "id": "-fiyWZwVgQQf"
      },
      "source": [
        "data4 = pd.merge(data4, data2, how='left', left_on=['id_ученика'], right_on=['id_ученика']).dropna()"
      ],
      "execution_count": 321,
      "outputs": []
    },
    {
      "cell_type": "code",
      "metadata": {
        "id": "edDr8HTwhGlL"
      },
      "source": [
        "if np.isnan(data['id_родительского_классификатора'].iloc[1]):\n",
        "    print('f')"
      ],
      "execution_count": 330,
      "outputs": []
    },
    {
      "cell_type": "code",
      "metadata": {
        "id": "JsgHuE1_g3O3",
        "outputId": "0af5998c-515a-4f9e-b403-79331124d202",
        "colab": {
          "base_uri": "https://localhost:8080/"
        }
      },
      "source": [
        "data['id пользователя'] = 0\n",
        "for i in range(len(data)):\n",
        "    if np.isnan(data['id_родительского_классификатора'].iloc[i]):\n",
        "        data['id пользователя'].iloc[i] = data['id_классификатора'].iloc[i]\n",
        "    else:\n",
        "        data['id пользователя'].iloc[i] = data['id_родительского_классификатора'].iloc[i]"
      ],
      "execution_count": 331,
      "outputs": [
        {
          "output_type": "stream",
          "text": [
            "/usr/local/lib/python3.6/dist-packages/pandas/core/indexing.py:670: SettingWithCopyWarning: \n",
            "A value is trying to be set on a copy of a slice from a DataFrame\n",
            "\n",
            "See the caveats in the documentation: https://pandas.pydata.org/pandas-docs/stable/user_guide/indexing.html#returning-a-view-versus-a-copy\n",
            "  iloc._setitem_with_indexer(indexer, value)\n"
          ],
          "name": "stderr"
        }
      ]
    },
    {
      "cell_type": "code",
      "metadata": {
        "id": "133O91wUiE98"
      },
      "source": [
        "data = data.drop(columns=['id_родительского_классификатора'])"
      ],
      "execution_count": 333,
      "outputs": []
    },
    {
      "cell_type": "code",
      "metadata": {
        "id": "YQ6mx_ASip8O"
      },
      "source": [
        "data_org = data4.drop(columns=['статус_заявления','id_заявления','id_услуги','Тип_финансирования','Тип_расписания','Дата_создания_записи']).copy()"
      ],
      "execution_count": 340,
      "outputs": []
    },
    {
      "cell_type": "code",
      "metadata": {
        "id": "i12GtlZRiJZT"
      },
      "source": [
        "data_org.to_csv('organiz.csv', index=False)"
      ],
      "execution_count": 341,
      "outputs": []
    },
    {
      "cell_type": "markdown",
      "metadata": {
        "id": "XCPeuzNSkCxr"
      },
      "source": [
        "# Рекомендательный алгоритм"
      ]
    },
    {
      "cell_type": "markdown",
      "metadata": {
        "id": "Bu7ibt8FsF6o"
      },
      "source": [
        "Исходные данные"
      ]
    },
    {
      "cell_type": "code",
      "metadata": {
        "id": "9o3kkIH-kCaQ",
        "outputId": "120cf392-06f3-4ca5-aca6-30ae6cf49121",
        "colab": {
          "base_uri": "https://localhost:8080/"
        }
      },
      "source": [
        "!unzip /content/event_library.zip\n",
        "!unzip /content/organiz.zip"
      ],
      "execution_count": 1,
      "outputs": [
        {
          "output_type": "stream",
          "text": [
            "Archive:  /content/event_library.zip\n",
            "  inflating: book_user.csv           \n",
            "  inflating: book_user_s.csv         \n",
            "  inflating: event.csv               \n",
            "Archive:  /content/organiz.zip\n",
            "  inflating: organiz.csv             \n"
          ],
          "name": "stdout"
        }
      ]
    },
    {
      "cell_type": "code",
      "metadata": {
        "id": "7z9hf8ezscEa"
      },
      "source": [
        "catalog = pd.read_excel('/content/Каталог.xlsx').drop(columns=['p084a'])\n",
        "catalog['genre'] = catalog.p650a.str.replace('. ',';').str.split(';',expand=True)[0].copy()"
      ],
      "execution_count": null,
      "outputs": []
    },
    {
      "cell_type": "code",
      "metadata": {
        "id": "hACY5ZPTskpT"
      },
      "source": [
        "data3 = pd.read_csv('/content/org_hackaton.csv', sep=';')"
      ],
      "execution_count": 268,
      "outputs": []
    },
    {
      "cell_type": "code",
      "metadata": {
        "id": "RHhxkjpXkQm6"
      },
      "source": [
        "\n",
        "book_user = pd.read_csv('/content/book_user.csv')\n",
        "event = pd.read_csv('/content/event.csv')\n",
        "organiz = pd.read_csv('/content/organiz.csv')"
      ],
      "execution_count": 26,
      "outputs": []
    },
    {
      "cell_type": "code",
      "metadata": {
        "id": "F4JUlsq7k4UW"
      },
      "source": [
        "book_user['pred_genre'] = book_user.genre.apply(lambda x: x[:1])"
      ],
      "execution_count": 27,
      "outputs": []
    },
    {
      "cell_type": "code",
      "metadata": {
        "id": "0tOyMre4qT4l"
      },
      "source": [
        "fronts = book_user.pred_genre.drop_duplicates().values"
      ],
      "execution_count": 28,
      "outputs": []
    },
    {
      "cell_type": "code",
      "metadata": {
        "id": "fQb1GAEu67ak",
        "outputId": "cba5b502-9fc9-4784-f1d2-dbb17d655c17",
        "colab": {
          "base_uri": "https://localhost:8080/"
        }
      },
      "source": [
        "book_user.genre.apply(lambda x: x[:1]).drop_duplicates().sort_values().values"
      ],
      "execution_count": 299,
      "outputs": [
        {
          "output_type": "execute_result",
          "data": {
            "text/plain": [
              "array(['А', 'Б', 'В', 'Г', 'Д', 'Е', 'Ж', 'З', 'И', 'К', 'Л', 'М', 'Н',\n",
              "       'О', 'П', 'Р', 'С', 'Т', 'У', 'Ф', 'Х', 'Ц', 'Ч', 'Ш', 'Э', 'Ю',\n",
              "       'Я'], dtype=object)"
            ]
          },
          "metadata": {
            "tags": []
          },
          "execution_count": 299
        }
      ]
    },
    {
      "cell_type": "code",
      "metadata": {
        "id": "P1TZCTyjm1sn"
      },
      "source": [
        "organiz['Наименование_услуги'] = organiz['Наименование_услуги'].str.replace('[(-+/\\\".&]','')"
      ],
      "execution_count": 29,
      "outputs": []
    },
    {
      "cell_type": "code",
      "metadata": {
        "id": "zJ_iqakloabd"
      },
      "source": [
        "organiz['pred_genre'] = organiz['Наименование_услуги'].apply(lambda x: x[:1])"
      ],
      "execution_count": 30,
      "outputs": []
    },
    {
      "cell_type": "code",
      "metadata": {
        "id": "4HlFtfxcp-wY",
        "outputId": "c20ee8c3-edf0-4a6b-d2a5-d68176b543c7",
        "colab": {
          "base_uri": "https://localhost:8080/"
        }
      },
      "source": [
        "organiz.shape"
      ],
      "execution_count": 31,
      "outputs": [
        {
          "output_type": "execute_result",
          "data": {
            "text/plain": [
              "(455817, 19)"
            ]
          },
          "metadata": {
            "tags": []
          },
          "execution_count": 31
        }
      ]
    },
    {
      "cell_type": "code",
      "metadata": {
        "id": "FW9PlPP7qLK8"
      },
      "source": [
        "oraniz_test = pd.DataFrame([])\n",
        "for c in fronts:\n",
        "    oraniz_test = oraniz_test.append(organiz[organiz.pred_genre == c])"
      ],
      "execution_count": 32,
      "outputs": []
    },
    {
      "cell_type": "code",
      "metadata": {
        "id": "E1zmXl1PqANQ",
        "outputId": "1f0e0503-df67-4915-cc8f-513a06542ffb",
        "colab": {
          "base_uri": "https://localhost:8080/"
        }
      },
      "source": [
        "oraniz_test.shape"
      ],
      "execution_count": 33,
      "outputs": [
        {
          "output_type": "execute_result",
          "data": {
            "text/plain": [
              "(393398, 19)"
            ]
          },
          "metadata": {
            "tags": []
          },
          "execution_count": 33
        }
      ]
    },
    {
      "cell_type": "code",
      "metadata": {
        "id": "VnwqMtdbsFIE"
      },
      "source": [
        "book_user = book_user.sort_values(by=['pred_genre'])\n",
        "oraniz_test = oraniz_test.sort_values(by=['pred_genre'])"
      ],
      "execution_count": 34,
      "outputs": []
    },
    {
      "cell_type": "code",
      "metadata": {
        "id": "ZZiNNhYLrufl"
      },
      "source": [
        "book_user['classif'] = book_user.pred_genre.astype('category').cat.codes\n",
        "oraniz_test['classif'] = oraniz_test.pred_genre.astype('category').cat.codes"
      ],
      "execution_count": 35,
      "outputs": []
    },
    {
      "cell_type": "code",
      "metadata": {
        "id": "itq0RrdEsozn"
      },
      "source": [
        "book_user = book_user.drop(columns=['pred_genre'])\n",
        "oraniz_test = oraniz_test.drop(columns=['pred_genre'])"
      ],
      "execution_count": 36,
      "outputs": []
    },
    {
      "cell_type": "markdown",
      "metadata": {
        "id": "dAz6DZUOs4iX"
      },
      "source": [
        "Теперь категории имеют класс для связи, так же подредактировать этот класс и для мероприятий"
      ]
    },
    {
      "cell_type": "code",
      "metadata": {
        "id": "Ho6ItQhXKKmI"
      },
      "source": [
        "freq_enc = book_user[\"Раздел знаний\"].value_counts(normalize=True)\n",
        "book_user[\"Раздел знаний\"] = book_user[\"Раздел знаний\"].map(freq_enc)"
      ],
      "execution_count": 37,
      "outputs": []
    },
    {
      "cell_type": "code",
      "metadata": {
        "id": "db9dYJD8KK3l"
      },
      "source": [
        "freq_enc = book_user[\"Состояние\"].value_counts(normalize=True)\n",
        "book_user[\"Состояние\"] = book_user[\"Состояние\"].map(freq_enc)"
      ],
      "execution_count": 38,
      "outputs": []
    },
    {
      "cell_type": "code",
      "metadata": {
        "id": "EF6XZRUSKMRy"
      },
      "source": [
        "book_user = book_user.drop(columns=['Штрих-код','Дата выдачи','Дата сдачи (предполагаемая)'])"
      ],
      "execution_count": 39,
      "outputs": []
    },
    {
      "cell_type": "code",
      "metadata": {
        "id": "ImnxBcioKN1B"
      },
      "source": [
        "book_user['Возраст'] = book_user['Возраст'].astype(int)\n",
        "book_user['ИД Каталожной записи'] = book_user['ИД Каталожной записи'].astype(int)"
      ],
      "execution_count": 40,
      "outputs": []
    },
    {
      "cell_type": "code",
      "metadata": {
        "id": "1VWIaj3CtZVP"
      },
      "source": [
        "event.to_csv('final_event.csv', index=False)"
      ],
      "execution_count": 275,
      "outputs": []
    },
    {
      "cell_type": "markdown",
      "metadata": {
        "id": "BwVpIh0CK278"
      },
      "source": [
        "Возрастные категории"
      ]
    },
    {
      "cell_type": "code",
      "metadata": {
        "id": "UBE0UT2JK5R3"
      },
      "source": [
        "def age_range(df,col):\n",
        "    df['age_range'] = ''\n",
        "    for i in range(len(df)):\n",
        "        if df[col].iloc[i] < 15:\n",
        "            df['age_range'].iloc[i] = 'до 14'\n",
        "        elif df[col].iloc[i] > 14 and df[col].iloc[i] < 19:\n",
        "            df['age_range'].iloc[i] = 'от 14 до 18'\n",
        "        elif df[col].iloc[i] > 19 and df[col].iloc[i] < 25:\n",
        "            df['age_range'].iloc[i] = 'от 18 до 24'\n",
        "        elif df[col].iloc[i] > 25 and df[col].iloc[i] < 35:\n",
        "            df['age_range'].iloc[i] = 'от 25 до 34'\n",
        "        elif df[col].iloc[i] > 35 and df[col].iloc[i] < 55:\n",
        "            df['age_range'].iloc[i] = 'от 35 до 55'\n",
        "        else:\n",
        "            df['age_range'].iloc[i] = 'от 55'\n",
        "    return df"
      ],
      "execution_count": 51,
      "outputs": []
    },
    {
      "cell_type": "code",
      "metadata": {
        "id": "Oaj7EAo5L18_",
        "outputId": "6392cbc0-ead1-4b82-c8c1-7cc5ae465a75",
        "colab": {
          "base_uri": "https://localhost:8080/"
        }
      },
      "source": [
        "book_user = age_range(book_user,'Возраст')"
      ],
      "execution_count": 54,
      "outputs": [
        {
          "output_type": "stream",
          "text": [
            "/usr/local/lib/python3.6/dist-packages/pandas/core/indexing.py:670: SettingWithCopyWarning: \n",
            "A value is trying to be set on a copy of a slice from a DataFrame\n",
            "\n",
            "See the caveats in the documentation: https://pandas.pydata.org/pandas-docs/stable/user_guide/indexing.html#returning-a-view-versus-a-copy\n",
            "  iloc._setitem_with_indexer(indexer, value)\n"
          ],
          "name": "stderr"
        }
      ]
    },
    {
      "cell_type": "code",
      "metadata": {
        "id": "Jkxe6tr-SQgi"
      },
      "source": [
        "book_user = book_user.sort_values(by=['age_range'])"
      ],
      "execution_count": 76,
      "outputs": []
    },
    {
      "cell_type": "code",
      "metadata": {
        "id": "UxmYXqAbPgsP"
      },
      "source": [
        "book_user['age_range_code'] = book_user.age_range.astype('category').cat.codes"
      ],
      "execution_count": 78,
      "outputs": []
    },
    {
      "cell_type": "code",
      "metadata": {
        "id": "XeHofGpm14_T",
        "outputId": "eaacb764-2260-4ff9-f23a-f6cdc6ed8876",
        "colab": {
          "base_uri": "https://localhost:8080/"
        }
      },
      "source": [
        "book_user['genre'].drop_duplicates().sort_values()"
      ],
      "execution_count": 294,
      "outputs": [
        {
          "output_type": "execute_result",
          "data": {
            "text/plain": [
              "280576        Автодорожны\n",
              "118893          Автоматик\n",
              "71085          Автоматика\n",
              "49520     Административно\n",
              "315169           Акустика\n",
              "               ...       \n",
              "247060              Этика\n",
              "95713            Этнологи\n",
              "269784                Юмо\n",
              "61677       Юмористическа\n",
              "75400              Ядерна\n",
              "Name: genre, Length: 363, dtype: object"
            ]
          },
          "metadata": {
            "tags": []
          },
          "execution_count": 294
        }
      ]
    },
    {
      "cell_type": "code",
      "metadata": {
        "id": "c-cIYcH_tBFn"
      },
      "source": [
        "book_user.to_csv('final_book.csv', index=False)\n",
        "oraniz_test.to_csv('final_org.csv', index=False)"
      ],
      "execution_count": 274,
      "outputs": []
    },
    {
      "cell_type": "markdown",
      "metadata": {
        "id": "ZuhZI-HoK1xC"
      },
      "source": [
        "Рекомендации по книгам"
      ]
    },
    {
      "cell_type": "code",
      "metadata": {
        "id": "GG8yEZsKKO3O"
      },
      "source": [
        "from sklearn.model_selection import train_test_split\n",
        "from scipy.sparse import csr_matrix\n",
        "from sklearn.neighbors import NearestNeighbors\n",
        "import collections"
      ],
      "execution_count": 41,
      "outputs": []
    },
    {
      "cell_type": "code",
      "metadata": {
        "id": "ojcKOQ9YKRxI"
      },
      "source": [
        "train, test= train_test_split(book_user.drop(columns=['genre','age_range']).set_index(['ИД читателя']),stratify=book_user['classif'],\n",
        "                              random_state = 4256,test_size=0.2)"
      ],
      "execution_count": 289,
      "outputs": []
    },
    {
      "cell_type": "code",
      "metadata": {
        "id": "vSzN7ke74476",
        "outputId": "6ef2d72b-8ded-426b-8539-811a8fd2119a",
        "colab": {
          "base_uri": "https://localhost:8080/",
          "height": 450
        }
      },
      "source": [
        "train"
      ],
      "execution_count": 290,
      "outputs": [
        {
          "output_type": "execute_result",
          "data": {
            "text/html": [
              "<div>\n",
              "<style scoped>\n",
              "    .dataframe tbody tr th:only-of-type {\n",
              "        vertical-align: middle;\n",
              "    }\n",
              "\n",
              "    .dataframe tbody tr th {\n",
              "        vertical-align: top;\n",
              "    }\n",
              "\n",
              "    .dataframe thead th {\n",
              "        text-align: right;\n",
              "    }\n",
              "</style>\n",
              "<table border=\"1\" class=\"dataframe\">\n",
              "  <thead>\n",
              "    <tr style=\"text-align: right;\">\n",
              "      <th></th>\n",
              "      <th>Состояние</th>\n",
              "      <th>Возраст</th>\n",
              "      <th>Период</th>\n",
              "      <th>ИД Каталожной записи</th>\n",
              "      <th>Раздел знаний</th>\n",
              "      <th>classif</th>\n",
              "      <th>age_range_code</th>\n",
              "    </tr>\n",
              "    <tr>\n",
              "      <th>ИД читателя</th>\n",
              "      <th></th>\n",
              "      <th></th>\n",
              "      <th></th>\n",
              "      <th></th>\n",
              "      <th></th>\n",
              "      <th></th>\n",
              "      <th></th>\n",
              "    </tr>\n",
              "  </thead>\n",
              "  <tbody>\n",
              "    <tr>\n",
              "      <th>55989</th>\n",
              "      <td>0.851124</td>\n",
              "      <td>66</td>\n",
              "      <td>23</td>\n",
              "      <td>8536</td>\n",
              "      <td>0.104621</td>\n",
              "      <td>20</td>\n",
              "      <td>5</td>\n",
              "    </tr>\n",
              "    <tr>\n",
              "      <th>424534</th>\n",
              "      <td>0.851124</td>\n",
              "      <td>33</td>\n",
              "      <td>0</td>\n",
              "      <td>416677</td>\n",
              "      <td>0.037986</td>\n",
              "      <td>8</td>\n",
              "      <td>3</td>\n",
              "    </tr>\n",
              "    <tr>\n",
              "      <th>8624</th>\n",
              "      <td>0.142162</td>\n",
              "      <td>73</td>\n",
              "      <td>31</td>\n",
              "      <td>5173</td>\n",
              "      <td>0.000344</td>\n",
              "      <td>20</td>\n",
              "      <td>5</td>\n",
              "    </tr>\n",
              "    <tr>\n",
              "      <th>14904</th>\n",
              "      <td>0.851124</td>\n",
              "      <td>42</td>\n",
              "      <td>26</td>\n",
              "      <td>3878</td>\n",
              "      <td>0.104621</td>\n",
              "      <td>20</td>\n",
              "      <td>4</td>\n",
              "    </tr>\n",
              "    <tr>\n",
              "      <th>47156</th>\n",
              "      <td>0.851124</td>\n",
              "      <td>39</td>\n",
              "      <td>0</td>\n",
              "      <td>440047</td>\n",
              "      <td>0.007136</td>\n",
              "      <td>19</td>\n",
              "      <td>4</td>\n",
              "    </tr>\n",
              "    <tr>\n",
              "      <th>...</th>\n",
              "      <td>...</td>\n",
              "      <td>...</td>\n",
              "      <td>...</td>\n",
              "      <td>...</td>\n",
              "      <td>...</td>\n",
              "      <td>...</td>\n",
              "      <td>...</td>\n",
              "    </tr>\n",
              "    <tr>\n",
              "      <th>357026</th>\n",
              "      <td>0.851124</td>\n",
              "      <td>16</td>\n",
              "      <td>0</td>\n",
              "      <td>442847</td>\n",
              "      <td>0.003803</td>\n",
              "      <td>17</td>\n",
              "      <td>1</td>\n",
              "    </tr>\n",
              "    <tr>\n",
              "      <th>296740</th>\n",
              "      <td>0.851124</td>\n",
              "      <td>32</td>\n",
              "      <td>0</td>\n",
              "      <td>442894</td>\n",
              "      <td>0.011180</td>\n",
              "      <td>8</td>\n",
              "      <td>3</td>\n",
              "    </tr>\n",
              "    <tr>\n",
              "      <th>418791</th>\n",
              "      <td>0.851124</td>\n",
              "      <td>69</td>\n",
              "      <td>0</td>\n",
              "      <td>440079</td>\n",
              "      <td>0.037986</td>\n",
              "      <td>8</td>\n",
              "      <td>5</td>\n",
              "    </tr>\n",
              "    <tr>\n",
              "      <th>398087</th>\n",
              "      <td>0.851124</td>\n",
              "      <td>33</td>\n",
              "      <td>3</td>\n",
              "      <td>13428</td>\n",
              "      <td>0.003025</td>\n",
              "      <td>4</td>\n",
              "      <td>3</td>\n",
              "    </tr>\n",
              "    <tr>\n",
              "      <th>325660</th>\n",
              "      <td>0.005810</td>\n",
              "      <td>84</td>\n",
              "      <td>132</td>\n",
              "      <td>17761</td>\n",
              "      <td>0.000344</td>\n",
              "      <td>20</td>\n",
              "      <td>5</td>\n",
              "    </tr>\n",
              "  </tbody>\n",
              "</table>\n",
              "<p>357856 rows × 7 columns</p>\n",
              "</div>"
            ],
            "text/plain": [
              "             Состояние  Возраст  Период  ...  Раздел знаний  classif  age_range_code\n",
              "ИД читателя                              ...                                        \n",
              "55989         0.851124       66      23  ...       0.104621       20               5\n",
              "424534        0.851124       33       0  ...       0.037986        8               3\n",
              "8624          0.142162       73      31  ...       0.000344       20               5\n",
              "14904         0.851124       42      26  ...       0.104621       20               4\n",
              "47156         0.851124       39       0  ...       0.007136       19               4\n",
              "...                ...      ...     ...  ...            ...      ...             ...\n",
              "357026        0.851124       16       0  ...       0.003803       17               1\n",
              "296740        0.851124       32       0  ...       0.011180        8               3\n",
              "418791        0.851124       69       0  ...       0.037986        8               5\n",
              "398087        0.851124       33       3  ...       0.003025        4               3\n",
              "325660        0.005810       84     132  ...       0.000344       20               5\n",
              "\n",
              "[357856 rows x 7 columns]"
            ]
          },
          "metadata": {
            "tags": []
          },
          "execution_count": 290
        }
      ]
    },
    {
      "cell_type": "code",
      "metadata": {
        "id": "QAwhYTpFKSvA"
      },
      "source": [
        "train_matrix = csr_matrix(train)"
      ],
      "execution_count": 278,
      "outputs": []
    },
    {
      "cell_type": "code",
      "metadata": {
        "id": "s_p7SaMcKTqB",
        "outputId": "9131c1ce-9d9c-413e-c90d-9d65e4d89e05",
        "colab": {
          "base_uri": "https://localhost:8080/"
        }
      },
      "source": [
        "model_knn = NearestNeighbors(metric = 'cosine', algorithm = 'brute')\n",
        "model_knn.fit(train_matrix)"
      ],
      "execution_count": 279,
      "outputs": [
        {
          "output_type": "execute_result",
          "data": {
            "text/plain": [
              "NearestNeighbors(algorithm='brute', leaf_size=30, metric='cosine',\n",
              "                 metric_params=None, n_jobs=None, n_neighbors=5, p=2,\n",
              "                 radius=1.0)"
            ]
          },
          "metadata": {
            "tags": []
          },
          "execution_count": 279
        }
      ]
    },
    {
      "cell_type": "code",
      "metadata": {
        "id": "pXjPQls5zRhe"
      },
      "source": [
        "import joblib"
      ],
      "execution_count": 281,
      "outputs": []
    },
    {
      "cell_type": "code",
      "metadata": {
        "id": "wqCOLQ6ay77E",
        "outputId": "6205bcb1-792f-424d-b684-7297606e9486",
        "colab": {
          "base_uri": "https://localhost:8080/"
        }
      },
      "source": [
        "joblib.dump(model_knn, 'model_knn_book')"
      ],
      "execution_count": 283,
      "outputs": [
        {
          "output_type": "execute_result",
          "data": {
            "text/plain": [
              "['model_knn_book']"
            ]
          },
          "metadata": {
            "tags": []
          },
          "execution_count": 283
        }
      ]
    },
    {
      "cell_type": "code",
      "metadata": {
        "id": "FxK5RombKU1X"
      },
      "source": [
        "id_user = test[test.index.get_level_values('ИД читателя') == 4992]"
      ],
      "execution_count": 177,
      "outputs": []
    },
    {
      "cell_type": "code",
      "metadata": {
        "id": "G2Qwh2mzKZPL"
      },
      "source": [
        "id_sim = []\n",
        "for i in range(len(id_user)):\n",
        "    #Определяем дистанцию между авторами\n",
        "    distances, indices = model_knn.kneighbors(id_user.iloc[i].values.reshape(1, -1), n_neighbors = 20)\n",
        "    for j in range(0, len(indices.flatten())):\n",
        "        id_sim.append(indices.flatten()[j])\n",
        "counter=collections.Counter(id_sim)\n",
        "id_sim = sorted(counter, key=counter.get, reverse=True)[:20]"
      ],
      "execution_count": 178,
      "outputs": []
    },
    {
      "cell_type": "code",
      "metadata": {
        "id": "xQX2oYcMKZhT"
      },
      "source": [
        "def freqInfo(df, col):\n",
        "    list_df = []\n",
        "    for c in df:\n",
        "        list_df.append(train[train.index.get_level_values('ИД читателя') ==\n",
        "                               train.index[c]][col].drop_duplicates().values.tolist())\n",
        "    recom_list = []\n",
        "    for i in range(len(list_df)):\n",
        "        for j in range(len(list_df[i])):\n",
        "            recom_list.append(list_df[i][j])\n",
        "    counter=collections.Counter(recom_list)\n",
        "    return (sorted(counter, key=counter.get, reverse=True)[:20])"
      ],
      "execution_count": 84,
      "outputs": []
    },
    {
      "cell_type": "code",
      "metadata": {
        "id": "CZgNEdMCKanH",
        "outputId": "41e8ec1b-c6d1-4ce3-8170-2f379950fd93",
        "colab": {
          "base_uri": "https://localhost:8080/"
        }
      },
      "source": [
        "freqInfo(id_sim, 'ИД Каталожной записи')"
      ],
      "execution_count": 179,
      "outputs": [
        {
          "output_type": "execute_result",
          "data": {
            "text/plain": [
              "[3609,\n",
              " 4381,\n",
              " 4269,\n",
              " 4721,\n",
              " 10477,\n",
              " 416634,\n",
              " 3987,\n",
              " 29521,\n",
              " 452976,\n",
              " 434382,\n",
              " 454719,\n",
              " 423023,\n",
              " 433269,\n",
              " 420426,\n",
              " 433592,\n",
              " 439138,\n",
              " 454695,\n",
              " 7929,\n",
              " 4232,\n",
              " 4584]"
            ]
          },
          "metadata": {
            "tags": []
          },
          "execution_count": 179
        }
      ]
    },
    {
      "cell_type": "code",
      "metadata": {
        "id": "D7DIwnMZear9"
      },
      "source": [
        "result_i = pd.DataFrame([])\n",
        "for c in freqInfo(id_sim, 'ИД Каталожной записи'):\n",
        "    result_i = result_i.append(book_user[book_user['ИД Каталожной записи'] == c])"
      ],
      "execution_count": 182,
      "outputs": []
    },
    {
      "cell_type": "code",
      "metadata": {
        "id": "hwpiIB2VerRi"
      },
      "source": [
        "result_i = pd.merge(result_i['ИД Каталожной записи'],catalog,how='left',left_on='ИД Каталожной записи',right_on='doc_id').drop(columns=['doc_id','genre'])"
      ],
      "execution_count": 184,
      "outputs": []
    },
    {
      "cell_type": "code",
      "metadata": {
        "id": "9UbGHzAPe8Br",
        "outputId": "afc79f90-e70c-43fa-9ec9-2c9ccf4d9308",
        "colab": {
          "base_uri": "https://localhost:8080/",
          "height": 1000
        }
      },
      "source": [
        "result_i.drop_duplicates()"
      ],
      "execution_count": 186,
      "outputs": [
        {
          "output_type": "execute_result",
          "data": {
            "text/html": [
              "<div>\n",
              "<style scoped>\n",
              "    .dataframe tbody tr th:only-of-type {\n",
              "        vertical-align: middle;\n",
              "    }\n",
              "\n",
              "    .dataframe tbody tr th {\n",
              "        vertical-align: top;\n",
              "    }\n",
              "\n",
              "    .dataframe thead th {\n",
              "        text-align: right;\n",
              "    }\n",
              "</style>\n",
              "<table border=\"1\" class=\"dataframe\">\n",
              "  <thead>\n",
              "    <tr style=\"text-align: right;\">\n",
              "      <th></th>\n",
              "      <th>ИД Каталожной записи</th>\n",
              "      <th>p100a</th>\n",
              "      <th>p245a</th>\n",
              "      <th>p260a</th>\n",
              "      <th>p260b</th>\n",
              "      <th>p260c</th>\n",
              "      <th>p490a</th>\n",
              "      <th>p650a</th>\n",
              "      <th>p521a</th>\n",
              "    </tr>\n",
              "  </thead>\n",
              "  <tbody>\n",
              "    <tr>\n",
              "      <th>0</th>\n",
              "      <td>3609</td>\n",
              "      <td>Янссон Туве</td>\n",
              "      <td>Сказки Долины муми-троллей</td>\n",
              "      <td>Санкт-Петербург</td>\n",
              "      <td>Азбука</td>\n",
              "      <td>2012</td>\n",
              "      <td>Муми-тролль и все-все-все</td>\n",
              "      <td>Художественная литература</td>\n",
              "      <td>NaN</td>\n",
              "    </tr>\n",
              "    <tr>\n",
              "      <th>44</th>\n",
              "      <td>4381</td>\n",
              "      <td>Минаев Сергей Сергеевич</td>\n",
              "      <td>Духless 21 века. Селфи</td>\n",
              "      <td>Москва</td>\n",
              "      <td>АСТ ; Жанры</td>\n",
              "      <td>2015</td>\n",
              "      <td>NaN</td>\n",
              "      <td>Художественная литература</td>\n",
              "      <td>18+</td>\n",
              "    </tr>\n",
              "    <tr>\n",
              "      <th>79</th>\n",
              "      <td>4269</td>\n",
              "      <td>Бут Стивен</td>\n",
              "      <td>Танцуя с девственницами</td>\n",
              "      <td>Санкт-Петербург</td>\n",
              "      <td>Азбука-классика</td>\n",
              "      <td>2008</td>\n",
              "      <td>NaN</td>\n",
              "      <td>Художественная литература</td>\n",
              "      <td>NaN</td>\n",
              "    </tr>\n",
              "    <tr>\n",
              "      <th>90</th>\n",
              "      <td>4721</td>\n",
              "      <td>ДиКамилло Кейт</td>\n",
              "      <td>Райми Найтингейл - девочка с лампой</td>\n",
              "      <td>Москва</td>\n",
              "      <td>Махаон ; Азбука-Аттикус</td>\n",
              "      <td>2017</td>\n",
              "      <td>NaN</td>\n",
              "      <td>Художественная литература ; Литература для дет...</td>\n",
              "      <td>6+</td>\n",
              "    </tr>\n",
              "    <tr>\n",
              "      <th>312</th>\n",
              "      <td>10477</td>\n",
              "      <td>Вамба</td>\n",
              "      <td>Дневник Джанни Урагани</td>\n",
              "      <td>Москва</td>\n",
              "      <td>Самокат</td>\n",
              "      <td>2015</td>\n",
              "      <td>NaN</td>\n",
              "      <td>Художественная литература</td>\n",
              "      <td>6+</td>\n",
              "    </tr>\n",
              "    <tr>\n",
              "      <th>415</th>\n",
              "      <td>416634</td>\n",
              "      <td>Вебб Холли</td>\n",
              "      <td>Призрак кошки</td>\n",
              "      <td>Москва</td>\n",
              "      <td>Эксмо</td>\n",
              "      <td>2018</td>\n",
              "      <td>Мейзи Хитчинс. Приключения девочки-детектива</td>\n",
              "      <td>Художественная литература</td>\n",
              "      <td>12+</td>\n",
              "    </tr>\n",
              "    <tr>\n",
              "      <th>446</th>\n",
              "      <td>3987</td>\n",
              "      <td>Акунин Борис</td>\n",
              "      <td>Черный город</td>\n",
              "      <td>Москва</td>\n",
              "      <td>Захаров</td>\n",
              "      <td>2013</td>\n",
              "      <td>Новый детективъ</td>\n",
              "      <td>Художественная литература</td>\n",
              "      <td>16+</td>\n",
              "    </tr>\n",
              "    <tr>\n",
              "      <th>654</th>\n",
              "      <td>29521</td>\n",
              "      <td>Коэльо Пауло</td>\n",
              "      <td>Победитель остается один</td>\n",
              "      <td>Москва</td>\n",
              "      <td>АСТ</td>\n",
              "      <td>2012</td>\n",
              "      <td>NaN</td>\n",
              "      <td>Художественная литература</td>\n",
              "      <td>NaN</td>\n",
              "    </tr>\n",
              "    <tr>\n",
              "      <th>669</th>\n",
              "      <td>452976</td>\n",
              "      <td>Кобах Сергей Львович</td>\n",
              "      <td>Злобная кухня</td>\n",
              "      <td>Москва</td>\n",
              "      <td>Эксмо</td>\n",
              "      <td>2011</td>\n",
              "      <td>NaN</td>\n",
              "      <td>Технология общественного питания. Кулинария</td>\n",
              "      <td>NaN</td>\n",
              "    </tr>\n",
              "    <tr>\n",
              "      <th>673</th>\n",
              "      <td>434382</td>\n",
              "      <td>Юри Уильям</td>\n",
              "      <td>Преодолевая НЕТ, или  Переговоры с  трудными л...</td>\n",
              "      <td>Москва</td>\n",
              "      <td>Эксмо</td>\n",
              "      <td>2008</td>\n",
              "      <td>NaN</td>\n",
              "      <td>Психология развития и возрастная психология</td>\n",
              "      <td>NaN</td>\n",
              "    </tr>\n",
              "    <tr>\n",
              "      <th>674</th>\n",
              "      <td>454719</td>\n",
              "      <td>Гиппенрейтер Юлия Борисовна</td>\n",
              "      <td>Общаться с ребенком. Как?</td>\n",
              "      <td>Москва</td>\n",
              "      <td>АСТ ; Астрель</td>\n",
              "      <td>2007</td>\n",
              "      <td>NaN</td>\n",
              "      <td>Психология труда и профессиональной деятельности</td>\n",
              "      <td>NaN</td>\n",
              "    </tr>\n",
              "    <tr>\n",
              "      <th>688</th>\n",
              "      <td>423023</td>\n",
              "      <td>NaN</td>\n",
              "      <td>Танки и самоходные орудия</td>\n",
              "      <td>Санкт-Петербург</td>\n",
              "      <td>Балтийская книжная компания (БКК)</td>\n",
              "      <td>2007</td>\n",
              "      <td>Узнай мир</td>\n",
              "      <td>Сухопутные войска. Ракетные войска стратегичес...</td>\n",
              "      <td>NaN</td>\n",
              "    </tr>\n",
              "    <tr>\n",
              "      <th>690</th>\n",
              "      <td>433269</td>\n",
              "      <td>Городецкая Лариса</td>\n",
              "      <td>Забытые приемы любовного этикета</td>\n",
              "      <td>Ростов-на-Дону</td>\n",
              "      <td>Феникс</td>\n",
              "      <td>2013</td>\n",
              "      <td>Жизнь удалась</td>\n",
              "      <td>Этика. Культура поведения и этикет</td>\n",
              "      <td>NaN</td>\n",
              "    </tr>\n",
              "    <tr>\n",
              "      <th>691</th>\n",
              "      <td>420426</td>\n",
              "      <td>NaN</td>\n",
              "      <td>Сборник логических задач</td>\n",
              "      <td>Москва</td>\n",
              "      <td>Дом педагогики</td>\n",
              "      <td>1996</td>\n",
              "      <td>NaN</td>\n",
              "      <td>Математика</td>\n",
              "      <td>NaN</td>\n",
              "    </tr>\n",
              "    <tr>\n",
              "      <th>692</th>\n",
              "      <td>433592</td>\n",
              "      <td>Пиз Аллан</td>\n",
              "      <td>Почему мужчины врут, а женщины ревут</td>\n",
              "      <td>Москва</td>\n",
              "      <td>Эксмо</td>\n",
              "      <td>2011</td>\n",
              "      <td>Психологический бестселлер</td>\n",
              "      <td>Психология личности</td>\n",
              "      <td>NaN</td>\n",
              "    </tr>\n",
              "    <tr>\n",
              "      <th>693</th>\n",
              "      <td>439138</td>\n",
              "      <td>NaN</td>\n",
              "      <td>Караван историй</td>\n",
              "      <td>NaN</td>\n",
              "      <td>NaN</td>\n",
              "      <td>2019</td>\n",
              "      <td>NaN</td>\n",
              "      <td>Издания универсального содержания</td>\n",
              "      <td>16+</td>\n",
              "    </tr>\n",
              "    <tr>\n",
              "      <th>960</th>\n",
              "      <td>454695</td>\n",
              "      <td>Корчагина Ирина</td>\n",
              "      <td>Опасности, от которых не нужно защищать своего...</td>\n",
              "      <td>Ростов-на-Дону</td>\n",
              "      <td>Феникс</td>\n",
              "      <td>2013</td>\n",
              "      <td>Психологический практикум</td>\n",
              "      <td>Семейное воспитание и образование. Самообразов...</td>\n",
              "      <td>NaN</td>\n",
              "    </tr>\n",
              "    <tr>\n",
              "      <th>962</th>\n",
              "      <td>7929</td>\n",
              "      <td>Ардиззон Эдвард</td>\n",
              "      <td>Тим и отважный капитан</td>\n",
              "      <td>Москва</td>\n",
              "      <td>Мелик-Пашаев</td>\n",
              "      <td>2013</td>\n",
              "      <td>Морские приключения Тима</td>\n",
              "      <td>Литература для детей и юношества</td>\n",
              "      <td>0+</td>\n",
              "    </tr>\n",
              "    <tr>\n",
              "      <th>1094</th>\n",
              "      <td>4232</td>\n",
              "      <td>Аксенов Василий Павлович</td>\n",
              "      <td>NaN</td>\n",
              "      <td>NaN</td>\n",
              "      <td>NaN</td>\n",
              "      <td>2004</td>\n",
              "      <td>NaN</td>\n",
              "      <td>Художественная литература</td>\n",
              "      <td>NaN</td>\n",
              "    </tr>\n",
              "    <tr>\n",
              "      <th>1153</th>\n",
              "      <td>4584</td>\n",
              "      <td>NaN</td>\n",
              "      <td>Рассказы нашего детства</td>\n",
              "      <td>Москва</td>\n",
              "      <td>Оникс</td>\n",
              "      <td>2009</td>\n",
              "      <td>NaN</td>\n",
              "      <td>Художественная литература</td>\n",
              "      <td>NaN</td>\n",
              "    </tr>\n",
              "  </tbody>\n",
              "</table>\n",
              "</div>"
            ],
            "text/plain": [
              "      ИД Каталожной записи  ... p521a\n",
              "0                     3609  ...   NaN\n",
              "44                    4381  ...   18+\n",
              "79                    4269  ...   NaN\n",
              "90                    4721  ...    6+\n",
              "312                  10477  ...    6+\n",
              "415                 416634  ...   12+\n",
              "446                   3987  ...   16+\n",
              "654                  29521  ...   NaN\n",
              "669                 452976  ...   NaN\n",
              "673                 434382  ...   NaN\n",
              "674                 454719  ...   NaN\n",
              "688                 423023  ...   NaN\n",
              "690                 433269  ...   NaN\n",
              "691                 420426  ...   NaN\n",
              "692                 433592  ...   NaN\n",
              "693                 439138  ...   16+\n",
              "960                 454695  ...   NaN\n",
              "962                   7929  ...    0+\n",
              "1094                  4232  ...   NaN\n",
              "1153                  4584  ...   NaN\n",
              "\n",
              "[20 rows x 9 columns]"
            ]
          },
          "metadata": {
            "tags": []
          },
          "execution_count": 186
        }
      ]
    },
    {
      "cell_type": "markdown",
      "metadata": {
        "id": "XMD5Yi7lMWuO"
      },
      "source": [
        "Переход в мероприятия"
      ]
    },
    {
      "cell_type": "code",
      "metadata": {
        "id": "o86_iL5iKbyq",
        "outputId": "f3da65d5-bbe0-4b9d-9f3f-db9c633176f8",
        "colab": {
          "base_uri": "https://localhost:8080/"
        }
      },
      "source": [
        "freqInfo(id_sim, 'classif')"
      ],
      "execution_count": 110,
      "outputs": [
        {
          "output_type": "execute_result",
          "data": {
            "text/plain": [
              "[20, 14, 8, 13, 17, 16, 24, 11, 10, 12, 7, 19, 1]"
            ]
          },
          "metadata": {
            "tags": []
          },
          "execution_count": 110
        }
      ]
    },
    {
      "cell_type": "code",
      "metadata": {
        "id": "4OANbV98U-V_",
        "outputId": "659d10b1-11da-48ec-ce02-fc82070cd4e8",
        "colab": {
          "base_uri": "https://localhost:8080/"
        }
      },
      "source": [
        "freqInfo(id_sim, 'age_range_code')"
      ],
      "execution_count": 111,
      "outputs": [
        {
          "output_type": "execute_result",
          "data": {
            "text/plain": [
              "[4, 3, 5, 2]"
            ]
          },
          "metadata": {
            "tags": []
          },
          "execution_count": 111
        }
      ]
    },
    {
      "cell_type": "code",
      "metadata": {
        "id": "vMPBGgmHMYrW"
      },
      "source": [
        "oraniz_test['возраст'] = oraniz_test['возраст'].astype(int)"
      ],
      "execution_count": 71,
      "outputs": []
    },
    {
      "cell_type": "code",
      "metadata": {
        "id": "gQs44krUR9lG",
        "outputId": "d2234f58-b134-470b-db4f-0d7a7b48763f",
        "colab": {
          "base_uri": "https://localhost:8080/"
        }
      },
      "source": [
        "oraniz_test = age_range(oraniz_test,'возраст')"
      ],
      "execution_count": 73,
      "outputs": [
        {
          "output_type": "stream",
          "text": [
            "/usr/local/lib/python3.6/dist-packages/pandas/core/indexing.py:670: SettingWithCopyWarning: \n",
            "A value is trying to be set on a copy of a slice from a DataFrame\n",
            "\n",
            "See the caveats in the documentation: https://pandas.pydata.org/pandas-docs/stable/user_guide/indexing.html#returning-a-view-versus-a-copy\n",
            "  iloc._setitem_with_indexer(indexer, value)\n"
          ],
          "name": "stderr"
        }
      ]
    },
    {
      "cell_type": "code",
      "metadata": {
        "id": "OJy7sgjzSLQF"
      },
      "source": [
        "oraniz_test = oraniz_test.sort_values(by=['age_range'])"
      ],
      "execution_count": 74,
      "outputs": []
    },
    {
      "cell_type": "code",
      "metadata": {
        "id": "E1WCIuYGTcAA"
      },
      "source": [
        "oraniz_test['age_range_code'] = oraniz_test.age_range.astype('category').cat.codes"
      ],
      "execution_count": 87,
      "outputs": []
    },
    {
      "cell_type": "markdown",
      "metadata": {
        "id": "bcKJSXjDYqng"
      },
      "source": [
        "Переход"
      ]
    },
    {
      "cell_type": "code",
      "metadata": {
        "id": "HWfmijlQXYLj"
      },
      "source": [
        "result = pd.DataFrame([])\n",
        "for c in freqInfo(id_sim, 'age_range_code'):\n",
        "    for cl in freqInfo(id_sim, 'classif'):\n",
        "        result = result.append(oraniz_test[(oraniz_test.age_range_code == c) & (oraniz_test.classif == cl)])"
      ],
      "execution_count": 116,
      "outputs": []
    },
    {
      "cell_type": "code",
      "metadata": {
        "id": "e2_kn4SKYSXw"
      },
      "source": [
        "result = result[['Наименование_услуги', 'id_организации']].drop_duplicates()"
      ],
      "execution_count": 121,
      "outputs": []
    },
    {
      "cell_type": "code",
      "metadata": {
        "id": "3WMv-2N9ZFzs"
      },
      "source": [
        "result = pd.merge(result, data3, how='left', on='id_организации')"
      ],
      "execution_count": 126,
      "outputs": []
    },
    {
      "cell_type": "markdown",
      "metadata": {
        "id": "75-D90TkZmOx"
      },
      "source": [
        "Рекомендация по истории пользователя Библиотек по посещению кружков"
      ]
    },
    {
      "cell_type": "code",
      "metadata": {
        "id": "LbZAhiszZiDR",
        "outputId": "1a84b504-8779-4686-a046-981c68d13a62",
        "colab": {
          "base_uri": "https://localhost:8080/",
          "height": 759
        }
      },
      "source": [
        "result"
      ],
      "execution_count": 127,
      "outputs": [
        {
          "output_type": "execute_result",
          "data": {
            "text/html": [
              "<div>\n",
              "<style scoped>\n",
              "    .dataframe tbody tr th:only-of-type {\n",
              "        vertical-align: middle;\n",
              "    }\n",
              "\n",
              "    .dataframe tbody tr th {\n",
              "        vertical-align: top;\n",
              "    }\n",
              "\n",
              "    .dataframe thead th {\n",
              "        text-align: right;\n",
              "    }\n",
              "</style>\n",
              "<table border=\"1\" class=\"dataframe\">\n",
              "  <thead>\n",
              "    <tr style=\"text-align: right;\">\n",
              "      <th></th>\n",
              "      <th>Наименование_услуги</th>\n",
              "      <th>id_организации</th>\n",
              "      <th>полное_наименование</th>\n",
              "      <th>краткое_наименование</th>\n",
              "      <th>улица</th>\n",
              "      <th>Метро</th>\n",
              "    </tr>\n",
              "  </thead>\n",
              "  <tbody>\n",
              "    <tr>\n",
              "      <th>0</th>\n",
              "      <td>Хор русской песни На завалинке</td>\n",
              "      <td>10912</td>\n",
              "      <td>Государственное бюджетное учреждение культуры ...</td>\n",
              "      <td>ГБУК г. Москвы ТКС \"Орехово\"</td>\n",
              "      <td>Борисовский проезд</td>\n",
              "      <td>Домодедовская</td>\n",
              "    </tr>\n",
              "    <tr>\n",
              "      <th>1</th>\n",
              "      <td>Хор русской песни На завалинке</td>\n",
              "      <td>10912</td>\n",
              "      <td>Государственное бюджетное учреждение культуры ...</td>\n",
              "      <td>ГБУК г. Москвы ТКС \"Орехово\"</td>\n",
              "      <td>Борисовский проезд</td>\n",
              "      <td>Красногвардейская</td>\n",
              "    </tr>\n",
              "    <tr>\n",
              "      <th>2</th>\n",
              "      <td>Хор русской песни На завалинке</td>\n",
              "      <td>10912</td>\n",
              "      <td>Государственное бюджетное учреждение культуры ...</td>\n",
              "      <td>ГБУК г. Москвы ТКС \"Орехово\"</td>\n",
              "      <td>Борисовский проезд</td>\n",
              "      <td>Шипиловская</td>\n",
              "    </tr>\n",
              "    <tr>\n",
              "      <th>3</th>\n",
              "      <td>Хор русской песни На завалинке</td>\n",
              "      <td>10912</td>\n",
              "      <td>Государственное бюджетное учреждение культуры ...</td>\n",
              "      <td>ГБУК г. Москвы ТКС \"Орехово\"</td>\n",
              "      <td>Борисовский проезд</td>\n",
              "      <td>Орехово</td>\n",
              "    </tr>\n",
              "    <tr>\n",
              "      <th>4</th>\n",
              "      <td>Хоровая мастерская</td>\n",
              "      <td>21810</td>\n",
              "      <td>Государственное бюджетное учреждение культуры...</td>\n",
              "      <td>ГБУК г. Москвы \"ММКЦ\"</td>\n",
              "      <td>Ярославское шоссе</td>\n",
              "      <td>ВДНХ</td>\n",
              "    </tr>\n",
              "    <tr>\n",
              "      <th>...</th>\n",
              "      <td>...</td>\n",
              "      <td>...</td>\n",
              "      <td>...</td>\n",
              "      <td>...</td>\n",
              "      <td>...</td>\n",
              "      <td>...</td>\n",
              "    </tr>\n",
              "    <tr>\n",
              "      <th>4029</th>\n",
              "      <td>Балалайка комплексная  7-летняя программа</td>\n",
              "      <td>48</td>\n",
              "      <td>Государственное бюджетное учреждение дополните...</td>\n",
              "      <td>ГБОУ ДОД г.Москвы «Детская школа искусств имен...</td>\n",
              "      <td>Палехская улица</td>\n",
              "      <td>ВДНХ</td>\n",
              "    </tr>\n",
              "    <tr>\n",
              "      <th>4030</th>\n",
              "      <td>Балалайка комплексная  5-летняя программа</td>\n",
              "      <td>48</td>\n",
              "      <td>Государственное бюджетное учреждение дополните...</td>\n",
              "      <td>ГБОУ ДОД г.Москвы «Детская школа искусств имен...</td>\n",
              "      <td>Палехская улица</td>\n",
              "      <td>Бабушкинская</td>\n",
              "    </tr>\n",
              "    <tr>\n",
              "      <th>4031</th>\n",
              "      <td>Балалайка комплексная  5-летняя программа</td>\n",
              "      <td>48</td>\n",
              "      <td>Государственное бюджетное учреждение дополните...</td>\n",
              "      <td>ГБОУ ДОД г.Москвы «Детская школа искусств имен...</td>\n",
              "      <td>Палехская улица</td>\n",
              "      <td>Ботанический сад</td>\n",
              "    </tr>\n",
              "    <tr>\n",
              "      <th>4032</th>\n",
              "      <td>Балалайка комплексная  5-летняя программа</td>\n",
              "      <td>48</td>\n",
              "      <td>Государственное бюджетное учреждение дополните...</td>\n",
              "      <td>ГБОУ ДОД г.Москвы «Детская школа искусств имен...</td>\n",
              "      <td>Палехская улица</td>\n",
              "      <td>ВДНХ</td>\n",
              "    </tr>\n",
              "    <tr>\n",
              "      <th>4033</th>\n",
              "      <td>Баян комплексная  5-летняя программа</td>\n",
              "      <td>12</td>\n",
              "      <td>Государственное бюджетное учреждение дополните...</td>\n",
              "      <td>ГБУДО г.Москвы \"ДМШ им. В.В.Стасова\"</td>\n",
              "      <td>Малый Строченовский переулок</td>\n",
              "      <td>Серпуховская</td>\n",
              "    </tr>\n",
              "  </tbody>\n",
              "</table>\n",
              "<p>4034 rows × 6 columns</p>\n",
              "</div>"
            ],
            "text/plain": [
              "                            Наименование_услуги  ...              Метро\n",
              "0                Хор русской песни На завалинке  ...      Домодедовская\n",
              "1                Хор русской песни На завалинке  ...  Красногвардейская\n",
              "2                Хор русской песни На завалинке  ...        Шипиловская\n",
              "3                Хор русской песни На завалинке  ...            Орехово\n",
              "4                            Хоровая мастерская  ...               ВДНХ\n",
              "...                                         ...  ...                ...\n",
              "4029  Балалайка комплексная  7-летняя программа  ...               ВДНХ\n",
              "4030  Балалайка комплексная  5-летняя программа  ...       Бабушкинская\n",
              "4031  Балалайка комплексная  5-летняя программа  ...   Ботанический сад\n",
              "4032  Балалайка комплексная  5-летняя программа  ...               ВДНХ\n",
              "4033       Баян комплексная  5-летняя программа  ...       Серпуховская\n",
              "\n",
              "[4034 rows x 6 columns]"
            ]
          },
          "metadata": {
            "tags": []
          },
          "execution_count": 127
        }
      ]
    },
    {
      "cell_type": "markdown",
      "metadata": {
        "id": "vzDfce6bZtLc"
      },
      "source": [
        "Рекомендательный алгоритм по кружкам"
      ]
    },
    {
      "cell_type": "code",
      "metadata": {
        "id": "wpt0AY9lZwfM"
      },
      "source": [
        "train, test= train_test_split(oraniz_test.drop(columns=['Наименование_услуги','age_range']).set_index(['id_ученика']).astype(int),stratify=oraniz_test['classif'],\n",
        "                              random_state = 256,test_size=0.2)"
      ],
      "execution_count": 284,
      "outputs": []
    },
    {
      "cell_type": "code",
      "metadata": {
        "id": "OXpwmwlCahOb"
      },
      "source": [
        "train_matrix = csr_matrix(train)"
      ],
      "execution_count": 285,
      "outputs": []
    },
    {
      "cell_type": "code",
      "metadata": {
        "id": "f9Ulo_c1a1Oj",
        "outputId": "31ef44ad-05b9-4965-fa0d-b50fa98e8942",
        "colab": {
          "base_uri": "https://localhost:8080/"
        }
      },
      "source": [
        "model_knn_org = NearestNeighbors(metric = 'cosine', algorithm = 'brute')\n",
        "model_knn_org.fit(train_matrix)"
      ],
      "execution_count": 286,
      "outputs": [
        {
          "output_type": "execute_result",
          "data": {
            "text/plain": [
              "NearestNeighbors(algorithm='brute', leaf_size=30, metric='cosine',\n",
              "                 metric_params=None, n_jobs=None, n_neighbors=5, p=2,\n",
              "                 radius=1.0)"
            ]
          },
          "metadata": {
            "tags": []
          },
          "execution_count": 286
        }
      ]
    },
    {
      "cell_type": "code",
      "metadata": {
        "id": "Mex-sxL9zgPi",
        "outputId": "b7208517-04d4-44e6-ebab-b8ecc4ce60e4",
        "colab": {
          "base_uri": "https://localhost:8080/"
        }
      },
      "source": [
        "joblib.dump(model_knn_org, 'model_knn_org')"
      ],
      "execution_count": 287,
      "outputs": [
        {
          "output_type": "execute_result",
          "data": {
            "text/plain": [
              "['model_knn_org']"
            ]
          },
          "metadata": {
            "tags": []
          },
          "execution_count": 287
        }
      ]
    },
    {
      "cell_type": "code",
      "metadata": {
        "id": "SWvlzQ7ha4GL"
      },
      "source": [
        "id_user = test[test.index.get_level_values('id_ученика') == 3085269]"
      ],
      "execution_count": 144,
      "outputs": []
    },
    {
      "cell_type": "code",
      "metadata": {
        "id": "0mpx2O85bFKx"
      },
      "source": [
        "id_sim = []\n",
        "for i in range(len(id_user)):\n",
        "    #Определяем дистанцию между авторами\n",
        "    distances, indices = model_knn_org.kneighbors(id_user.iloc[i].values.reshape(1, -1), n_neighbors = 20)\n",
        "    for j in range(0, len(indices.flatten())):\n",
        "        id_sim.append(indices.flatten()[j])\n",
        "counter=collections.Counter(id_sim)\n",
        "id_sim = sorted(counter, key=counter.get, reverse=True)[:20]"
      ],
      "execution_count": 145,
      "outputs": []
    },
    {
      "cell_type": "code",
      "metadata": {
        "id": "Ry7g-6wgbhah"
      },
      "source": [
        "def freqInfoT(df, col):\n",
        "    list_df = []\n",
        "    for c in df:\n",
        "        list_df.append(train[train.index.get_level_values('id_ученика') ==\n",
        "                               train.index[c]][col].drop_duplicates().values.tolist())\n",
        "    recom_list = []\n",
        "    for i in range(len(list_df)):\n",
        "        for j in range(len(list_df[i])):\n",
        "            recom_list.append(list_df[i][j])\n",
        "    counter=collections.Counter(recom_list)\n",
        "    return (sorted(counter, key=counter.get, reverse=True)[:20])"
      ],
      "execution_count": 149,
      "outputs": []
    },
    {
      "cell_type": "code",
      "metadata": {
        "id": "gLgxDM5obJrG",
        "outputId": "551d4c14-c625-4692-996c-b103ff781b93",
        "colab": {
          "base_uri": "https://localhost:8080/"
        }
      },
      "source": [
        "freqInfoT(id_sim, 'id_организации')"
      ],
      "execution_count": 150,
      "outputs": [
        {
          "output_type": "execute_result",
          "data": {
            "text/plain": [
              "[10887, 10920, 10860, 10912, 10917, 10873, 10850, 10854, 10843, 10858]"
            ]
          },
          "metadata": {
            "tags": []
          },
          "execution_count": 150
        }
      ]
    },
    {
      "cell_type": "markdown",
      "metadata": {
        "id": "axNKNKSOdSet"
      },
      "source": [
        "Рекомендуем другие кружки"
      ]
    },
    {
      "cell_type": "code",
      "metadata": {
        "id": "pgVhKYW2dUWV"
      },
      "source": [
        "result_i = pd.DataFrame([])\n",
        "for c in freqInfoT(id_sim, 'id_организации'):\n",
        "    result_i = result_i.append(oraniz_test[oraniz_test['id_организации'] == c])"
      ],
      "execution_count": 167,
      "outputs": []
    },
    {
      "cell_type": "code",
      "metadata": {
        "id": "mgeHSc7pdXne"
      },
      "source": [
        "result_i = result_i[['Наименование_услуги','id_организации','years', 'weeks', 'months', 'days']]"
      ],
      "execution_count": 170,
      "outputs": []
    },
    {
      "cell_type": "code",
      "metadata": {
        "id": "6zVW0zyqd-N6"
      },
      "source": [
        "result_i = pd.merge(result_i, data3, how='left', on='id_организации')"
      ],
      "execution_count": 172,
      "outputs": []
    },
    {
      "cell_type": "markdown",
      "metadata": {
        "id": "cKHGZ760eMWQ"
      },
      "source": [
        "Результат"
      ]
    },
    {
      "cell_type": "code",
      "metadata": {
        "id": "NSEgnP9NeLkQ",
        "outputId": "f1b6bff0-7044-4db3-cd0e-8911ae4442c4",
        "colab": {
          "base_uri": "https://localhost:8080/",
          "height": 949
        }
      },
      "source": [
        "result_i"
      ],
      "execution_count": 173,
      "outputs": [
        {
          "output_type": "execute_result",
          "data": {
            "text/html": [
              "<div>\n",
              "<style scoped>\n",
              "    .dataframe tbody tr th:only-of-type {\n",
              "        vertical-align: middle;\n",
              "    }\n",
              "\n",
              "    .dataframe tbody tr th {\n",
              "        vertical-align: top;\n",
              "    }\n",
              "\n",
              "    .dataframe thead th {\n",
              "        text-align: right;\n",
              "    }\n",
              "</style>\n",
              "<table border=\"1\" class=\"dataframe\">\n",
              "  <thead>\n",
              "    <tr style=\"text-align: right;\">\n",
              "      <th></th>\n",
              "      <th>Наименование_услуги</th>\n",
              "      <th>id_организации</th>\n",
              "      <th>years</th>\n",
              "      <th>weeks</th>\n",
              "      <th>months</th>\n",
              "      <th>days</th>\n",
              "      <th>полное_наименование</th>\n",
              "      <th>краткое_наименование</th>\n",
              "      <th>улица</th>\n",
              "      <th>Метро</th>\n",
              "    </tr>\n",
              "  </thead>\n",
              "  <tbody>\n",
              "    <tr>\n",
              "      <th>0</th>\n",
              "      <td>Секция «ХУДОЖЕСТВЕННАЯ ГИМНАСТИКА», гр №5</td>\n",
              "      <td>10887</td>\n",
              "      <td>5</td>\n",
              "      <td>0</td>\n",
              "      <td>0</td>\n",
              "      <td>0</td>\n",
              "      <td>Государственное бюджетное учреждение культуры ...</td>\n",
              "      <td>ГБУК г. Москвы \"ЦКИ \"Меридиан\"</td>\n",
              "      <td>Профсоюзная улица</td>\n",
              "      <td>Калужская</td>\n",
              "    </tr>\n",
              "    <tr>\n",
              "      <th>1</th>\n",
              "      <td>Секция единоборств ШАНГИ, гр №1</td>\n",
              "      <td>10887</td>\n",
              "      <td>5</td>\n",
              "      <td>0</td>\n",
              "      <td>0</td>\n",
              "      <td>0</td>\n",
              "      <td>Государственное бюджетное учреждение культуры ...</td>\n",
              "      <td>ГБУК г. Москвы \"ЦКИ \"Меридиан\"</td>\n",
              "      <td>Профсоюзная улица</td>\n",
              "      <td>Калужская</td>\n",
              "    </tr>\n",
              "    <tr>\n",
              "      <th>2</th>\n",
              "      <td>Секция единоборств ШАНГИ, гр №1</td>\n",
              "      <td>10887</td>\n",
              "      <td>5</td>\n",
              "      <td>0</td>\n",
              "      <td>0</td>\n",
              "      <td>0</td>\n",
              "      <td>Государственное бюджетное учреждение культуры ...</td>\n",
              "      <td>ГБУК г. Москвы \"ЦКИ \"Меридиан\"</td>\n",
              "      <td>Профсоюзная улица</td>\n",
              "      <td>Калужская</td>\n",
              "    </tr>\n",
              "    <tr>\n",
              "      <th>3</th>\n",
              "      <td>Секция единоборств ШАНГИ, гр №1</td>\n",
              "      <td>10887</td>\n",
              "      <td>5</td>\n",
              "      <td>0</td>\n",
              "      <td>0</td>\n",
              "      <td>0</td>\n",
              "      <td>Государственное бюджетное учреждение культуры ...</td>\n",
              "      <td>ГБУК г. Москвы \"ЦКИ \"Меридиан\"</td>\n",
              "      <td>Профсоюзная улица</td>\n",
              "      <td>Калужская</td>\n",
              "    </tr>\n",
              "    <tr>\n",
              "      <th>4</th>\n",
              "      <td>Секция единоборств ШАНГИ, гр №1</td>\n",
              "      <td>10887</td>\n",
              "      <td>5</td>\n",
              "      <td>0</td>\n",
              "      <td>0</td>\n",
              "      <td>0</td>\n",
              "      <td>Государственное бюджетное учреждение культуры ...</td>\n",
              "      <td>ГБУК г. Москвы \"ЦКИ \"Меридиан\"</td>\n",
              "      <td>Профсоюзная улица</td>\n",
              "      <td>Калужская</td>\n",
              "    </tr>\n",
              "    <tr>\n",
              "      <th>...</th>\n",
              "      <td>...</td>\n",
              "      <td>...</td>\n",
              "      <td>...</td>\n",
              "      <td>...</td>\n",
              "      <td>...</td>\n",
              "      <td>...</td>\n",
              "      <td>...</td>\n",
              "      <td>...</td>\n",
              "      <td>...</td>\n",
              "      <td>...</td>\n",
              "    </tr>\n",
              "    <tr>\n",
              "      <th>113687</th>\n",
              "      <td>Оперетта на Таганке, бесплатная основа</td>\n",
              "      <td>10858</td>\n",
              "      <td>5</td>\n",
              "      <td>0</td>\n",
              "      <td>0</td>\n",
              "      <td>0</td>\n",
              "      <td>Государственное бюджетное учреждение культуры ...</td>\n",
              "      <td>ГБУК г. Москвы \"ДК \"Стимул\"</td>\n",
              "      <td>Сибирский проезд</td>\n",
              "      <td>NaN</td>\n",
              "    </tr>\n",
              "    <tr>\n",
              "      <th>113688</th>\n",
              "      <td>Оперетта на Таганке, бесплатная основа</td>\n",
              "      <td>10858</td>\n",
              "      <td>5</td>\n",
              "      <td>0</td>\n",
              "      <td>0</td>\n",
              "      <td>0</td>\n",
              "      <td>Государственное бюджетное учреждение культуры ...</td>\n",
              "      <td>ГБУК г. Москвы \"ДК \"Стимул\"</td>\n",
              "      <td>Сибирский проезд</td>\n",
              "      <td>NaN</td>\n",
              "    </tr>\n",
              "    <tr>\n",
              "      <th>113689</th>\n",
              "      <td>Оперетта на Таганке, бесплатная основа</td>\n",
              "      <td>10858</td>\n",
              "      <td>5</td>\n",
              "      <td>0</td>\n",
              "      <td>0</td>\n",
              "      <td>0</td>\n",
              "      <td>Государственное бюджетное учреждение культуры ...</td>\n",
              "      <td>ГБУК г. Москвы \"ДК \"Стимул\"</td>\n",
              "      <td>Сибирский проезд</td>\n",
              "      <td>NaN</td>\n",
              "    </tr>\n",
              "    <tr>\n",
              "      <th>113690</th>\n",
              "      <td>Оперетта на Таганке, бесплатная основа</td>\n",
              "      <td>10858</td>\n",
              "      <td>5</td>\n",
              "      <td>0</td>\n",
              "      <td>0</td>\n",
              "      <td>0</td>\n",
              "      <td>Государственное бюджетное учреждение культуры ...</td>\n",
              "      <td>ГБУК г. Москвы \"ДК \"Стимул\"</td>\n",
              "      <td>Сибирский проезд</td>\n",
              "      <td>NaN</td>\n",
              "    </tr>\n",
              "    <tr>\n",
              "      <th>113691</th>\n",
              "      <td>Оперетта на Таганке, бесплатная основа</td>\n",
              "      <td>10858</td>\n",
              "      <td>5</td>\n",
              "      <td>0</td>\n",
              "      <td>0</td>\n",
              "      <td>0</td>\n",
              "      <td>Государственное бюджетное учреждение культуры ...</td>\n",
              "      <td>ГБУК г. Москвы \"ДК \"Стимул\"</td>\n",
              "      <td>Сибирский проезд</td>\n",
              "      <td>NaN</td>\n",
              "    </tr>\n",
              "  </tbody>\n",
              "</table>\n",
              "<p>113692 rows × 10 columns</p>\n",
              "</div>"
            ],
            "text/plain": [
              "                              Наименование_услуги  ...      Метро\n",
              "0       Секция «ХУДОЖЕСТВЕННАЯ ГИМНАСТИКА», гр №5  ...  Калужская\n",
              "1                 Секция единоборств ШАНГИ, гр №1  ...  Калужская\n",
              "2                 Секция единоборств ШАНГИ, гр №1  ...  Калужская\n",
              "3                 Секция единоборств ШАНГИ, гр №1  ...  Калужская\n",
              "4                 Секция единоборств ШАНГИ, гр №1  ...  Калужская\n",
              "...                                           ...  ...        ...\n",
              "113687     Оперетта на Таганке, бесплатная основа  ...        NaN\n",
              "113688     Оперетта на Таганке, бесплатная основа  ...        NaN\n",
              "113689     Оперетта на Таганке, бесплатная основа  ...        NaN\n",
              "113690     Оперетта на Таганке, бесплатная основа  ...        NaN\n",
              "113691     Оперетта на Таганке, бесплатная основа  ...        NaN\n",
              "\n",
              "[113692 rows x 10 columns]"
            ]
          },
          "metadata": {
            "tags": []
          },
          "execution_count": 173
        }
      ]
    },
    {
      "cell_type": "markdown",
      "metadata": {
        "id": "qEreFtXzbtuk"
      },
      "source": [
        "Переход в книги"
      ]
    },
    {
      "cell_type": "code",
      "metadata": {
        "id": "uR4QZ4vJbpgI",
        "outputId": "425ea625-2c4e-4571-bccd-0221d665f5f5",
        "colab": {
          "base_uri": "https://localhost:8080/"
        }
      },
      "source": [
        "freqInfoT(id_sim, 'classif')"
      ],
      "execution_count": 151,
      "outputs": [
        {
          "output_type": "execute_result",
          "data": {
            "text/plain": [
              "[19, 20, 17, 16, 13, 24]"
            ]
          },
          "metadata": {
            "tags": []
          },
          "execution_count": 151
        }
      ]
    },
    {
      "cell_type": "code",
      "metadata": {
        "id": "fcjRjaYSbNea",
        "outputId": "bdeaea12-6799-4e62-8e72-72c84fb410ba",
        "colab": {
          "base_uri": "https://localhost:8080/"
        }
      },
      "source": [
        "freqInfoT(id_sim, 'age_range_code')"
      ],
      "execution_count": 152,
      "outputs": [
        {
          "output_type": "execute_result",
          "data": {
            "text/plain": [
              "[2]"
            ]
          },
          "metadata": {
            "tags": []
          },
          "execution_count": 152
        }
      ]
    },
    {
      "cell_type": "code",
      "metadata": {
        "id": "rgXBXMS9bwGf"
      },
      "source": [
        "result = pd.DataFrame([])\n",
        "for c in freqInfoT(id_sim, 'age_range_code'):\n",
        "    for cl in freqInfoT(id_sim, 'classif'):\n",
        "        result = result.append(book_user[(book_user.age_range_code == c) & (book_user.classif == cl)])"
      ],
      "execution_count": 155,
      "outputs": []
    },
    {
      "cell_type": "code",
      "metadata": {
        "id": "3cIgdkMncqDy"
      },
      "source": [
        "result = pd.merge(result['ИД Каталожной записи'],catalog,how='left',left_on='ИД Каталожной записи',right_on='doc_id').drop(columns=['doc_id','genre'])"
      ],
      "execution_count": 163,
      "outputs": []
    },
    {
      "cell_type": "markdown",
      "metadata": {
        "id": "ZVuXS7BAdN-Y"
      },
      "source": [
        "Результат работы"
      ]
    },
    {
      "cell_type": "code",
      "metadata": {
        "id": "i7UgEzGvcAYm",
        "outputId": "ae9801c8-ef21-4bcf-995e-766a0d941a02",
        "colab": {
          "base_uri": "https://localhost:8080/",
          "height": 657
        }
      },
      "source": [
        "result"
      ],
      "execution_count": 164,
      "outputs": [
        {
          "output_type": "execute_result",
          "data": {
            "text/html": [
              "<div>\n",
              "<style scoped>\n",
              "    .dataframe tbody tr th:only-of-type {\n",
              "        vertical-align: middle;\n",
              "    }\n",
              "\n",
              "    .dataframe tbody tr th {\n",
              "        vertical-align: top;\n",
              "    }\n",
              "\n",
              "    .dataframe thead th {\n",
              "        text-align: right;\n",
              "    }\n",
              "</style>\n",
              "<table border=\"1\" class=\"dataframe\">\n",
              "  <thead>\n",
              "    <tr style=\"text-align: right;\">\n",
              "      <th></th>\n",
              "      <th>ИД Каталожной записи</th>\n",
              "      <th>p100a</th>\n",
              "      <th>p245a</th>\n",
              "      <th>p260a</th>\n",
              "      <th>p260b</th>\n",
              "      <th>p260c</th>\n",
              "      <th>p490a</th>\n",
              "      <th>p650a</th>\n",
              "      <th>p521a</th>\n",
              "    </tr>\n",
              "  </thead>\n",
              "  <tbody>\n",
              "    <tr>\n",
              "      <th>0</th>\n",
              "      <td>406218</td>\n",
              "      <td>Хокинг Джейн</td>\n",
              "      <td>Быть Хокингом</td>\n",
              "      <td>Москва</td>\n",
              "      <td>Эксмо</td>\n",
              "      <td>2018</td>\n",
              "      <td>Civiliзация</td>\n",
              "      <td>Физика</td>\n",
              "      <td>12+</td>\n",
              "    </tr>\n",
              "    <tr>\n",
              "      <th>1</th>\n",
              "      <td>440047</td>\n",
              "      <td>NaN</td>\n",
              "      <td>Советский спорт</td>\n",
              "      <td>NaN</td>\n",
              "      <td>NaN</td>\n",
              "      <td>2019</td>\n",
              "      <td>NaN</td>\n",
              "      <td>Физическая культура и спорт. Туризм</td>\n",
              "      <td>NaN</td>\n",
              "    </tr>\n",
              "    <tr>\n",
              "      <th>2</th>\n",
              "      <td>10673</td>\n",
              "      <td>NaN</td>\n",
              "      <td>Вокруг света</td>\n",
              "      <td>NaN</td>\n",
              "      <td>NaN</td>\n",
              "      <td>2018</td>\n",
              "      <td>NaN</td>\n",
              "      <td>Физическая география</td>\n",
              "      <td>12+</td>\n",
              "    </tr>\n",
              "    <tr>\n",
              "      <th>3</th>\n",
              "      <td>510630</td>\n",
              "      <td>Тарасов Владимир Иванович</td>\n",
              "      <td>Деньги, кредит, банки</td>\n",
              "      <td>Минск</td>\n",
              "      <td>Мисанта</td>\n",
              "      <td>2003</td>\n",
              "      <td>NaN</td>\n",
              "      <td>Финансы. Банковское дело. Рынок ценных бумаг. ...</td>\n",
              "      <td>NaN</td>\n",
              "    </tr>\n",
              "    <tr>\n",
              "      <th>4</th>\n",
              "      <td>9320</td>\n",
              "      <td>Маклин Алистер</td>\n",
              "      <td>Капитан Кук</td>\n",
              "      <td>Москва</td>\n",
              "      <td>Центрполиграф</td>\n",
              "      <td>2001</td>\n",
              "      <td>Великие географические открытия</td>\n",
              "      <td>Физическая география</td>\n",
              "      <td>NaN</td>\n",
              "    </tr>\n",
              "    <tr>\n",
              "      <th>...</th>\n",
              "      <td>...</td>\n",
              "      <td>...</td>\n",
              "      <td>...</td>\n",
              "      <td>...</td>\n",
              "      <td>...</td>\n",
              "      <td>...</td>\n",
              "      <td>...</td>\n",
              "      <td>...</td>\n",
              "      <td>...</td>\n",
              "    </tr>\n",
              "    <tr>\n",
              "      <th>11447</th>\n",
              "      <td>412995</td>\n",
              "      <td>NaN</td>\n",
              "      <td>Экология города</td>\n",
              "      <td>Ростов-на-Дону</td>\n",
              "      <td>МарТ</td>\n",
              "      <td>2008</td>\n",
              "      <td>Учебный курс</td>\n",
              "      <td>Экология</td>\n",
              "      <td>NaN</td>\n",
              "    </tr>\n",
              "    <tr>\n",
              "      <th>11448</th>\n",
              "      <td>78</td>\n",
              "      <td>NaN</td>\n",
              "      <td>Охрана окружающей среды</td>\n",
              "      <td>Москва</td>\n",
              "      <td>Академия</td>\n",
              "      <td>2014</td>\n",
              "      <td>Высшее образование. Бакалавриат</td>\n",
              "      <td>Экология ; Охрана окружающей среды в целом. Ра...</td>\n",
              "      <td>NaN</td>\n",
              "    </tr>\n",
              "    <tr>\n",
              "      <th>11449</th>\n",
              "      <td>439076</td>\n",
              "      <td>NaN</td>\n",
              "      <td>Этикет от А до Я</td>\n",
              "      <td>Москва</td>\n",
              "      <td>АСТ</td>\n",
              "      <td>1996</td>\n",
              "      <td>NaN</td>\n",
              "      <td>Этика. Культура поведения и этикет</td>\n",
              "      <td>NaN</td>\n",
              "    </tr>\n",
              "    <tr>\n",
              "      <th>11450</th>\n",
              "      <td>82</td>\n",
              "      <td>Баландин Рудольф Константинович</td>\n",
              "      <td>Экология. Человек и природа</td>\n",
              "      <td>Москва</td>\n",
              "      <td>ОЛМА-Пресс</td>\n",
              "      <td>2001</td>\n",
              "      <td>NaN</td>\n",
              "      <td>Экология</td>\n",
              "      <td>NaN</td>\n",
              "    </tr>\n",
              "    <tr>\n",
              "      <th>11451</th>\n",
              "      <td>20584</td>\n",
              "      <td>Билан Дима Николаевич</td>\n",
              "      <td>Хроники</td>\n",
              "      <td>Москва</td>\n",
              "      <td>Астрель</td>\n",
              "      <td>2012</td>\n",
              "      <td>NaN</td>\n",
              "      <td>Эстрада</td>\n",
              "      <td>NaN</td>\n",
              "    </tr>\n",
              "  </tbody>\n",
              "</table>\n",
              "<p>11452 rows × 9 columns</p>\n",
              "</div>"
            ],
            "text/plain": [
              "       ИД Каталожной записи  ... p521a\n",
              "0                    406218  ...   12+\n",
              "1                    440047  ...   NaN\n",
              "2                     10673  ...   12+\n",
              "3                    510630  ...   NaN\n",
              "4                      9320  ...   NaN\n",
              "...                     ...  ...   ...\n",
              "11447                412995  ...   NaN\n",
              "11448                    78  ...   NaN\n",
              "11449                439076  ...   NaN\n",
              "11450                    82  ...   NaN\n",
              "11451                 20584  ...   NaN\n",
              "\n",
              "[11452 rows x 9 columns]"
            ]
          },
          "metadata": {
            "tags": []
          },
          "execution_count": 164
        }
      ]
    },
    {
      "cell_type": "markdown",
      "metadata": {
        "id": "c1hD7jwqffSv"
      },
      "source": [
        "Переход в мероприятия"
      ]
    },
    {
      "cell_type": "code",
      "metadata": {
        "id": "OvQvtm8tiuYu"
      },
      "source": [
        "def Average(lst): \n",
        "    return sum(lst) / len(lst)"
      ],
      "execution_count": 214,
      "outputs": []
    },
    {
      "cell_type": "code",
      "metadata": {
        "id": "EFR1Cu84hkV6"
      },
      "source": [
        "result_e = event[(event['from'] < Average(freqInfo(id_sim, 'Возраст')[:5]) ) &\n",
        "                 (event['to'] > Average(freqInfo(id_sim, 'Возраст')[:5]) )].copy()"
      ],
      "execution_count": 257,
      "outputs": []
    },
    {
      "cell_type": "code",
      "metadata": {
        "id": "ksN7GD9zjs8n",
        "outputId": "57d4c252-8ad0-4017-b40b-adc0b09a16a1",
        "colab": {
          "base_uri": "https://localhost:8080/",
          "height": 830
        }
      },
      "source": [
        "result_e"
      ],
      "execution_count": 221,
      "outputs": [
        {
          "output_type": "execute_result",
          "data": {
            "text/html": [
              "<div>\n",
              "<style scoped>\n",
              "    .dataframe tbody tr th:only-of-type {\n",
              "        vertical-align: middle;\n",
              "    }\n",
              "\n",
              "    .dataframe tbody tr th {\n",
              "        vertical-align: top;\n",
              "    }\n",
              "\n",
              "    .dataframe thead th {\n",
              "        text-align: right;\n",
              "    }\n",
              "</style>\n",
              "<table border=\"1\" class=\"dataframe\">\n",
              "  <thead>\n",
              "    <tr style=\"text-align: right;\">\n",
              "      <th></th>\n",
              "      <th>id</th>\n",
              "      <th>Статус</th>\n",
              "      <th>Направленность мероприятия</th>\n",
              "      <th>Дата начала мероприятия</th>\n",
              "      <th>Дата окончания мероприятия</th>\n",
              "      <th>Место проведения</th>\n",
              "      <th>Доступность мероприятия для лиц с ОВЗ</th>\n",
              "      <th>Возрастная категория</th>\n",
              "      <th>Код категории мероприятия</th>\n",
              "      <th>from</th>\n",
              "      <th>to</th>\n",
              "      <th>latitude</th>\n",
              "      <th>longitude</th>\n",
              "    </tr>\n",
              "  </thead>\n",
              "  <tbody>\n",
              "    <tr>\n",
              "      <th>0</th>\n",
              "      <td>1273</td>\n",
              "      <td>Утверждено</td>\n",
              "      <td>культурно-досуговое</td>\n",
              "      <td>2020-01-01 00:00:00</td>\n",
              "      <td>2020-12-31 00:00:00</td>\n",
              "      <td>Россия, Москва, Москва,  ул. Профсоюзная, д.123А</td>\n",
              "      <td>недоступно</td>\n",
              "      <td>от 0 до 90</td>\n",
              "      <td>4</td>\n",
              "      <td>0</td>\n",
              "      <td>90.0</td>\n",
              "      <td>37.539060</td>\n",
              "      <td>55.623961</td>\n",
              "    </tr>\n",
              "    <tr>\n",
              "      <th>1</th>\n",
              "      <td>1278</td>\n",
              "      <td>Утверждено</td>\n",
              "      <td>культурно-досуговое</td>\n",
              "      <td>2020-01-01 00:00:00</td>\n",
              "      <td>2020-12-31 00:00:00</td>\n",
              "      <td>Россия, Москва, Москва, ст. м. Проспект Вернад...</td>\n",
              "      <td>недоступно</td>\n",
              "      <td>от 0 до 90</td>\n",
              "      <td>4</td>\n",
              "      <td>0</td>\n",
              "      <td>90.0</td>\n",
              "      <td>37.505831</td>\n",
              "      <td>55.676910</td>\n",
              "    </tr>\n",
              "    <tr>\n",
              "      <th>2</th>\n",
              "      <td>1279</td>\n",
              "      <td>Утверждено</td>\n",
              "      <td>культурно-досуговое</td>\n",
              "      <td>2020-01-01 00:00:00</td>\n",
              "      <td>2020-12-31 00:00:00</td>\n",
              "      <td>Россия, Москва, Москва,  ст. м. Ясенево</td>\n",
              "      <td>недоступно</td>\n",
              "      <td>от 0 до 90</td>\n",
              "      <td>4</td>\n",
              "      <td>0</td>\n",
              "      <td>90.0</td>\n",
              "      <td>37.533400</td>\n",
              "      <td>55.606182</td>\n",
              "    </tr>\n",
              "    <tr>\n",
              "      <th>3</th>\n",
              "      <td>1280</td>\n",
              "      <td>Утверждено</td>\n",
              "      <td>культурно-досуговое</td>\n",
              "      <td>2020-01-01 00:00:00</td>\n",
              "      <td>2020-12-31 00:00:00</td>\n",
              "      <td>Россия, Москва, Москва,  ст. м. Тушино</td>\n",
              "      <td>недоступно</td>\n",
              "      <td>от 0 до 90</td>\n",
              "      <td>4</td>\n",
              "      <td>0</td>\n",
              "      <td>90.0</td>\n",
              "      <td>37.440263</td>\n",
              "      <td>55.827338</td>\n",
              "    </tr>\n",
              "    <tr>\n",
              "      <th>4</th>\n",
              "      <td>1282</td>\n",
              "      <td>Утверждено</td>\n",
              "      <td>культурно-досуговое</td>\n",
              "      <td>2020-01-01 00:00:00</td>\n",
              "      <td>2020-12-31 00:00:00</td>\n",
              "      <td>Россия, Москва, Москва, Загородное шоссе, вл. 2</td>\n",
              "      <td>недоступно</td>\n",
              "      <td>от 0 до 90</td>\n",
              "      <td>4</td>\n",
              "      <td>0</td>\n",
              "      <td>90.0</td>\n",
              "      <td>37.605400</td>\n",
              "      <td>55.698457</td>\n",
              "    </tr>\n",
              "    <tr>\n",
              "      <th>...</th>\n",
              "      <td>...</td>\n",
              "      <td>...</td>\n",
              "      <td>...</td>\n",
              "      <td>...</td>\n",
              "      <td>...</td>\n",
              "      <td>...</td>\n",
              "      <td>...</td>\n",
              "      <td>...</td>\n",
              "      <td>...</td>\n",
              "      <td>...</td>\n",
              "      <td>...</td>\n",
              "      <td>...</td>\n",
              "      <td>...</td>\n",
              "    </tr>\n",
              "    <tr>\n",
              "      <th>3729</th>\n",
              "      <td>583</td>\n",
              "      <td>Запланировано</td>\n",
              "      <td>просветительское</td>\n",
              "      <td>2020-12-15 00:00:00</td>\n",
              "      <td>2020-12-15 00:00:00</td>\n",
              "      <td>Очаковское шоссе 21, корпус 2</td>\n",
              "      <td>недоступно</td>\n",
              "      <td>от 16 до 70</td>\n",
              "      <td>8</td>\n",
              "      <td>16</td>\n",
              "      <td>70.0</td>\n",
              "      <td>37.451815</td>\n",
              "      <td>55.690583</td>\n",
              "    </tr>\n",
              "    <tr>\n",
              "      <th>3730</th>\n",
              "      <td>584</td>\n",
              "      <td>Запланировано</td>\n",
              "      <td>просветительское</td>\n",
              "      <td>2020-12-15 00:00:00</td>\n",
              "      <td>2020-12-15 00:00:00</td>\n",
              "      <td>Очаковское шоссе 21, корпус 2</td>\n",
              "      <td>недоступно</td>\n",
              "      <td>от 16 до 70</td>\n",
              "      <td>8</td>\n",
              "      <td>16</td>\n",
              "      <td>70.0</td>\n",
              "      <td>37.451815</td>\n",
              "      <td>55.690583</td>\n",
              "    </tr>\n",
              "    <tr>\n",
              "      <th>3731</th>\n",
              "      <td>1033</td>\n",
              "      <td>Запланировано</td>\n",
              "      <td>культурно-досуговое</td>\n",
              "      <td>2020-12-15 00:00:00</td>\n",
              "      <td>2020-12-15 00:00:00</td>\n",
              "      <td>Шушенская ул. 7</td>\n",
              "      <td>недоступно</td>\n",
              "      <td>от 12 до 90</td>\n",
              "      <td>4</td>\n",
              "      <td>12</td>\n",
              "      <td>90.0</td>\n",
              "      <td>37.683230</td>\n",
              "      <td>55.869723</td>\n",
              "    </tr>\n",
              "    <tr>\n",
              "      <th>3732</th>\n",
              "      <td>1449</td>\n",
              "      <td>Запланировано</td>\n",
              "      <td>культурно-досуговое</td>\n",
              "      <td>2020-12-15 00:00:00</td>\n",
              "      <td>2020-12-15 00:00:00</td>\n",
              "      <td>Крылатская ул. 29, корпус 2</td>\n",
              "      <td>недоступно</td>\n",
              "      <td>от 0 до 99</td>\n",
              "      <td>4</td>\n",
              "      <td>0</td>\n",
              "      <td>99.0</td>\n",
              "      <td>37.410879</td>\n",
              "      <td>55.770056</td>\n",
              "    </tr>\n",
              "    <tr>\n",
              "      <th>3733</th>\n",
              "      <td>1226</td>\n",
              "      <td>Запланировано</td>\n",
              "      <td>культурно-досуговое</td>\n",
              "      <td>2020-12-15 00:00:00</td>\n",
              "      <td>2020-12-15 00:00:00</td>\n",
              "      <td>Новослободская ул. 49/2</td>\n",
              "      <td>доступно</td>\n",
              "      <td>от 6 до 90</td>\n",
              "      <td>4</td>\n",
              "      <td>6</td>\n",
              "      <td>90.0</td>\n",
              "      <td>37.593480</td>\n",
              "      <td>55.786510</td>\n",
              "    </tr>\n",
              "  </tbody>\n",
              "</table>\n",
              "<p>2139 rows × 13 columns</p>\n",
              "</div>"
            ],
            "text/plain": [
              "        id         Статус  ...   latitude  longitude\n",
              "0     1273     Утверждено  ...  37.539060  55.623961\n",
              "1     1278     Утверждено  ...  37.505831  55.676910\n",
              "2     1279     Утверждено  ...  37.533400  55.606182\n",
              "3     1280     Утверждено  ...  37.440263  55.827338\n",
              "4     1282     Утверждено  ...  37.605400  55.698457\n",
              "...    ...            ...  ...        ...        ...\n",
              "3729   583  Запланировано  ...  37.451815  55.690583\n",
              "3730   584  Запланировано  ...  37.451815  55.690583\n",
              "3731  1033  Запланировано  ...  37.683230  55.869723\n",
              "3732  1449  Запланировано  ...  37.410879  55.770056\n",
              "3733  1226  Запланировано  ...  37.593480  55.786510\n",
              "\n",
              "[2139 rows x 13 columns]"
            ]
          },
          "metadata": {
            "tags": []
          },
          "execution_count": 221
        }
      ]
    },
    {
      "cell_type": "code",
      "metadata": {
        "id": "5_91_XYLjKWY"
      },
      "source": [
        "from sklearn.cluster import KMeans ,AgglomerativeClustering\n",
        "\n",
        "#Создает 125  кластеров, используя average кластеризацию. (Районов в Москве)\n",
        "agc = AgglomerativeClustering(n_clusters =125 , affinity='cosine', linkage='average')\n",
        "result_e['pickup cluster'] = agc.fit_predict(result_e[['longitude','latitude']])\n",
        "\n",
        "#Создает 125  кластеров, используя алгоритм кластеризации k-средних.\n",
        "kmeans = KMeans(125)\n",
        "clusters = kmeans.fit_predict(result_e[['longitude','latitude']])\n",
        "result_e['pickup cluster'] = kmeans.predict(result_e[['longitude','latitude']])"
      ],
      "execution_count": 258,
      "outputs": []
    },
    {
      "cell_type": "markdown",
      "metadata": {
        "id": "ZaQL1wNTkAoh"
      },
      "source": [
        "Проверка на геопозицию"
      ]
    },
    {
      "cell_type": "code",
      "metadata": {
        "id": "4rheSpsckLxO"
      },
      "source": [
        "position = \"Красная площадь, 3\""
      ],
      "execution_count": 259,
      "outputs": []
    },
    {
      "cell_type": "code",
      "metadata": {
        "id": "ncU8m8XJkKZE",
        "outputId": "151dc152-8f31-49e7-9f89-7cacb44a9e72",
        "colab": {
          "base_uri": "https://localhost:8080/"
        }
      },
      "source": [
        "longitude = float(client.coordinates(position + \"Москва\")[1])\n",
        "latitude = float(client.coordinates(position + \"Москва\")[0])\n",
        "print(longitude,latitude)"
      ],
      "execution_count": 260,
      "outputs": [
        {
          "output_type": "stream",
          "text": [
            "55.754638 37.621633\n"
          ],
          "name": "stdout"
        }
      ]
    },
    {
      "cell_type": "code",
      "metadata": {
        "id": "Jx99Le8skEm9"
      },
      "source": [
        "def haversine_distance(row):\n",
        "    lat_p, lon_p = row['longitude'], row['latitude']\n",
        "    lat_d, lon_d = longitude,latitude\n",
        "    radius =  6371 # km\n",
        "\n",
        "    dlat = np.radians(lat_d - lat_p)\n",
        "    dlon = np.radians(lon_d - lon_p)\n",
        "    a = np.sin(dlat/2) * np.sin(dlat/2) + np.cos(np.radians(lat_p)) * np.cos(np.radians(lat_d)) * np.sin(dlon/2) * np.sin(dlon/2)\n",
        "    c = 2 * np.arctan2(np.sqrt(a), np.sqrt(1-a))\n",
        "    distance = radius * c\n",
        "\n",
        "    return distance"
      ],
      "execution_count": 261,
      "outputs": []
    },
    {
      "cell_type": "code",
      "metadata": {
        "id": "Zd1_o3thkF4F"
      },
      "source": [
        "result_e['distance'] = result_e.apply(haversine_distance, axis = 1)"
      ],
      "execution_count": 262,
      "outputs": []
    },
    {
      "cell_type": "code",
      "metadata": {
        "id": "jn0tmlTcfd-f"
      },
      "source": [
        "result_e = result_e.sort_values(by='distance', ascending=True)[:50]"
      ],
      "execution_count": 256,
      "outputs": []
    },
    {
      "cell_type": "code",
      "metadata": {
        "id": "1IPKzzTak-zz"
      },
      "source": [
        "result_e = result_e.sort_values(by='Дата начала мероприятия', ascending=True)[:25]"
      ],
      "execution_count": 246,
      "outputs": []
    },
    {
      "cell_type": "code",
      "metadata": {
        "id": "FPFNrRn2lOT_",
        "outputId": "ff7689c1-ceab-49d1-a747-b4d62b6574a0",
        "colab": {
          "base_uri": "https://localhost:8080/",
          "height": 978
        }
      },
      "source": [
        "result_e[result_e['Доступность мероприятия для лиц с ОВЗ'] == 'доступно'].drop(columns=['id', 'Статус', 'Код категории мероприятия','from','to','latitude',\t'longitude', 'pickup cluster', 'distance'])"
      ],
      "execution_count": 249,
      "outputs": [
        {
          "output_type": "execute_result",
          "data": {
            "text/html": [
              "<div>\n",
              "<style scoped>\n",
              "    .dataframe tbody tr th:only-of-type {\n",
              "        vertical-align: middle;\n",
              "    }\n",
              "\n",
              "    .dataframe tbody tr th {\n",
              "        vertical-align: top;\n",
              "    }\n",
              "\n",
              "    .dataframe thead th {\n",
              "        text-align: right;\n",
              "    }\n",
              "</style>\n",
              "<table border=\"1\" class=\"dataframe\">\n",
              "  <thead>\n",
              "    <tr style=\"text-align: right;\">\n",
              "      <th></th>\n",
              "      <th>Направленность мероприятия</th>\n",
              "      <th>Дата начала мероприятия</th>\n",
              "      <th>Дата окончания мероприятия</th>\n",
              "      <th>Место проведения</th>\n",
              "      <th>Доступность мероприятия для лиц с ОВЗ</th>\n",
              "      <th>Возрастная категория</th>\n",
              "    </tr>\n",
              "  </thead>\n",
              "  <tbody>\n",
              "    <tr>\n",
              "      <th>20</th>\n",
              "      <td>культурно-досуговое</td>\n",
              "      <td>2020-01-09 00:00:00</td>\n",
              "      <td>2020-12-23 00:00:00</td>\n",
              "      <td>Бобров пер. 6, строение 2, Тургеневская гостин...</td>\n",
              "      <td>доступно</td>\n",
              "      <td>от 12 до 99</td>\n",
              "    </tr>\n",
              "    <tr>\n",
              "      <th>22</th>\n",
              "      <td>культурно-досуговое</td>\n",
              "      <td>2020-01-09 00:00:00</td>\n",
              "      <td>2020-12-23 00:00:00</td>\n",
              "      <td>Бобров пер. 6, строение 2, Тургеневская гостин...</td>\n",
              "      <td>доступно</td>\n",
              "      <td>от 12 до 99</td>\n",
              "    </tr>\n",
              "    <tr>\n",
              "      <th>21</th>\n",
              "      <td>культурно-досуговое</td>\n",
              "      <td>2020-01-09 00:00:00</td>\n",
              "      <td>2020-12-23 00:00:00</td>\n",
              "      <td>Бобров пер. 6, строение 2, Тургеневская гостин...</td>\n",
              "      <td>доступно</td>\n",
              "      <td>от 12 до 99</td>\n",
              "    </tr>\n",
              "    <tr>\n",
              "      <th>51</th>\n",
              "      <td>культурно-досуговое</td>\n",
              "      <td>2020-03-02 00:00:00</td>\n",
              "      <td>2020-12-30 00:00:00</td>\n",
              "      <td>Бобров пер. 6, строение 1, Большой читальный з...</td>\n",
              "      <td>доступно</td>\n",
              "      <td>от 16 до 99</td>\n",
              "    </tr>\n",
              "    <tr>\n",
              "      <th>52</th>\n",
              "      <td>культурно-досуговое</td>\n",
              "      <td>2020-03-02 00:00:00</td>\n",
              "      <td>2020-12-30 00:00:00</td>\n",
              "      <td>Бобров пер. 6, строение 1, Большой читальный з...</td>\n",
              "      <td>доступно</td>\n",
              "      <td>от 16 до 99</td>\n",
              "    </tr>\n",
              "    <tr>\n",
              "      <th>50</th>\n",
              "      <td>культурно-досуговое</td>\n",
              "      <td>2020-03-02 00:00:00</td>\n",
              "      <td>2020-12-30 00:00:00</td>\n",
              "      <td>Бобров пер. 6, строение 1, Большой читальный з...</td>\n",
              "      <td>доступно</td>\n",
              "      <td>от 16 до 99</td>\n",
              "    </tr>\n",
              "    <tr>\n",
              "      <th>891</th>\n",
              "      <td>культурно-досуговое</td>\n",
              "      <td>2020-10-21 00:00:00</td>\n",
              "      <td>2020-10-21 00:00:00</td>\n",
              "      <td>Никитский бульв. 7А</td>\n",
              "      <td>доступно</td>\n",
              "      <td>от 12 до 70</td>\n",
              "    </tr>\n",
              "    <tr>\n",
              "      <th>1045</th>\n",
              "      <td>культурно-досуговое</td>\n",
              "      <td>2020-10-22 00:00:00</td>\n",
              "      <td>2020-10-22 00:00:00</td>\n",
              "      <td>Страстной бульв. 6, строение 2</td>\n",
              "      <td>доступно</td>\n",
              "      <td>от 16 до 70</td>\n",
              "    </tr>\n",
              "    <tr>\n",
              "      <th>954</th>\n",
              "      <td>культурно-досуговое</td>\n",
              "      <td>2020-10-22 00:00:00</td>\n",
              "      <td>2020-10-22 00:00:00</td>\n",
              "      <td>Чистопрудный бульв. 23, строение 1</td>\n",
              "      <td>доступно</td>\n",
              "      <td>от 18 до 75</td>\n",
              "    </tr>\n",
              "    <tr>\n",
              "      <th>1290</th>\n",
              "      <td>культурно-досуговое</td>\n",
              "      <td>2020-10-26 00:00:00</td>\n",
              "      <td>2020-10-26 00:00:00</td>\n",
              "      <td>Чистопрудный бульв. 23, строение 1</td>\n",
              "      <td>доступно</td>\n",
              "      <td>от 18 до 75</td>\n",
              "    </tr>\n",
              "    <tr>\n",
              "      <th>1488</th>\n",
              "      <td>безопасность движения</td>\n",
              "      <td>2020-10-28 00:00:00</td>\n",
              "      <td>2020-10-28 00:00:00</td>\n",
              "      <td>Страстной бульв. 6, строение 2</td>\n",
              "      <td>доступно</td>\n",
              "      <td>от 16 до 60</td>\n",
              "    </tr>\n",
              "    <tr>\n",
              "      <th>346</th>\n",
              "      <td>просветительское</td>\n",
              "      <td>2020-10-28 18:30:00</td>\n",
              "      <td>28.10.2020 20:00</td>\n",
              "      <td>Никитский бульв. 7А</td>\n",
              "      <td>доступно</td>\n",
              "      <td>от 12 до 70</td>\n",
              "    </tr>\n",
              "    <tr>\n",
              "      <th>157</th>\n",
              "      <td>просветительское</td>\n",
              "      <td>2020-10-29 19:00:00</td>\n",
              "      <td>29.10.2020 21:00</td>\n",
              "      <td>Страстной бульв. 6, строение 2</td>\n",
              "      <td>доступно</td>\n",
              "      <td>от 16 до 60</td>\n",
              "    </tr>\n",
              "    <tr>\n",
              "      <th>1575</th>\n",
              "      <td>культурно-досуговое</td>\n",
              "      <td>2020-10-30 00:00:00</td>\n",
              "      <td>2020-10-30 00:00:00</td>\n",
              "      <td>Чистопрудный бульв. 23, строение 1</td>\n",
              "      <td>доступно</td>\n",
              "      <td>от 18 до 75</td>\n",
              "    </tr>\n",
              "    <tr>\n",
              "      <th>1756</th>\n",
              "      <td>просветительское</td>\n",
              "      <td>2020-11-03 00:00:00</td>\n",
              "      <td>2020-11-03 00:00:00</td>\n",
              "      <td>Чистопрудный бульв. 23, строение 1</td>\n",
              "      <td>доступно</td>\n",
              "      <td>от 18 до 75</td>\n",
              "    </tr>\n",
              "    <tr>\n",
              "      <th>2004</th>\n",
              "      <td>культурно-досуговое</td>\n",
              "      <td>2020-11-05 00:00:00</td>\n",
              "      <td>2020-11-05 00:00:00</td>\n",
              "      <td>Страстной бульв. 6, строение 2</td>\n",
              "      <td>доступно</td>\n",
              "      <td>от 6 до 60</td>\n",
              "    </tr>\n",
              "    <tr>\n",
              "      <th>130</th>\n",
              "      <td>культурно-досуговое</td>\n",
              "      <td>2020-11-05 10:00:00</td>\n",
              "      <td>05.11.2020 12:00</td>\n",
              "      <td>Чистопрудный бульв. 23, строение 1</td>\n",
              "      <td>доступно</td>\n",
              "      <td>от 18 до 75</td>\n",
              "    </tr>\n",
              "    <tr>\n",
              "      <th>2099</th>\n",
              "      <td>культурно-досуговое</td>\n",
              "      <td>2020-11-07 00:00:00</td>\n",
              "      <td>2020-11-07 00:00:00</td>\n",
              "      <td>Никитский бульв. 7А</td>\n",
              "      <td>доступно</td>\n",
              "      <td>от 6 до 70</td>\n",
              "    </tr>\n",
              "    <tr>\n",
              "      <th>131</th>\n",
              "      <td>культурно-досуговое</td>\n",
              "      <td>2020-11-08 10:00:00</td>\n",
              "      <td>08.11.2020 12:00</td>\n",
              "      <td>Чистопрудный бульв. 23, строение 1</td>\n",
              "      <td>доступно</td>\n",
              "      <td>от 18 до 75</td>\n",
              "    </tr>\n",
              "  </tbody>\n",
              "</table>\n",
              "</div>"
            ],
            "text/plain": [
              "     Направленность мероприятия  ... Возрастная категория\n",
              "20          культурно-досуговое  ...          от 12 до 99\n",
              "22          культурно-досуговое  ...          от 12 до 99\n",
              "21          культурно-досуговое  ...          от 12 до 99\n",
              "51          культурно-досуговое  ...          от 16 до 99\n",
              "52          культурно-досуговое  ...          от 16 до 99\n",
              "50          культурно-досуговое  ...          от 16 до 99\n",
              "891         культурно-досуговое  ...          от 12 до 70\n",
              "1045        культурно-досуговое  ...          от 16 до 70\n",
              "954         культурно-досуговое  ...          от 18 до 75\n",
              "1290        культурно-досуговое  ...          от 18 до 75\n",
              "1488      безопасность движения  ...          от 16 до 60\n",
              "346            просветительское  ...          от 12 до 70\n",
              "157            просветительское  ...          от 16 до 60\n",
              "1575        культурно-досуговое  ...          от 18 до 75\n",
              "1756           просветительское  ...          от 18 до 75\n",
              "2004        культурно-досуговое  ...           от 6 до 60\n",
              "130         культурно-досуговое  ...          от 18 до 75\n",
              "2099        культурно-досуговое  ...           от 6 до 70\n",
              "131         культурно-досуговое  ...          от 18 до 75\n",
              "\n",
              "[19 rows x 6 columns]"
            ]
          },
          "metadata": {
            "tags": []
          },
          "execution_count": 249
        }
      ]
    },
    {
      "cell_type": "markdown",
      "metadata": {
        "id": "Pc8L3BAThcT_"
      },
      "source": [
        "Категории"
      ]
    },
    {
      "cell_type": "code",
      "metadata": {
        "id": "gHAhili2gWjE"
      },
      "source": [
        "pd.merge(book_user[['ИД Каталожной записи','genre','classif']],catalog,how='left',left_on='ИД Каталожной записи',right_on='doc_id')[['p650a','classif']].drop_duplicates().to_excel('table_book.xlsx', index = False)"
      ],
      "execution_count": 201,
      "outputs": []
    },
    {
      "cell_type": "code",
      "metadata": {
        "id": "4WbIAElDfcJS"
      },
      "source": [
        "oraniz_test[['Наименование_услуги','classif']].drop_duplicates().to_excel('table_org.xlsx', index = False)"
      ],
      "execution_count": 202,
      "outputs": []
    }
  ]
}